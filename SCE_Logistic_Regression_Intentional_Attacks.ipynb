{
  "cells": [
    {
      "cell_type": "markdown",
      "metadata": {
        "id": "view-in-github",
        "colab_type": "text"
      },
      "source": [
        "<a href=\"https://colab.research.google.com/github/dton24/PortfolioProjects/blob/main/SCE_Logistic_Regression_Intentional_Attacks.ipynb\" target=\"_parent\"><img src=\"https://colab.research.google.com/assets/colab-badge.svg\" alt=\"Open In Colab\"/></a>"
      ]
    },
    {
      "cell_type": "code",
      "execution_count": null,
      "id": "3d62fd79-5903-4f97-bb80-c636e939687a",
      "metadata": {
        "id": "3d62fd79-5903-4f97-bb80-c636e939687a",
        "outputId": "96f76917-ba94-40e1-99f6-9ec283557d27"
      },
      "outputs": [
        {
          "name": "stdout",
          "output_type": "stream",
          "text": [
            "no display found. Using non-interactive Agg backend\n"
          ]
        }
      ],
      "source": [
        "%matplotlib inline\n",
        "from pathlib import Path\n",
        "\n",
        "import numpy as np\n",
        "import pandas as pd\n",
        "from sklearn.linear_model import LogisticRegression, LogisticRegressionCV\n",
        "from sklearn.model_selection import train_test_split\n",
        "import statsmodels.api as sm\n",
        "import matplotlib.pylab as plt\n",
        "import seaborn as sns\n",
        "from dmba import classificationSummary, gainsChart, liftChart\n",
        "import statsmodels.api as sm\n",
        "from dmba.metric import AIC_score"
      ]
    },
    {
      "cell_type": "markdown",
      "id": "4656de34-4773-44c0-be37-c08a7ba7f2a2",
      "metadata": {
        "id": "4656de34-4773-44c0-be37-c08a7ba7f2a2"
      },
      "source": [
        "### Preprocessing"
      ]
    },
    {
      "cell_type": "code",
      "execution_count": null,
      "id": "120a3b69-d6aa-4f16-9e19-d48c45b7bcbd",
      "metadata": {
        "id": "120a3b69-d6aa-4f16-9e19-d48c45b7bcbd"
      },
      "outputs": [],
      "source": [
        "df = pd.read_excel('vandalism_log_reg.xlsx', sheet_name = 'second')"
      ]
    },
    {
      "cell_type": "code",
      "execution_count": null,
      "id": "52a41bb9-239b-4a99-93c7-cdbf7e84fb8f",
      "metadata": {
        "id": "52a41bb9-239b-4a99-93c7-cdbf7e84fb8f",
        "outputId": "3aeae713-0306-4616-96e1-84499b511a85"
      },
      "outputs": [
        {
          "data": {
            "text/html": [
              "<div>\n",
              "<style scoped>\n",
              "    .dataframe tbody tr th:only-of-type {\n",
              "        vertical-align: middle;\n",
              "    }\n",
              "\n",
              "    .dataframe tbody tr th {\n",
              "        vertical-align: top;\n",
              "    }\n",
              "\n",
              "    .dataframe thead th {\n",
              "        text-align: right;\n",
              "    }\n",
              "</style>\n",
              "<table border=\"1\" class=\"dataframe\">\n",
              "  <thead>\n",
              "    <tr style=\"text-align: right;\">\n",
              "      <th></th>\n",
              "      <th>SEASON</th>\n",
              "      <th>OUTAGE_START</th>\n",
              "      <th>DAY_OF_OUTAGE</th>\n",
              "      <th>INTENTIONAL ATTACK</th>\n",
              "      <th>OUTAGE.DURATION</th>\n",
              "      <th>RESIDENTIAL</th>\n",
              "      <th>COMMERCIAL</th>\n",
              "      <th>INDUSTRIAL</th>\n",
              "    </tr>\n",
              "  </thead>\n",
              "  <tbody>\n",
              "    <tr>\n",
              "      <th>0</th>\n",
              "      <td>Summer</td>\n",
              "      <td>Afternoon</td>\n",
              "      <td>Friday</td>\n",
              "      <td>0</td>\n",
              "      <td>3060.0</td>\n",
              "      <td>2308736</td>\n",
              "      <td>276286</td>\n",
              "      <td>10673</td>\n",
              "    </tr>\n",
              "    <tr>\n",
              "      <th>1</th>\n",
              "      <td>Spring</td>\n",
              "      <td>Evening</td>\n",
              "      <td>Sunday</td>\n",
              "      <td>1</td>\n",
              "      <td>1.0</td>\n",
              "      <td>2345860</td>\n",
              "      <td>284978</td>\n",
              "      <td>9898</td>\n",
              "    </tr>\n",
              "    <tr>\n",
              "      <th>2</th>\n",
              "      <td>Autumn</td>\n",
              "      <td>Evening</td>\n",
              "      <td>Tuesday</td>\n",
              "      <td>0</td>\n",
              "      <td>3000.0</td>\n",
              "      <td>2300291</td>\n",
              "      <td>276463</td>\n",
              "      <td>10150</td>\n",
              "    </tr>\n",
              "    <tr>\n",
              "      <th>3</th>\n",
              "      <td>Summer</td>\n",
              "      <td>Night</td>\n",
              "      <td>Tuesday</td>\n",
              "      <td>0</td>\n",
              "      <td>2550.0</td>\n",
              "      <td>2317336</td>\n",
              "      <td>278466</td>\n",
              "      <td>11010</td>\n",
              "    </tr>\n",
              "    <tr>\n",
              "      <th>4</th>\n",
              "      <td>Summer</td>\n",
              "      <td>Night</td>\n",
              "      <td>Saturday</td>\n",
              "      <td>0</td>\n",
              "      <td>1740.0</td>\n",
              "      <td>2374674</td>\n",
              "      <td>289044</td>\n",
              "      <td>9812</td>\n",
              "    </tr>\n",
              "    <tr>\n",
              "      <th>...</th>\n",
              "      <td>...</td>\n",
              "      <td>...</td>\n",
              "      <td>...</td>\n",
              "      <td>...</td>\n",
              "      <td>...</td>\n",
              "      <td>...</td>\n",
              "      <td>...</td>\n",
              "      <td>...</td>\n",
              "    </tr>\n",
              "    <tr>\n",
              "      <th>1529</th>\n",
              "      <td>Winter</td>\n",
              "      <td>Morning</td>\n",
              "      <td>Tuesday</td>\n",
              "      <td>0</td>\n",
              "      <td>720.0</td>\n",
              "      <td>330738</td>\n",
              "      <td>60017</td>\n",
              "      <td>3639</td>\n",
              "    </tr>\n",
              "    <tr>\n",
              "      <th>1530</th>\n",
              "      <td>Unknown</td>\n",
              "      <td>NaN</td>\n",
              "      <td>NaN</td>\n",
              "      <td>0</td>\n",
              "      <td>NaN</td>\n",
              "      <td>309997</td>\n",
              "      <td>53709</td>\n",
              "      <td>2331</td>\n",
              "    </tr>\n",
              "    <tr>\n",
              "      <th>1531</th>\n",
              "      <td>Summer</td>\n",
              "      <td>Night</td>\n",
              "      <td>Saturday</td>\n",
              "      <td>0</td>\n",
              "      <td>59.0</td>\n",
              "      <td>367206</td>\n",
              "      <td>65971</td>\n",
              "      <td>3052</td>\n",
              "    </tr>\n",
              "    <tr>\n",
              "      <th>1532</th>\n",
              "      <td>Summer</td>\n",
              "      <td>Morning</td>\n",
              "      <td>Saturday</td>\n",
              "      <td>0</td>\n",
              "      <td>181.0</td>\n",
              "      <td>367206</td>\n",
              "      <td>65971</td>\n",
              "      <td>3052</td>\n",
              "    </tr>\n",
              "    <tr>\n",
              "      <th>1533</th>\n",
              "      <td>Unknown</td>\n",
              "      <td>NaN</td>\n",
              "      <td>NaN</td>\n",
              "      <td>0</td>\n",
              "      <td>NaN</td>\n",
              "      <td>230534</td>\n",
              "      <td>38074</td>\n",
              "      <td>854</td>\n",
              "    </tr>\n",
              "  </tbody>\n",
              "</table>\n",
              "<p>1534 rows × 8 columns</p>\n",
              "</div>"
            ],
            "text/plain": [
              "       SEASON OUTAGE_START DAY_OF_OUTAGE  INTENTIONAL ATTACK  OUTAGE.DURATION  \\\n",
              "0      Summer    Afternoon        Friday                   0           3060.0   \n",
              "1      Spring      Evening        Sunday                   1              1.0   \n",
              "2      Autumn      Evening       Tuesday                   0           3000.0   \n",
              "3      Summer        Night       Tuesday                   0           2550.0   \n",
              "4      Summer        Night      Saturday                   0           1740.0   \n",
              "...       ...          ...           ...                 ...              ...   \n",
              "1529   Winter      Morning       Tuesday                   0            720.0   \n",
              "1530  Unknown          NaN           NaN                   0              NaN   \n",
              "1531   Summer        Night      Saturday                   0             59.0   \n",
              "1532   Summer      Morning      Saturday                   0            181.0   \n",
              "1533  Unknown          NaN           NaN                   0              NaN   \n",
              "\n",
              "      RESIDENTIAL  COMMERCIAL  INDUSTRIAL  \n",
              "0         2308736      276286       10673  \n",
              "1         2345860      284978        9898  \n",
              "2         2300291      276463       10150  \n",
              "3         2317336      278466       11010  \n",
              "4         2374674      289044        9812  \n",
              "...           ...         ...         ...  \n",
              "1529       330738       60017        3639  \n",
              "1530       309997       53709        2331  \n",
              "1531       367206       65971        3052  \n",
              "1532       367206       65971        3052  \n",
              "1533       230534       38074         854  \n",
              "\n",
              "[1534 rows x 8 columns]"
            ]
          },
          "execution_count": 4,
          "metadata": {},
          "output_type": "execute_result"
        }
      ],
      "source": [
        "df"
      ]
    },
    {
      "cell_type": "code",
      "execution_count": null,
      "id": "a1eed864-2316-4fdd-8c91-f37df4230135",
      "metadata": {
        "id": "a1eed864-2316-4fdd-8c91-f37df4230135",
        "outputId": "748bc072-f973-4995-b089-84a2b360d5b4"
      },
      "outputs": [
        {
          "data": {
            "text/plain": [
              "SEASON                 0\n",
              "OUTAGE_START           9\n",
              "DAY_OF_OUTAGE          9\n",
              "INTENTIONAL ATTACK     0\n",
              "OUTAGE.DURATION       58\n",
              "RESIDENTIAL            0\n",
              "COMMERCIAL             0\n",
              "INDUSTRIAL             0\n",
              "dtype: int64"
            ]
          },
          "execution_count": 5,
          "metadata": {},
          "output_type": "execute_result"
        }
      ],
      "source": [
        "df.isna().sum()"
      ]
    },
    {
      "cell_type": "code",
      "execution_count": null,
      "id": "0cce95db-3412-46de-af71-c7d69085ca9b",
      "metadata": {
        "id": "0cce95db-3412-46de-af71-c7d69085ca9b",
        "outputId": "51d1a32b-3b92-49c9-8166-07a9fca291bb"
      },
      "outputs": [
        {
          "data": {
            "text/html": [
              "<div>\n",
              "<style scoped>\n",
              "    .dataframe tbody tr th:only-of-type {\n",
              "        vertical-align: middle;\n",
              "    }\n",
              "\n",
              "    .dataframe tbody tr th {\n",
              "        vertical-align: top;\n",
              "    }\n",
              "\n",
              "    .dataframe thead th {\n",
              "        text-align: right;\n",
              "    }\n",
              "</style>\n",
              "<table border=\"1\" class=\"dataframe\">\n",
              "  <thead>\n",
              "    <tr style=\"text-align: right;\">\n",
              "      <th></th>\n",
              "      <th>SEASON</th>\n",
              "      <th>OUTAGE_START</th>\n",
              "      <th>DAY_OF_OUTAGE</th>\n",
              "      <th>INTENTIONAL ATTACK</th>\n",
              "      <th>OUTAGE.DURATION</th>\n",
              "      <th>RESIDENTIAL</th>\n",
              "      <th>COMMERCIAL</th>\n",
              "      <th>INDUSTRIAL</th>\n",
              "    </tr>\n",
              "  </thead>\n",
              "  <tbody>\n",
              "    <tr>\n",
              "      <th>0</th>\n",
              "      <td>Summer</td>\n",
              "      <td>Afternoon</td>\n",
              "      <td>Friday</td>\n",
              "      <td>0</td>\n",
              "      <td>3060.0</td>\n",
              "      <td>2308736</td>\n",
              "      <td>276286</td>\n",
              "      <td>10673</td>\n",
              "    </tr>\n",
              "    <tr>\n",
              "      <th>1</th>\n",
              "      <td>Spring</td>\n",
              "      <td>Evening</td>\n",
              "      <td>Sunday</td>\n",
              "      <td>1</td>\n",
              "      <td>1.0</td>\n",
              "      <td>2345860</td>\n",
              "      <td>284978</td>\n",
              "      <td>9898</td>\n",
              "    </tr>\n",
              "    <tr>\n",
              "      <th>2</th>\n",
              "      <td>Autumn</td>\n",
              "      <td>Evening</td>\n",
              "      <td>Tuesday</td>\n",
              "      <td>0</td>\n",
              "      <td>3000.0</td>\n",
              "      <td>2300291</td>\n",
              "      <td>276463</td>\n",
              "      <td>10150</td>\n",
              "    </tr>\n",
              "    <tr>\n",
              "      <th>3</th>\n",
              "      <td>Summer</td>\n",
              "      <td>Night</td>\n",
              "      <td>Tuesday</td>\n",
              "      <td>0</td>\n",
              "      <td>2550.0</td>\n",
              "      <td>2317336</td>\n",
              "      <td>278466</td>\n",
              "      <td>11010</td>\n",
              "    </tr>\n",
              "    <tr>\n",
              "      <th>4</th>\n",
              "      <td>Summer</td>\n",
              "      <td>Night</td>\n",
              "      <td>Saturday</td>\n",
              "      <td>0</td>\n",
              "      <td>1740.0</td>\n",
              "      <td>2374674</td>\n",
              "      <td>289044</td>\n",
              "      <td>9812</td>\n",
              "    </tr>\n",
              "    <tr>\n",
              "      <th>...</th>\n",
              "      <td>...</td>\n",
              "      <td>...</td>\n",
              "      <td>...</td>\n",
              "      <td>...</td>\n",
              "      <td>...</td>\n",
              "      <td>...</td>\n",
              "      <td>...</td>\n",
              "      <td>...</td>\n",
              "    </tr>\n",
              "    <tr>\n",
              "      <th>1526</th>\n",
              "      <td>Spring</td>\n",
              "      <td>Night</td>\n",
              "      <td>Tuesday</td>\n",
              "      <td>1</td>\n",
              "      <td>0.0</td>\n",
              "      <td>714365</td>\n",
              "      <td>107551</td>\n",
              "      <td>27847</td>\n",
              "    </tr>\n",
              "    <tr>\n",
              "      <th>1528</th>\n",
              "      <td>Summer</td>\n",
              "      <td>Afternoon</td>\n",
              "      <td>Tuesday</td>\n",
              "      <td>0</td>\n",
              "      <td>220.0</td>\n",
              "      <td>714365</td>\n",
              "      <td>107551</td>\n",
              "      <td>27847</td>\n",
              "    </tr>\n",
              "    <tr>\n",
              "      <th>1529</th>\n",
              "      <td>Winter</td>\n",
              "      <td>Morning</td>\n",
              "      <td>Tuesday</td>\n",
              "      <td>0</td>\n",
              "      <td>720.0</td>\n",
              "      <td>330738</td>\n",
              "      <td>60017</td>\n",
              "      <td>3639</td>\n",
              "    </tr>\n",
              "    <tr>\n",
              "      <th>1531</th>\n",
              "      <td>Summer</td>\n",
              "      <td>Night</td>\n",
              "      <td>Saturday</td>\n",
              "      <td>0</td>\n",
              "      <td>59.0</td>\n",
              "      <td>367206</td>\n",
              "      <td>65971</td>\n",
              "      <td>3052</td>\n",
              "    </tr>\n",
              "    <tr>\n",
              "      <th>1532</th>\n",
              "      <td>Summer</td>\n",
              "      <td>Morning</td>\n",
              "      <td>Saturday</td>\n",
              "      <td>0</td>\n",
              "      <td>181.0</td>\n",
              "      <td>367206</td>\n",
              "      <td>65971</td>\n",
              "      <td>3052</td>\n",
              "    </tr>\n",
              "  </tbody>\n",
              "</table>\n",
              "<p>1476 rows × 8 columns</p>\n",
              "</div>"
            ],
            "text/plain": [
              "      SEASON OUTAGE_START DAY_OF_OUTAGE  INTENTIONAL ATTACK  OUTAGE.DURATION  \\\n",
              "0     Summer    Afternoon        Friday                   0           3060.0   \n",
              "1     Spring      Evening        Sunday                   1              1.0   \n",
              "2     Autumn      Evening       Tuesday                   0           3000.0   \n",
              "3     Summer        Night       Tuesday                   0           2550.0   \n",
              "4     Summer        Night      Saturday                   0           1740.0   \n",
              "...      ...          ...           ...                 ...              ...   \n",
              "1526  Spring        Night       Tuesday                   1              0.0   \n",
              "1528  Summer    Afternoon       Tuesday                   0            220.0   \n",
              "1529  Winter      Morning       Tuesday                   0            720.0   \n",
              "1531  Summer        Night      Saturday                   0             59.0   \n",
              "1532  Summer      Morning      Saturday                   0            181.0   \n",
              "\n",
              "      RESIDENTIAL  COMMERCIAL  INDUSTRIAL  \n",
              "0         2308736      276286       10673  \n",
              "1         2345860      284978        9898  \n",
              "2         2300291      276463       10150  \n",
              "3         2317336      278466       11010  \n",
              "4         2374674      289044        9812  \n",
              "...           ...         ...         ...  \n",
              "1526       714365      107551       27847  \n",
              "1528       714365      107551       27847  \n",
              "1529       330738       60017        3639  \n",
              "1531       367206       65971        3052  \n",
              "1532       367206       65971        3052  \n",
              "\n",
              "[1476 rows x 8 columns]"
            ]
          },
          "execution_count": 6,
          "metadata": {},
          "output_type": "execute_result"
        }
      ],
      "source": [
        "df.dropna()"
      ]
    },
    {
      "cell_type": "markdown",
      "id": "2e502c3c-9ceb-4ed2-983e-3231b080aa84",
      "metadata": {
        "id": "2e502c3c-9ceb-4ed2-983e-3231b080aa84"
      },
      "source": [
        "Explore categorical variables"
      ]
    },
    {
      "cell_type": "code",
      "execution_count": null,
      "id": "c5a5ae43-84be-4bef-a8d0-f92be5e6e929",
      "metadata": {
        "id": "c5a5ae43-84be-4bef-a8d0-f92be5e6e929",
        "outputId": "9ea87259-8b46-4ff1-a59d-52ea2399808b"
      },
      "outputs": [
        {
          "data": {
            "text/plain": [
              "array([0, 1])"
            ]
          },
          "execution_count": 8,
          "metadata": {},
          "output_type": "execute_result"
        }
      ],
      "source": [
        "df['INTENTIONAL ATTACK'].unique()"
      ]
    },
    {
      "cell_type": "code",
      "execution_count": null,
      "id": "01b4d84e-9896-4ef6-a205-161ae8d9fb01",
      "metadata": {
        "id": "01b4d84e-9896-4ef6-a205-161ae8d9fb01",
        "outputId": "feb945ec-45e9-49ef-d743-b89317df67bd"
      },
      "outputs": [
        {
          "data": {
            "text/plain": [
              "dtype('int64')"
            ]
          },
          "execution_count": 9,
          "metadata": {},
          "output_type": "execute_result"
        }
      ],
      "source": [
        "df['INTENTIONAL ATTACK'].dtype"
      ]
    },
    {
      "cell_type": "code",
      "execution_count": null,
      "id": "ab456720-3ba2-49e0-acc4-ca5b9deb1ec8",
      "metadata": {
        "id": "ab456720-3ba2-49e0-acc4-ca5b9deb1ec8",
        "outputId": "bbb4609b-8df6-4f39-cb47-22f78c197e42"
      },
      "outputs": [
        {
          "data": {
            "text/plain": [
              "array(['Summer', 'Spring', 'Autumn', 'Winter', 'Unknown'], dtype=object)"
            ]
          },
          "execution_count": 10,
          "metadata": {},
          "output_type": "execute_result"
        }
      ],
      "source": [
        "df['SEASON'].unique()"
      ]
    },
    {
      "cell_type": "code",
      "execution_count": null,
      "id": "8aee7c44-8e4d-497b-8bea-ab13a35ff1c4",
      "metadata": {
        "id": "8aee7c44-8e4d-497b-8bea-ab13a35ff1c4"
      },
      "outputs": [],
      "source": [
        "# Drop rows where the 'SEASON' column has the value 'Unknown'\n",
        "df = df[df['SEASON'] != 'Unknown']"
      ]
    },
    {
      "cell_type": "code",
      "execution_count": null,
      "id": "cd729678-ae7a-440e-8ad5-3d033b6460aa",
      "metadata": {
        "id": "cd729678-ae7a-440e-8ad5-3d033b6460aa",
        "outputId": "75b90573-cfe5-4dca-a450-0ae1d156b0b3"
      },
      "outputs": [
        {
          "data": {
            "text/plain": [
              "array(['Friday', 'Sunday', 'Tuesday', 'Saturday', 'Wednesday', 'Monday',\n",
              "       'Thursday'], dtype=object)"
            ]
          },
          "execution_count": 12,
          "metadata": {},
          "output_type": "execute_result"
        }
      ],
      "source": [
        "df['DAY_OF_OUTAGE'].unique()"
      ]
    },
    {
      "cell_type": "code",
      "execution_count": null,
      "id": "b4134aef-f583-4915-979e-3c4f280eafba",
      "metadata": {
        "id": "b4134aef-f583-4915-979e-3c4f280eafba"
      },
      "outputs": [],
      "source": [
        "# Drop rows where the 'DAY_OF_OUTAGE' column has the value 'Unknown'\n",
        "df = df[df['DAY_OF_OUTAGE'] != 'nan']"
      ]
    },
    {
      "cell_type": "code",
      "execution_count": null,
      "id": "28dee8c4-71bb-4be3-8947-0623b07d3125",
      "metadata": {
        "id": "28dee8c4-71bb-4be3-8947-0623b07d3125",
        "outputId": "26fbb421-745a-4cca-fa45-6b580ed78520"
      },
      "outputs": [
        {
          "data": {
            "text/plain": [
              "(1525, 8)"
            ]
          },
          "execution_count": 15,
          "metadata": {},
          "output_type": "execute_result"
        }
      ],
      "source": [
        "df.shape"
      ]
    },
    {
      "cell_type": "code",
      "execution_count": null,
      "id": "ba9081ea-70d5-4a1e-bdfb-40bd694ad088",
      "metadata": {
        "id": "ba9081ea-70d5-4a1e-bdfb-40bd694ad088",
        "outputId": "63bdad17-15fa-4cc4-b39e-a581692f6f23"
      },
      "outputs": [
        {
          "data": {
            "image/png": "[encoded data removed]",
            "text/plain": [
              "<Figure size 640x480 with 3 Axes>"
            ]
          },
          "metadata": {},
          "output_type": "display_data"
        }
      ],
      "source": [
        "%matplotlib inline\n",
        "# Assuming you have a DataFrame 'df' with numerical columns\n",
        "correlation_matrix = df[['OUTAGE.DURATION', 'RESIDENTIAL','COMMERCIAL','INDUSTRIAL']].corr()\n",
        "\n",
        "# This will give you a DataFrame with the correlation values\n",
        "\n",
        "import seaborn as sns\n",
        "import matplotlib.pyplot as plt\n",
        "\n",
        "# Use seaborn to create a heatmap of the correlation matrix\n",
        "sns.heatmap(correlation_matrix, annot=True, cmap='coolwarm')\n",
        "\n",
        "# Show the plot\n",
        "plt.show()\n"
      ]
    },
    {
      "cell_type": "markdown",
      "id": "3df07a34-b630-4029-9c65-037606f2a5de",
      "metadata": {
        "id": "3df07a34-b630-4029-9c65-037606f2a5de"
      },
      "source": [
        "Normalize Data"
      ]
    },
    {
      "cell_type": "code",
      "execution_count": null,
      "id": "4c2c9e64-91a5-496b-b5d2-ce63e5337ee3",
      "metadata": {
        "id": "4c2c9e64-91a5-496b-b5d2-ce63e5337ee3"
      },
      "outputs": [],
      "source": [
        "from sklearn.preprocessing import StandardScaler\n",
        "\n",
        "# Assume df is your original DataFramet\n",
        "\n",
        "# Initialize the StandardScaler\n",
        "scaler = StandardScaler()\n",
        "\n",
        "# Select columns to be scaled\n",
        "columns_to_scale = ['OUTAGE.DURATION', 'RESIDENTIAL','COMMERCIAL','INDUSTRIAL']\n",
        "\n",
        "# Fit the scaler to your data and transform it\n",
        "X_scaled = scaler.fit_transform(df[columns_to_scale])\n"
      ]
    },
    {
      "cell_type": "code",
      "execution_count": null,
      "id": "feb52f25-3e53-4cc6-8b6f-56ce7b2dd5a3",
      "metadata": {
        "id": "feb52f25-3e53-4cc6-8b6f-56ce7b2dd5a3"
      },
      "outputs": [],
      "source": [
        "df.loc[:, columns_to_scale] = X_scaled"
      ]
    },
    {
      "cell_type": "code",
      "execution_count": null,
      "id": "e01d3d41-bdb9-4c8e-997c-c00a955ead37",
      "metadata": {
        "scrolled": true,
        "id": "e01d3d41-bdb9-4c8e-997c-c00a955ead37",
        "outputId": "d3dac86c-c28b-45af-da8e-f07c338bbdf4"
      },
      "outputs": [
        {
          "data": {
            "text/html": [
              "<div>\n",
              "<style scoped>\n",
              "    .dataframe tbody tr th:only-of-type {\n",
              "        vertical-align: middle;\n",
              "    }\n",
              "\n",
              "    .dataframe tbody tr th {\n",
              "        vertical-align: top;\n",
              "    }\n",
              "\n",
              "    .dataframe thead th {\n",
              "        text-align: right;\n",
              "    }\n",
              "</style>\n",
              "<table border=\"1\" class=\"dataframe\">\n",
              "  <thead>\n",
              "    <tr style=\"text-align: right;\">\n",
              "      <th></th>\n",
              "      <th>SEASON</th>\n",
              "      <th>OUTAGE_START</th>\n",
              "      <th>DAY_OF_OUTAGE</th>\n",
              "      <th>INTENTIONAL ATTACK</th>\n",
              "      <th>OUTAGE.DURATION</th>\n",
              "      <th>RESIDENTIAL</th>\n",
              "      <th>COMMERCIAL</th>\n",
              "      <th>INDUSTRIAL</th>\n",
              "    </tr>\n",
              "  </thead>\n",
              "  <tbody>\n",
              "    <tr>\n",
              "      <th>0</th>\n",
              "      <td>Summer</td>\n",
              "      <td>Afternoon</td>\n",
              "      <td>Friday</td>\n",
              "      <td>0</td>\n",
              "      <td>0.073159</td>\n",
              "      <td>-0.684571</td>\n",
              "      <td>-0.737383</td>\n",
              "      <td>-0.564625</td>\n",
              "    </tr>\n",
              "    <tr>\n",
              "      <th>1</th>\n",
              "      <td>Spring</td>\n",
              "      <td>Evening</td>\n",
              "      <td>Sunday</td>\n",
              "      <td>1</td>\n",
              "      <td>-0.441783</td>\n",
              "      <td>-0.675271</td>\n",
              "      <td>-0.721751</td>\n",
              "      <td>-0.583644</td>\n",
              "    </tr>\n",
              "    <tr>\n",
              "      <th>2</th>\n",
              "      <td>Autumn</td>\n",
              "      <td>Evening</td>\n",
              "      <td>Tuesday</td>\n",
              "      <td>0</td>\n",
              "      <td>0.063059</td>\n",
              "      <td>-0.686686</td>\n",
              "      <td>-0.737065</td>\n",
              "      <td>-0.577460</td>\n",
              "    </tr>\n",
              "    <tr>\n",
              "      <th>3</th>\n",
              "      <td>Summer</td>\n",
              "      <td>Night</td>\n",
              "      <td>Tuesday</td>\n",
              "      <td>0</td>\n",
              "      <td>-0.012692</td>\n",
              "      <td>-0.682416</td>\n",
              "      <td>-0.733463</td>\n",
              "      <td>-0.556354</td>\n",
              "    </tr>\n",
              "    <tr>\n",
              "      <th>4</th>\n",
              "      <td>Summer</td>\n",
              "      <td>Night</td>\n",
              "      <td>Saturday</td>\n",
              "      <td>0</td>\n",
              "      <td>-0.149045</td>\n",
              "      <td>-0.668053</td>\n",
              "      <td>-0.714439</td>\n",
              "      <td>-0.585755</td>\n",
              "    </tr>\n",
              "  </tbody>\n",
              "</table>\n",
              "</div>"
            ],
            "text/plain": [
              "   SEASON OUTAGE_START DAY_OF_OUTAGE  INTENTIONAL ATTACK  OUTAGE.DURATION  \\\n",
              "0  Summer    Afternoon        Friday                   0         0.073159   \n",
              "1  Spring      Evening        Sunday                   1        -0.441783   \n",
              "2  Autumn      Evening       Tuesday                   0         0.063059   \n",
              "3  Summer        Night       Tuesday                   0        -0.012692   \n",
              "4  Summer        Night      Saturday                   0        -0.149045   \n",
              "\n",
              "   RESIDENTIAL  COMMERCIAL  INDUSTRIAL  \n",
              "0    -0.684571   -0.737383   -0.564625  \n",
              "1    -0.675271   -0.721751   -0.583644  \n",
              "2    -0.686686   -0.737065   -0.577460  \n",
              "3    -0.682416   -0.733463   -0.556354  \n",
              "4    -0.668053   -0.714439   -0.585755  "
            ]
          },
          "execution_count": 28,
          "metadata": {},
          "output_type": "execute_result"
        }
      ],
      "source": [
        "df.head()"
      ]
    },
    {
      "cell_type": "markdown",
      "id": "71b6a64f-1991-4c7c-8790-f7d47ca4142b",
      "metadata": {
        "id": "71b6a64f-1991-4c7c-8790-f7d47ca4142b"
      },
      "source": [
        "Create Dummies"
      ]
    },
    {
      "cell_type": "code",
      "execution_count": null,
      "id": "749d91ee-179f-4e0c-95ab-67dcdda4151e",
      "metadata": {
        "id": "749d91ee-179f-4e0c-95ab-67dcdda4151e"
      },
      "outputs": [],
      "source": [
        "import pandas as pd\n",
        "\n",
        "# Let's assume df is your DataFrame and contains all the columns mentioned\n",
        "\n",
        "# Create dummy variables for the categorical columns and drop the first category\n",
        "dummies = pd.get_dummies(df[['SEASON', 'OUTAGE_START', 'DAY_OF_OUTAGE']], drop_first=True)\n",
        "\n",
        "dummies = dummies.astype(int)"
      ]
    },
    {
      "cell_type": "code",
      "execution_count": null,
      "id": "8c491b1c-991d-44e3-a6cf-851a6b1c72fc",
      "metadata": {
        "id": "8c491b1c-991d-44e3-a6cf-851a6b1c72fc",
        "outputId": "91830867-112a-4dd9-9e9a-b5a9d78ffec3"
      },
      "outputs": [
        {
          "data": {
            "text/html": [
              "<div>\n",
              "<style scoped>\n",
              "    .dataframe tbody tr th:only-of-type {\n",
              "        vertical-align: middle;\n",
              "    }\n",
              "\n",
              "    .dataframe tbody tr th {\n",
              "        vertical-align: top;\n",
              "    }\n",
              "\n",
              "    .dataframe thead th {\n",
              "        text-align: right;\n",
              "    }\n",
              "</style>\n",
              "<table border=\"1\" class=\"dataframe\">\n",
              "  <thead>\n",
              "    <tr style=\"text-align: right;\">\n",
              "      <th></th>\n",
              "      <th>SEASON_Spring</th>\n",
              "      <th>SEASON_Summer</th>\n",
              "      <th>SEASON_Winter</th>\n",
              "      <th>OUTAGE_START_Evening</th>\n",
              "      <th>OUTAGE_START_Morning</th>\n",
              "      <th>OUTAGE_START_Night</th>\n",
              "      <th>DAY_OF_OUTAGE_Monday</th>\n",
              "      <th>DAY_OF_OUTAGE_Saturday</th>\n",
              "      <th>DAY_OF_OUTAGE_Sunday</th>\n",
              "      <th>DAY_OF_OUTAGE_Thursday</th>\n",
              "      <th>DAY_OF_OUTAGE_Tuesday</th>\n",
              "      <th>DAY_OF_OUTAGE_Wednesday</th>\n",
              "    </tr>\n",
              "  </thead>\n",
              "  <tbody>\n",
              "    <tr>\n",
              "      <th>0</th>\n",
              "      <td>0</td>\n",
              "      <td>1</td>\n",
              "      <td>0</td>\n",
              "      <td>0</td>\n",
              "      <td>0</td>\n",
              "      <td>0</td>\n",
              "      <td>0</td>\n",
              "      <td>0</td>\n",
              "      <td>0</td>\n",
              "      <td>0</td>\n",
              "      <td>0</td>\n",
              "      <td>0</td>\n",
              "    </tr>\n",
              "    <tr>\n",
              "      <th>1</th>\n",
              "      <td>1</td>\n",
              "      <td>0</td>\n",
              "      <td>0</td>\n",
              "      <td>1</td>\n",
              "      <td>0</td>\n",
              "      <td>0</td>\n",
              "      <td>0</td>\n",
              "      <td>0</td>\n",
              "      <td>1</td>\n",
              "      <td>0</td>\n",
              "      <td>0</td>\n",
              "      <td>0</td>\n",
              "    </tr>\n",
              "    <tr>\n",
              "      <th>2</th>\n",
              "      <td>0</td>\n",
              "      <td>0</td>\n",
              "      <td>0</td>\n",
              "      <td>1</td>\n",
              "      <td>0</td>\n",
              "      <td>0</td>\n",
              "      <td>0</td>\n",
              "      <td>0</td>\n",
              "      <td>0</td>\n",
              "      <td>0</td>\n",
              "      <td>1</td>\n",
              "      <td>0</td>\n",
              "    </tr>\n",
              "    <tr>\n",
              "      <th>3</th>\n",
              "      <td>0</td>\n",
              "      <td>1</td>\n",
              "      <td>0</td>\n",
              "      <td>0</td>\n",
              "      <td>0</td>\n",
              "      <td>1</td>\n",
              "      <td>0</td>\n",
              "      <td>0</td>\n",
              "      <td>0</td>\n",
              "      <td>0</td>\n",
              "      <td>1</td>\n",
              "      <td>0</td>\n",
              "    </tr>\n",
              "    <tr>\n",
              "      <th>4</th>\n",
              "      <td>0</td>\n",
              "      <td>1</td>\n",
              "      <td>0</td>\n",
              "      <td>0</td>\n",
              "      <td>0</td>\n",
              "      <td>1</td>\n",
              "      <td>0</td>\n",
              "      <td>1</td>\n",
              "      <td>0</td>\n",
              "      <td>0</td>\n",
              "      <td>0</td>\n",
              "      <td>0</td>\n",
              "    </tr>\n",
              "  </tbody>\n",
              "</table>\n",
              "</div>"
            ],
            "text/plain": [
              "   SEASON_Spring  SEASON_Summer  SEASON_Winter  OUTAGE_START_Evening  \\\n",
              "0              0              1              0                     0   \n",
              "1              1              0              0                     1   \n",
              "2              0              0              0                     1   \n",
              "3              0              1              0                     0   \n",
              "4              0              1              0                     0   \n",
              "\n",
              "   OUTAGE_START_Morning  OUTAGE_START_Night  DAY_OF_OUTAGE_Monday  \\\n",
              "0                     0                   0                     0   \n",
              "1                     0                   0                     0   \n",
              "2                     0                   0                     0   \n",
              "3                     0                   1                     0   \n",
              "4                     0                   1                     0   \n",
              "\n",
              "   DAY_OF_OUTAGE_Saturday  DAY_OF_OUTAGE_Sunday  DAY_OF_OUTAGE_Thursday  \\\n",
              "0                       0                     0                       0   \n",
              "1                       0                     1                       0   \n",
              "2                       0                     0                       0   \n",
              "3                       0                     0                       0   \n",
              "4                       1                     0                       0   \n",
              "\n",
              "   DAY_OF_OUTAGE_Tuesday  DAY_OF_OUTAGE_Wednesday  \n",
              "0                      0                        0  \n",
              "1                      0                        0  \n",
              "2                      1                        0  \n",
              "3                      1                        0  \n",
              "4                      0                        0  "
            ]
          },
          "execution_count": 33,
          "metadata": {},
          "output_type": "execute_result"
        }
      ],
      "source": [
        "dummies.head()"
      ]
    },
    {
      "cell_type": "code",
      "execution_count": null,
      "id": "5effb135-f603-48df-b25e-afe01ae4bb1b",
      "metadata": {
        "id": "5effb135-f603-48df-b25e-afe01ae4bb1b"
      },
      "outputs": [],
      "source": [
        "df.drop(['SEASON', 'OUTAGE_START', 'DAY_OF_OUTAGE'], axis=1, inplace=True)"
      ]
    },
    {
      "cell_type": "code",
      "execution_count": null,
      "id": "a22f6d8d-830f-4a0d-914d-16c4137d6807",
      "metadata": {
        "id": "a22f6d8d-830f-4a0d-914d-16c4137d6807"
      },
      "outputs": [],
      "source": [
        "# Join the dummy variables with the numeric columns in the original DataFrame\n",
        "df = df.join(dummies)"
      ]
    },
    {
      "cell_type": "code",
      "execution_count": null,
      "id": "6a064d3e-55f8-4ef6-9a09-f0ca4169ff03",
      "metadata": {
        "id": "6a064d3e-55f8-4ef6-9a09-f0ca4169ff03"
      },
      "outputs": [],
      "source": [
        "df = df.apply(pd.to_numeric, errors='coerce').dropna()"
      ]
    },
    {
      "cell_type": "code",
      "execution_count": null,
      "id": "4b0a5047-ead9-4061-a64a-32144d8c6495",
      "metadata": {
        "scrolled": true,
        "id": "4b0a5047-ead9-4061-a64a-32144d8c6495",
        "outputId": "6678b413-c283-408e-efa8-65c30a078131"
      },
      "outputs": [
        {
          "data": {
            "text/html": [
              "<div>\n",
              "<style scoped>\n",
              "    .dataframe tbody tr th:only-of-type {\n",
              "        vertical-align: middle;\n",
              "    }\n",
              "\n",
              "    .dataframe tbody tr th {\n",
              "        vertical-align: top;\n",
              "    }\n",
              "\n",
              "    .dataframe thead th {\n",
              "        text-align: right;\n",
              "    }\n",
              "</style>\n",
              "<table border=\"1\" class=\"dataframe\">\n",
              "  <thead>\n",
              "    <tr style=\"text-align: right;\">\n",
              "      <th></th>\n",
              "      <th>INTENTIONAL ATTACK</th>\n",
              "      <th>OUTAGE.DURATION</th>\n",
              "      <th>RESIDENTIAL</th>\n",
              "      <th>COMMERCIAL</th>\n",
              "      <th>INDUSTRIAL</th>\n",
              "      <th>SEASON_Spring</th>\n",
              "      <th>SEASON_Summer</th>\n",
              "      <th>SEASON_Winter</th>\n",
              "      <th>OUTAGE_START_Evening</th>\n",
              "      <th>OUTAGE_START_Morning</th>\n",
              "      <th>OUTAGE_START_Night</th>\n",
              "      <th>DAY_OF_OUTAGE_Monday</th>\n",
              "      <th>DAY_OF_OUTAGE_Saturday</th>\n",
              "      <th>DAY_OF_OUTAGE_Sunday</th>\n",
              "      <th>DAY_OF_OUTAGE_Thursday</th>\n",
              "      <th>DAY_OF_OUTAGE_Tuesday</th>\n",
              "      <th>DAY_OF_OUTAGE_Wednesday</th>\n",
              "    </tr>\n",
              "  </thead>\n",
              "  <tbody>\n",
              "    <tr>\n",
              "      <th>0</th>\n",
              "      <td>0</td>\n",
              "      <td>0.073159</td>\n",
              "      <td>-0.684571</td>\n",
              "      <td>-0.737383</td>\n",
              "      <td>-0.564625</td>\n",
              "      <td>0</td>\n",
              "      <td>1</td>\n",
              "      <td>0</td>\n",
              "      <td>0</td>\n",
              "      <td>0</td>\n",
              "      <td>0</td>\n",
              "      <td>0</td>\n",
              "      <td>0</td>\n",
              "      <td>0</td>\n",
              "      <td>0</td>\n",
              "      <td>0</td>\n",
              "      <td>0</td>\n",
              "    </tr>\n",
              "    <tr>\n",
              "      <th>1</th>\n",
              "      <td>1</td>\n",
              "      <td>-0.441783</td>\n",
              "      <td>-0.675271</td>\n",
              "      <td>-0.721751</td>\n",
              "      <td>-0.583644</td>\n",
              "      <td>1</td>\n",
              "      <td>0</td>\n",
              "      <td>0</td>\n",
              "      <td>1</td>\n",
              "      <td>0</td>\n",
              "      <td>0</td>\n",
              "      <td>0</td>\n",
              "      <td>0</td>\n",
              "      <td>1</td>\n",
              "      <td>0</td>\n",
              "      <td>0</td>\n",
              "      <td>0</td>\n",
              "    </tr>\n",
              "    <tr>\n",
              "      <th>2</th>\n",
              "      <td>0</td>\n",
              "      <td>0.063059</td>\n",
              "      <td>-0.686686</td>\n",
              "      <td>-0.737065</td>\n",
              "      <td>-0.577460</td>\n",
              "      <td>0</td>\n",
              "      <td>0</td>\n",
              "      <td>0</td>\n",
              "      <td>1</td>\n",
              "      <td>0</td>\n",
              "      <td>0</td>\n",
              "      <td>0</td>\n",
              "      <td>0</td>\n",
              "      <td>0</td>\n",
              "      <td>0</td>\n",
              "      <td>1</td>\n",
              "      <td>0</td>\n",
              "    </tr>\n",
              "    <tr>\n",
              "      <th>3</th>\n",
              "      <td>0</td>\n",
              "      <td>-0.012692</td>\n",
              "      <td>-0.682416</td>\n",
              "      <td>-0.733463</td>\n",
              "      <td>-0.556354</td>\n",
              "      <td>0</td>\n",
              "      <td>1</td>\n",
              "      <td>0</td>\n",
              "      <td>0</td>\n",
              "      <td>0</td>\n",
              "      <td>1</td>\n",
              "      <td>0</td>\n",
              "      <td>0</td>\n",
              "      <td>0</td>\n",
              "      <td>0</td>\n",
              "      <td>1</td>\n",
              "      <td>0</td>\n",
              "    </tr>\n",
              "    <tr>\n",
              "      <th>4</th>\n",
              "      <td>0</td>\n",
              "      <td>-0.149045</td>\n",
              "      <td>-0.668053</td>\n",
              "      <td>-0.714439</td>\n",
              "      <td>-0.585755</td>\n",
              "      <td>0</td>\n",
              "      <td>1</td>\n",
              "      <td>0</td>\n",
              "      <td>0</td>\n",
              "      <td>0</td>\n",
              "      <td>1</td>\n",
              "      <td>0</td>\n",
              "      <td>1</td>\n",
              "      <td>0</td>\n",
              "      <td>0</td>\n",
              "      <td>0</td>\n",
              "      <td>0</td>\n",
              "    </tr>\n",
              "    <tr>\n",
              "      <th>...</th>\n",
              "      <td>...</td>\n",
              "      <td>...</td>\n",
              "      <td>...</td>\n",
              "      <td>...</td>\n",
              "      <td>...</td>\n",
              "      <td>...</td>\n",
              "      <td>...</td>\n",
              "      <td>...</td>\n",
              "      <td>...</td>\n",
              "      <td>...</td>\n",
              "      <td>...</td>\n",
              "      <td>...</td>\n",
              "      <td>...</td>\n",
              "      <td>...</td>\n",
              "      <td>...</td>\n",
              "      <td>...</td>\n",
              "      <td>...</td>\n",
              "    </tr>\n",
              "    <tr>\n",
              "      <th>1526</th>\n",
              "      <td>1</td>\n",
              "      <td>-0.441951</td>\n",
              "      <td>-1.083963</td>\n",
              "      <td>-1.040838</td>\n",
              "      <td>-0.143146</td>\n",
              "      <td>1</td>\n",
              "      <td>0</td>\n",
              "      <td>0</td>\n",
              "      <td>0</td>\n",
              "      <td>0</td>\n",
              "      <td>1</td>\n",
              "      <td>0</td>\n",
              "      <td>0</td>\n",
              "      <td>0</td>\n",
              "      <td>0</td>\n",
              "      <td>1</td>\n",
              "      <td>0</td>\n",
              "    </tr>\n",
              "    <tr>\n",
              "      <th>1528</th>\n",
              "      <td>0</td>\n",
              "      <td>-0.404917</td>\n",
              "      <td>-1.083963</td>\n",
              "      <td>-1.040838</td>\n",
              "      <td>-0.143146</td>\n",
              "      <td>0</td>\n",
              "      <td>1</td>\n",
              "      <td>0</td>\n",
              "      <td>0</td>\n",
              "      <td>0</td>\n",
              "      <td>0</td>\n",
              "      <td>0</td>\n",
              "      <td>0</td>\n",
              "      <td>0</td>\n",
              "      <td>0</td>\n",
              "      <td>1</td>\n",
              "      <td>0</td>\n",
              "    </tr>\n",
              "    <tr>\n",
              "      <th>1529</th>\n",
              "      <td>0</td>\n",
              "      <td>-0.320749</td>\n",
              "      <td>-1.180063</td>\n",
              "      <td>-1.126324</td>\n",
              "      <td>-0.737251</td>\n",
              "      <td>0</td>\n",
              "      <td>0</td>\n",
              "      <td>1</td>\n",
              "      <td>0</td>\n",
              "      <td>1</td>\n",
              "      <td>0</td>\n",
              "      <td>0</td>\n",
              "      <td>0</td>\n",
              "      <td>0</td>\n",
              "      <td>0</td>\n",
              "      <td>1</td>\n",
              "      <td>0</td>\n",
              "    </tr>\n",
              "    <tr>\n",
              "      <th>1531</th>\n",
              "      <td>0</td>\n",
              "      <td>-0.432019</td>\n",
              "      <td>-1.170927</td>\n",
              "      <td>-1.115616</td>\n",
              "      <td>-0.751657</td>\n",
              "      <td>0</td>\n",
              "      <td>1</td>\n",
              "      <td>0</td>\n",
              "      <td>0</td>\n",
              "      <td>0</td>\n",
              "      <td>1</td>\n",
              "      <td>0</td>\n",
              "      <td>1</td>\n",
              "      <td>0</td>\n",
              "      <td>0</td>\n",
              "      <td>0</td>\n",
              "      <td>0</td>\n",
              "    </tr>\n",
              "    <tr>\n",
              "      <th>1532</th>\n",
              "      <td>0</td>\n",
              "      <td>-0.411482</td>\n",
              "      <td>-1.170927</td>\n",
              "      <td>-1.115616</td>\n",
              "      <td>-0.751657</td>\n",
              "      <td>0</td>\n",
              "      <td>1</td>\n",
              "      <td>0</td>\n",
              "      <td>0</td>\n",
              "      <td>1</td>\n",
              "      <td>0</td>\n",
              "      <td>0</td>\n",
              "      <td>1</td>\n",
              "      <td>0</td>\n",
              "      <td>0</td>\n",
              "      <td>0</td>\n",
              "      <td>0</td>\n",
              "    </tr>\n",
              "  </tbody>\n",
              "</table>\n",
              "<p>1476 rows × 17 columns</p>\n",
              "</div>"
            ],
            "text/plain": [
              "      INTENTIONAL ATTACK  OUTAGE.DURATION  RESIDENTIAL  COMMERCIAL  \\\n",
              "0                      0         0.073159    -0.684571   -0.737383   \n",
              "1                      1        -0.441783    -0.675271   -0.721751   \n",
              "2                      0         0.063059    -0.686686   -0.737065   \n",
              "3                      0        -0.012692    -0.682416   -0.733463   \n",
              "4                      0        -0.149045    -0.668053   -0.714439   \n",
              "...                  ...              ...          ...         ...   \n",
              "1526                   1        -0.441951    -1.083963   -1.040838   \n",
              "1528                   0        -0.404917    -1.083963   -1.040838   \n",
              "1529                   0        -0.320749    -1.180063   -1.126324   \n",
              "1531                   0        -0.432019    -1.170927   -1.115616   \n",
              "1532                   0        -0.411482    -1.170927   -1.115616   \n",
              "\n",
              "      INDUSTRIAL  SEASON_Spring  SEASON_Summer  SEASON_Winter  \\\n",
              "0      -0.564625              0              1              0   \n",
              "1      -0.583644              1              0              0   \n",
              "2      -0.577460              0              0              0   \n",
              "3      -0.556354              0              1              0   \n",
              "4      -0.585755              0              1              0   \n",
              "...          ...            ...            ...            ...   \n",
              "1526   -0.143146              1              0              0   \n",
              "1528   -0.143146              0              1              0   \n",
              "1529   -0.737251              0              0              1   \n",
              "1531   -0.751657              0              1              0   \n",
              "1532   -0.751657              0              1              0   \n",
              "\n",
              "      OUTAGE_START_Evening  OUTAGE_START_Morning  OUTAGE_START_Night  \\\n",
              "0                        0                     0                   0   \n",
              "1                        1                     0                   0   \n",
              "2                        1                     0                   0   \n",
              "3                        0                     0                   1   \n",
              "4                        0                     0                   1   \n",
              "...                    ...                   ...                 ...   \n",
              "1526                     0                     0                   1   \n",
              "1528                     0                     0                   0   \n",
              "1529                     0                     1                   0   \n",
              "1531                     0                     0                   1   \n",
              "1532                     0                     1                   0   \n",
              "\n",
              "      DAY_OF_OUTAGE_Monday  DAY_OF_OUTAGE_Saturday  DAY_OF_OUTAGE_Sunday  \\\n",
              "0                        0                       0                     0   \n",
              "1                        0                       0                     1   \n",
              "2                        0                       0                     0   \n",
              "3                        0                       0                     0   \n",
              "4                        0                       1                     0   \n",
              "...                    ...                     ...                   ...   \n",
              "1526                     0                       0                     0   \n",
              "1528                     0                       0                     0   \n",
              "1529                     0                       0                     0   \n",
              "1531                     0                       1                     0   \n",
              "1532                     0                       1                     0   \n",
              "\n",
              "      DAY_OF_OUTAGE_Thursday  DAY_OF_OUTAGE_Tuesday  DAY_OF_OUTAGE_Wednesday  \n",
              "0                          0                      0                        0  \n",
              "1                          0                      0                        0  \n",
              "2                          0                      1                        0  \n",
              "3                          0                      1                        0  \n",
              "4                          0                      0                        0  \n",
              "...                      ...                    ...                      ...  \n",
              "1526                       0                      1                        0  \n",
              "1528                       0                      1                        0  \n",
              "1529                       0                      1                        0  \n",
              "1531                       0                      0                        0  \n",
              "1532                       0                      0                        0  \n",
              "\n",
              "[1476 rows x 17 columns]"
            ]
          },
          "execution_count": 40,
          "metadata": {},
          "output_type": "execute_result"
        }
      ],
      "source": [
        "df"
      ]
    },
    {
      "cell_type": "markdown",
      "id": "50cf5885-8727-4a6c-834c-6c77e8bda0e3",
      "metadata": {
        "id": "50cf5885-8727-4a6c-834c-6c77e8bda0e3"
      },
      "source": [
        "### Build Model"
      ]
    },
    {
      "cell_type": "code",
      "execution_count": null,
      "id": "1de150e5-820d-4617-88e1-326eb57567c4",
      "metadata": {
        "id": "1de150e5-820d-4617-88e1-326eb57567c4"
      },
      "outputs": [],
      "source": [
        "y = df['INTENTIONAL ATTACK']\n",
        "X = df.drop(columns = 'INTENTIONAL ATTACK')"
      ]
    },
    {
      "cell_type": "code",
      "execution_count": null,
      "id": "ee2fec7d-b096-42a0-ae73-827367d6ea93",
      "metadata": {
        "id": "ee2fec7d-b096-42a0-ae73-827367d6ea93"
      },
      "outputs": [],
      "source": [
        "train_X, valid_X, train_y, valid_y = train_test_split(X, y, test_size=0.4, random_state=1)\n"
      ]
    },
    {
      "cell_type": "code",
      "execution_count": null,
      "id": "89841c07-dd2c-4d37-bf01-80f70551d046",
      "metadata": {
        "id": "89841c07-dd2c-4d37-bf01-80f70551d046",
        "outputId": "acce04d4-31e2-4826-bb54-9bd6595eaa68"
      },
      "outputs": [
        {
          "name": "stdout",
          "output_type": "stream",
          "text": [
            "intercept  -1.8557947199939402\n",
            "       OUTAGE.DURATION  RESIDENTIAL  COMMERCIAL  INDUSTRIAL  SEASON_Spring  \\\n",
            "coeff        -4.721029     2.559459    -4.03028      0.6967       0.278534   \n",
            "\n",
            "       SEASON_Summer  SEASON_Winter  OUTAGE_START_Evening  \\\n",
            "coeff      -1.207935      -0.424839             -0.735739   \n",
            "\n",
            "       OUTAGE_START_Morning  OUTAGE_START_Night  DAY_OF_OUTAGE_Monday  \\\n",
            "coeff              0.549224            -0.07742             -0.403636   \n",
            "\n",
            "       DAY_OF_OUTAGE_Saturday  DAY_OF_OUTAGE_Sunday  DAY_OF_OUTAGE_Thursday  \\\n",
            "coeff               -0.382639             -0.719948               -0.192546   \n",
            "\n",
            "       DAY_OF_OUTAGE_Tuesday  DAY_OF_OUTAGE_Wednesday  \n",
            "coeff              -0.247044                  -0.1632  \n"
          ]
        }
      ],
      "source": [
        "import statsmodels.api as sm\n",
        "# fit a logistic regression (set penalty=l2 and C=1e42 to avoid regularization)\n",
        "logit_reg = LogisticRegression(penalty=\"l2\", C=1e42, solver='liblinear')\n",
        "logit_reg.fit(train_X, train_y)\n",
        "\n",
        "print('intercept ', logit_reg.intercept_[0])\n",
        "print(pd.DataFrame({'coeff': logit_reg.coef_[0]}, index=X.columns).transpose())"
      ]
    },
    {
      "cell_type": "markdown",
      "id": "1e61d7af-fb82-42e6-ba7f-94378586a870",
      "metadata": {
        "id": "1e61d7af-fb82-42e6-ba7f-94378586a870"
      },
      "source": [
        "**Check for p-values; signifiance**"
      ]
    },
    {
      "cell_type": "code",
      "execution_count": null,
      "id": "a7223ef2-4bc0-461c-99e8-9d3ac7816e13",
      "metadata": {
        "id": "a7223ef2-4bc0-461c-99e8-9d3ac7816e13",
        "outputId": "130fadf7-17c9-4ee9-a12e-e28cfe6c4961"
      },
      "outputs": [
        {
          "name": "stdout",
          "output_type": "stream",
          "text": [
            "Optimization terminated successfully.\n",
            "         Current function value: 0.384361\n",
            "         Iterations 9\n",
            "                           Logit Regression Results                           \n",
            "==============================================================================\n",
            "Dep. Variable:     INTENTIONAL ATTACK   No. Observations:                  885\n",
            "Model:                          Logit   Df Residuals:                      868\n",
            "Method:                           MLE   Df Model:                           16\n",
            "Date:                Thu, 29 Feb 2024   Pseudo R-squ.:                  0.3346\n",
            "Time:                        00:43:09   Log-Likelihood:                -340.16\n",
            "converged:                       True   LL-Null:                       -511.19\n",
            "Covariance Type:            nonrobust   LLR p-value:                 4.672e-63\n",
            "===========================================================================================\n",
            "                              coef    std err          z      P>|z|      [0.025      0.975]\n",
            "-------------------------------------------------------------------------------------------\n",
            "const                      -1.8554      0.413     -4.488      0.000      -2.666      -1.045\n",
            "OUTAGE.DURATION            -4.7210      0.603     -7.825      0.000      -5.904      -3.538\n",
            "RESIDENTIAL                 2.5596      0.874      2.927      0.003       0.846       4.273\n",
            "COMMERCIAL                 -4.0305      0.905     -4.451      0.000      -5.805      -2.256\n",
            "INDUSTRIAL                  0.6967      0.193      3.616      0.000       0.319       1.074\n",
            "SEASON_Spring               0.2783      0.291      0.955      0.339      -0.293       0.849\n",
            "SEASON_Summer              -1.2081      0.285     -4.232      0.000      -1.768      -0.649\n",
            "SEASON_Winter              -0.4250      0.295     -1.441      0.149      -1.003       0.153\n",
            "OUTAGE_START_Evening       -0.7358      0.362     -2.031      0.042      -1.446      -0.026\n",
            "OUTAGE_START_Morning        0.5492      0.233      2.356      0.018       0.092       1.006\n",
            "OUTAGE_START_Night         -0.0774      0.259     -0.299      0.765      -0.586       0.431\n",
            "DAY_OF_OUTAGE_Monday       -0.4038      0.361     -1.120      0.263      -1.111       0.303\n",
            "DAY_OF_OUTAGE_Saturday     -0.3827      0.417     -0.918      0.358      -1.199       0.434\n",
            "DAY_OF_OUTAGE_Sunday       -0.7204      0.438     -1.646      0.100      -1.578       0.137\n",
            "DAY_OF_OUTAGE_Thursday     -0.1929      0.352     -0.548      0.583      -0.882       0.496\n",
            "DAY_OF_OUTAGE_Tuesday      -0.2472      0.353     -0.699      0.484      -0.940       0.446\n",
            "DAY_OF_OUTAGE_Wednesday    -0.1635      0.361     -0.454      0.650      -0.870       0.543\n",
            "===========================================================================================\n"
          ]
        }
      ],
      "source": [
        "# Assuming train_X and train_y are already defined and preprocessed\n",
        "# Add a constant to the independent variables to include the intercept in the model\n",
        "train_X_with_const = sm.add_constant(train_X)\n",
        "\n",
        "# Fit the logistic regression model\n",
        "logit_model = sm.Logit(train_y, train_X_with_const)\n",
        "result = logit_model.fit()\n",
        "\n",
        "# Print the summary of the logistic regression model\n",
        "print(result.summary())"
      ]
    },
    {
      "cell_type": "code",
      "execution_count": null,
      "id": "4daf2578-12b8-48cd-acd5-48b4a3efa543",
      "metadata": {
        "id": "4daf2578-12b8-48cd-acd5-48b4a3efa543",
        "outputId": "21cd7d26-20a2-4c4b-e4fb-19ab5d7240aa"
      },
      "outputs": [
        {
          "data": {
            "text/plain": [
              "['OUTAGE.DURATION',\n",
              " 'RESIDENTIAL',\n",
              " 'COMMERCIAL',\n",
              " 'INDUSTRIAL',\n",
              " 'SEASON_Spring',\n",
              " 'SEASON_Summer',\n",
              " 'SEASON_Winter',\n",
              " 'OUTAGE_START_Evening',\n",
              " 'OUTAGE_START_Morning',\n",
              " 'DAY_OF_OUTAGE_Saturday',\n",
              " 'DAY_OF_OUTAGE_Sunday']"
            ]
          },
          "execution_count": 53,
          "metadata": {},
          "output_type": "execute_result"
        }
      ],
      "source": [
        "# Backward Elimination\n",
        "import statsmodels.api as sm\n",
        "\n",
        "def backward_elimination(data, target, significance_level = 0.2):\n",
        "    features = data.columns.tolist()\n",
        "    while(len(features) > 0):\n",
        "        features_with_constant = sm.add_constant(data[features])\n",
        "        p_values = sm.OLS(target, features_with_constant).fit().pvalues[1:] # exclude constant\n",
        "        max_p_value = p_values.max()\n",
        "        if(max_p_value >= significance_level):\n",
        "            excluded_feature = p_values.idxmax()\n",
        "            features.remove(excluded_feature)\n",
        "        else:\n",
        "            break\n",
        "    return features\n",
        "\n",
        "selected_features = backward_elimination(train_X, train_y)\n",
        "selected_features"
      ]
    },
    {
      "cell_type": "markdown",
      "id": "0695c764-7fa3-4f92-88cf-e879a2612c81",
      "metadata": {
        "id": "0695c764-7fa3-4f92-88cf-e879a2612c81"
      },
      "source": [
        "**Build New Model w/ Selected Columns**"
      ]
    },
    {
      "cell_type": "code",
      "execution_count": null,
      "id": "309a5ba8-4188-457b-b0e2-8704776dd69b",
      "metadata": {
        "id": "309a5ba8-4188-457b-b0e2-8704776dd69b"
      },
      "outputs": [],
      "source": [
        "y = df['INTENTIONAL ATTACK']\n",
        "X = df[['OUTAGE.DURATION','RESIDENTIAL','COMMERCIAL','INDUSTRIAL',\n",
        " 'SEASON_Spring',\n",
        " 'SEASON_Summer',\n",
        " 'SEASON_Winter',\n",
        " 'OUTAGE_START_Evening',\n",
        " 'OUTAGE_START_Morning',\n",
        " 'DAY_OF_OUTAGE_Saturday',\n",
        " 'DAY_OF_OUTAGE_Sunday']]"
      ]
    },
    {
      "cell_type": "code",
      "execution_count": null,
      "id": "bdb32848-5430-4eeb-bba2-6238c2ff1157",
      "metadata": {
        "id": "bdb32848-5430-4eeb-bba2-6238c2ff1157"
      },
      "outputs": [],
      "source": [
        "train_X, valid_X, train_y, valid_y = train_test_split(X, y, test_size=0.4, random_state=1)\n"
      ]
    },
    {
      "cell_type": "code",
      "execution_count": null,
      "id": "94f90e2c-b71b-460c-b404-d1672b62ae62",
      "metadata": {
        "scrolled": true,
        "id": "94f90e2c-b71b-460c-b404-d1672b62ae62",
        "outputId": "d37f72f5-c43f-4209-ba04-06165ff9530d"
      },
      "outputs": [
        {
          "name": "stdout",
          "output_type": "stream",
          "text": [
            "intercept  -2.1151312129716024\n",
            "       OUTAGE.DURATION  RESIDENTIAL  COMMERCIAL  INDUSTRIAL  SEASON_Spring  \\\n",
            "coeff        -4.721722     2.567187   -4.028708    0.690599       0.292132   \n",
            "\n",
            "       SEASON_Summer  SEASON_Winter  OUTAGE_START_Evening  \\\n",
            "coeff      -1.179117      -0.408232             -0.721017   \n",
            "\n",
            "       OUTAGE_START_Morning  DAY_OF_OUTAGE_Saturday  DAY_OF_OUTAGE_Sunday  \n",
            "coeff              0.586934               -0.168685             -0.507484  \n"
          ]
        }
      ],
      "source": [
        "import statsmodels.api as sm\n",
        "# fit a logistic regression (set penalty=l2 and C=1e42 to avoid regularization)\n",
        "logit_reg = LogisticRegression(penalty=\"l2\", C=1e42, solver='liblinear')\n",
        "logit_reg.fit(train_X, train_y)\n",
        "\n",
        "print('intercept ', logit_reg.intercept_[0])\n",
        "print(pd.DataFrame({'coeff': logit_reg.coef_[0]}, index=X.columns).transpose())"
      ]
    },
    {
      "cell_type": "code",
      "execution_count": null,
      "id": "eed0d1c8-e2c2-4a23-9d90-92c8a406ddf2",
      "metadata": {
        "id": "eed0d1c8-e2c2-4a23-9d90-92c8a406ddf2"
      },
      "outputs": [],
      "source": [
        "# Visualize Coefficients"
      ]
    },
    {
      "cell_type": "code",
      "execution_count": null,
      "id": "546e3ecf-4dc5-4180-bb46-35621a021632",
      "metadata": {
        "id": "546e3ecf-4dc5-4180-bb46-35621a021632",
        "outputId": "91bfacf7-8f5c-4ded-8882-d3f472aaec08"
      },
      "outputs": [
        {
          "data": {
            "image/png": "[encoded data removed]",
            "text/plain": [
              "<Figure size 1000x800 with 1 Axes>"
            ]
          },
          "metadata": {},
          "output_type": "display_data"
        }
      ],
      "source": [
        "import matplotlib.pyplot as plt\n",
        "import numpy as np\n",
        "\n",
        "# Coefficients and corresponding labels\n",
        "coefficients = {\n",
        "    \"OUTAGE.DURATION\": -4.721722,\n",
        "    \"COMMERCIAL\": -4.028708,\n",
        "    \"RESIDENTIAL\": 2.567187,\n",
        "    \"INDUSTRIAL\": 0.690599,\n",
        "    \"SEASON_Summer\": -1.179117,\n",
        "    \"OUTAGE_START_Evening\": -0.721017,\n",
        "    \"SEASON_Winter\": -0.408232,\n",
        "    \"DAY_OF_OUTAGE_Sunday\": -0.507484,\n",
        "    \"DAY_OF_OUTAGE_Saturday\": -0.168685,\n",
        "    \"OUTAGE_START_Morning\": 0.586934,\n",
        "    \"SEASON_Spring\": 0.292132,\n",
        "}\n",
        "\n",
        "# Sorting the coefficients in descending order\n",
        "sorted_coefficients = dict(sorted(coefficients.items(), key=lambda item: item[1], reverse=True))\n",
        "\n",
        "# Creating a color map\n",
        "colors = [plt.cm.Blues(np.abs(val)/max(np.abs(list(sorted_coefficients.values())))) for val in sorted_coefficients.values()]\n",
        "\n",
        "# Plotting\n",
        "plt.figure(figsize=(10, 8))\n",
        "plt.barh(list(sorted_coefficients.keys()), list(sorted_coefficients.values()), color=colors)\n",
        "plt.xlabel('Coefficient Value')\n",
        "plt.title('Coefficients of the Model')\n",
        "plt.gca().invert_yaxis()  # Highest values at the top\n",
        "plt.show()\n"
      ]
    },
    {
      "cell_type": "code",
      "execution_count": null,
      "id": "d8c4d366-4d1a-49b1-944c-7c9504602e7a",
      "metadata": {
        "id": "d8c4d366-4d1a-49b1-944c-7c9504602e7a",
        "outputId": "f24b1af9-c32e-49ce-e9e8-395b8af99135"
      },
      "outputs": [
        {
          "data": {
            "text/html": [
              "<div>\n",
              "<style scoped>\n",
              "    .dataframe tbody tr th:only-of-type {\n",
              "        vertical-align: middle;\n",
              "    }\n",
              "\n",
              "    .dataframe tbody tr th {\n",
              "        vertical-align: top;\n",
              "    }\n",
              "\n",
              "    .dataframe thead th {\n",
              "        text-align: right;\n",
              "    }\n",
              "</style>\n",
              "<table border=\"1\" class=\"dataframe\">\n",
              "  <thead>\n",
              "    <tr style=\"text-align: right;\">\n",
              "      <th></th>\n",
              "      <th>actual</th>\n",
              "      <th>p(0)</th>\n",
              "      <th>p(1)</th>\n",
              "      <th>predicted</th>\n",
              "    </tr>\n",
              "  </thead>\n",
              "  <tbody>\n",
              "    <tr>\n",
              "      <th>599</th>\n",
              "      <td>0</td>\n",
              "      <td>0.787817</td>\n",
              "      <td>0.212183</td>\n",
              "      <td>0</td>\n",
              "    </tr>\n",
              "    <tr>\n",
              "      <th>403</th>\n",
              "      <td>0</td>\n",
              "      <td>0.240195</td>\n",
              "      <td>0.759805</td>\n",
              "      <td>1</td>\n",
              "    </tr>\n",
              "    <tr>\n",
              "      <th>857</th>\n",
              "      <td>0</td>\n",
              "      <td>0.919079</td>\n",
              "      <td>0.080921</td>\n",
              "      <td>0</td>\n",
              "    </tr>\n",
              "    <tr>\n",
              "      <th>353</th>\n",
              "      <td>0</td>\n",
              "      <td>0.817239</td>\n",
              "      <td>0.182761</td>\n",
              "      <td>0</td>\n",
              "    </tr>\n",
              "    <tr>\n",
              "      <th>1019</th>\n",
              "      <td>0</td>\n",
              "      <td>0.310401</td>\n",
              "      <td>0.689599</td>\n",
              "      <td>1</td>\n",
              "    </tr>\n",
              "    <tr>\n",
              "      <th>...</th>\n",
              "      <td>...</td>\n",
              "      <td>...</td>\n",
              "      <td>...</td>\n",
              "      <td>...</td>\n",
              "    </tr>\n",
              "    <tr>\n",
              "      <th>926</th>\n",
              "      <td>0</td>\n",
              "      <td>0.997907</td>\n",
              "      <td>0.002093</td>\n",
              "      <td>0</td>\n",
              "    </tr>\n",
              "    <tr>\n",
              "      <th>1065</th>\n",
              "      <td>0</td>\n",
              "      <td>0.999959</td>\n",
              "      <td>0.000041</td>\n",
              "      <td>0</td>\n",
              "    </tr>\n",
              "    <tr>\n",
              "      <th>213</th>\n",
              "      <td>1</td>\n",
              "      <td>0.724176</td>\n",
              "      <td>0.275824</td>\n",
              "      <td>0</td>\n",
              "    </tr>\n",
              "    <tr>\n",
              "      <th>245</th>\n",
              "      <td>1</td>\n",
              "      <td>0.643436</td>\n",
              "      <td>0.356564</td>\n",
              "      <td>0</td>\n",
              "    </tr>\n",
              "    <tr>\n",
              "      <th>900</th>\n",
              "      <td>1</td>\n",
              "      <td>0.491566</td>\n",
              "      <td>0.508434</td>\n",
              "      <td>1</td>\n",
              "    </tr>\n",
              "  </tbody>\n",
              "</table>\n",
              "<p>591 rows × 4 columns</p>\n",
              "</div>"
            ],
            "text/plain": [
              "      actual      p(0)      p(1)  predicted\n",
              "599        0  0.787817  0.212183          0\n",
              "403        0  0.240195  0.759805          1\n",
              "857        0  0.919079  0.080921          0\n",
              "353        0  0.817239  0.182761          0\n",
              "1019       0  0.310401  0.689599          1\n",
              "...      ...       ...       ...        ...\n",
              "926        0  0.997907  0.002093          0\n",
              "1065       0  0.999959  0.000041          0\n",
              "213        1  0.724176  0.275824          0\n",
              "245        1  0.643436  0.356564          0\n",
              "900        1  0.491566  0.508434          1\n",
              "\n",
              "[591 rows x 4 columns]"
            ]
          },
          "execution_count": 66,
          "metadata": {},
          "output_type": "execute_result"
        }
      ],
      "source": [
        "logit_reg_pred = logit_reg.predict(valid_X)\n",
        "logit_reg_proba = logit_reg.predict_proba(valid_X)\n",
        "logit_result = pd.DataFrame({'actual': valid_y,\n",
        "                             'p(0)': [p[0] for p in logit_reg_proba],\n",
        "                             'p(1)': [p[1] for p in logit_reg_proba],\n",
        "                             'predicted': logit_reg_pred })\n",
        "logit_result"
      ]
    },
    {
      "cell_type": "code",
      "execution_count": null,
      "id": "891c2119-2e59-4f8b-9788-204f408c6161",
      "metadata": {
        "id": "891c2119-2e59-4f8b-9788-204f408c6161",
        "outputId": "e41bebe7-9c8e-4b5a-f1e6-0b192da1aaec"
      },
      "outputs": [
        {
          "name": "stdout",
          "output_type": "stream",
          "text": [
            "Confusion Matrix (Accuracy 0.8395)\n",
            "\n",
            "       Prediction\n",
            "Actual   0   1\n",
            "     0 598  53\n",
            "     1  89 145\n",
            "Confusion Matrix (Accuracy 0.8054)\n",
            "\n",
            "       Prediction\n",
            "Actual   0   1\n",
            "     0 385  37\n",
            "     1  78  91\n"
          ]
        }
      ],
      "source": [
        "classificationSummary(train_y, logit_reg.predict(train_X))\n",
        "classificationSummary(valid_y, logit_reg.predict(valid_X))"
      ]
    },
    {
      "cell_type": "code",
      "execution_count": null,
      "id": "862a56c7-0a8e-4924-9e55-5db1b0f272c8",
      "metadata": {
        "id": "862a56c7-0a8e-4924-9e55-5db1b0f272c8",
        "outputId": "f83f995f-ef6e-46f1-a917-3e1f33ca4025"
      },
      "outputs": [
        {
          "data": {
            "image/png": "[encoded data removed]",
            "text/plain": [
              "<Figure size 1000x400 with 2 Axes>"
            ]
          },
          "metadata": {},
          "output_type": "display_data"
        }
      ],
      "source": [
        "import matplotlib.pyplot as plt\n",
        "%matplotlib inline\n",
        "import numpy as np\n",
        "\n",
        "df = logit_result.sort_values(by=['p(1)'], ascending=False)\n",
        "fig, axes = plt.subplots(nrows=1, ncols=2, figsize=(10, 4))\n",
        "\n",
        "gainsChart(df.actual, ax=axes[0])\n",
        "liftChart(df['p(1)'], title=False, ax=axes[1])\n",
        "\n",
        "plt.tight_layout()\n",
        "plt.show()"
      ]
    }
  ],
  "metadata": {
    "kernelspec": {
      "display_name": "anaconda-panel-2023.05-py310",
      "language": "python",
      "name": "conda-env-anaconda-panel-2023.05-py310-py"
    },
    "language_info": {
      "codemirror_mode": {
        "name": "ipython",
        "version": 3
      },
      "file_extension": ".py",
      "mimetype": "text/x-python",
      "name": "python",
      "nbconvert_exporter": "python",
      "pygments_lexer": "ipython3",
      "version": "3.11.5"
    },
    "colab": {
      "provenance": [],
      "include_colab_link": true
    }
  },
  "nbformat": 4,
  "nbformat_minor": 5
}