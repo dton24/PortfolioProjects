{
  "cells": [
    {
      "cell_type": "markdown",
      "metadata": {
        "id": "view-in-github",
        "colab_type": "text"
      },
      "source": [
        "<a href=\"https://colab.research.google.com/github/dton24/PortfolioProjects/blob/main/Adidas_MLR.ipynb\" target=\"_parent\"><img src=\"https://colab.research.google.com/assets/colab-badge.svg\" alt=\"Open In Colab\"/></a>"
      ]
    },
    {
      "cell_type": "markdown",
      "metadata": {
        "id": "Po8WnxmZUDCU",
        "tags": []
      },
      "source": [
        "# CIS 4321 Project: Multiple Linear Regression - Adidas\n",
        "by Dylan Ton"
      ]
    },
    {
      "cell_type": "markdown",
      "metadata": {
        "id": "2PUBWd-5UDCZ",
        "tags": []
      },
      "source": [
        "## 1. Problem definition\n",
        "Start with explaining the problem and how you plan the address it using machine learning."
      ]
    },
    {
      "cell_type": "markdown",
      "metadata": {
        "id": "GToLVm80UDCa"
      },
      "source": [
        "The crux of the issue lies in Adidas's struggle to maintain its foothold against the overpowering presence of Nike in recent years across various segments. The overarching goal of this project is to develop a predictive model, specifically a Multiple Linear Regression (MLR) model, that can accurately forecast which stores are likely to exhibit lower operating margins based on a set of specific features. By understanding these characteristics, the model will help inform decisions to avoid replicating these features in new store developments, thus safeguarding against practices that could detrimentally impact profitability.\n",
        "\n",
        "Additionally, the model will serve as a tool to identify existing stores with low operating margins, providing a basis for targeted strategies to enhance their financial performance. The insights gained will also lay the groundwork for further research into the causal relationships between store features and their operating margins. Ultimately, this model aims to guide cost-efficiency improvements and margin optimization across store operations."
      ]
    },
    {
      "cell_type": "markdown",
      "metadata": {
        "id": "QHriBOMRUDCb"
      },
      "source": [
        "## 2. Data description\n",
        "Explain the source of data, what each record represents, number of records, and detailed descriptions of all variables including at least a one-sentence description and data type. Specify which variables will be used in analysis."
      ]
    },
    {
      "cell_type": "markdown",
      "metadata": {
        "id": "oCmE2seRUDCc"
      },
      "source": [
        "**Disclaimer:**\n",
        "We are assuming this dataset is representative of the entire population.\n",
        "\n",
        "**Source of Dataset**\n",
        "- Our source of the dataset is a public dataset website called Kaggle.\n",
        "- Usability score: 8.24/10\n",
        "- Heemali Chaudhari. (2023, January). Adidas Sales Dataset, Version 1. Retrieved\n",
        "October 17, 2023 from https://www.kaggle.com/datasets/\n",
        "heemalichaudhari/adidas-sales-dataset.\n",
        "- Link: https://www.kaggle.com/datasets/heemalichaudhari/adidas-sales-dataset\n",
        "\n",
        "**Explain what each record represents**\n",
        "- Each record represents the cumulative daily sales of a specific type of product at a particular\n",
        "retailer. Each record is comprised of 13 different attributes, including Retailer, Retailer ID,\n",
        "Invoice Date, Region, State, City, Product, Price per Unit, Units Sold, Total Sales, Operating\n",
        "Profit, Operating Profit, and Sales Method. Each record provides information on different\n",
        "metrics such as location, finances, and time.\n",
        "\n",
        "- Number of records: 9648 records (or rows)\n",
        "- Numeric columns: Range of values, mean, and standard deviation\n",
        "- Categorical columns: All distinct values and their frequencies\n",
        "\n",
        "**Detailed descriptions of all variables including at least a one-sentence description, data\n",
        "type, and descriptive statistics.**\n",
        "1. Retailer: This indicates the name of the store or company that sold Adidas products.\n",
        "- Data type: String\n",
        "- Contains 6 distinct categorical variables: Amazon, Foot Locker, Kohl’s, Sports Direct,\n",
        "Walmart, West Gear\n",
        "- 4 NULL values\n",
        "\n",
        "2. Retailer ID: A unique identifier or code associated with each retailer ?\n",
        "- Data type: Integer\n",
        "- This is an identifier. It is not a numeric column. It is technically a categorical\n",
        "column because each identifier can be considered as a category.\n",
        "- There are problems with this column, as you can see from the chart below.\n",
        "Retailer ID is associated with multiple retailers, vice versa. Moreover, there are\n",
        "only 4 distinct Retailer IDs, however, there are 6 different retailers.\n",
        "- Due to these errors, we will get rid of this column.\n",
        "\n",
        "3. Invoice Date: The date on which the sale was made or the transaction occurred\n",
        "(month-day-year).\n",
        "- Data type: Date (month-day-year)\n",
        "- Contains 724 distinct categorical variables: There is a category for each specific\n",
        "date, thus, there are is a large amount of categorical variables\n",
        "\n",
        "4. Region: The broader geographical area where the sale took place.\n",
        "- Data type: String\n",
        "- Contains 5 distinct categorical variables: Midwest, Northeast, South, Southeast,\n",
        "West\n",
        "\n",
        "5. State: The specific state within the country where the retailer is located and the sale\n",
        "occurred.\n",
        "- Data type: String\n",
        "- Contains 50 distinct categorical variables: Categorized by 50 different U.S states\n",
        "\n",
        "6. City: The city where the retailer's store is situated and where the sale was made.\n",
        "- Data type: String\n",
        "- Contains 52 distinct categorical variables: Categorized by 52 different U.S cities\n",
        "\n",
        "\n",
        "7. Product: The category of the product that was sold.\n",
        "- Data type: String\n",
        "- Contains 6 distinct categorical variables: Men’s Apparel, Men’s Athletic Footwear,\n",
        "Men’s Street Footwear, Women’s Apparel, Women’s Athletic Footwear, Women’s\n",
        "Street Footwear\n",
        "\n",
        "8. Price per Unit: The selling price of a single unit of the product.\n",
        "- Data Type: Float\n",
        "\n",
        "9. Units Sold: The total number of units of the product that were sold.\n",
        "- Data Type: INT\n",
        "\n",
        "10. Total Sales: The total monetary value of the sales, calculated as the product of \"Price\n",
        "per Unit\" and \"Units Sold\".\n",
        "- Data Type: Float\n",
        "\n",
        "11. Operating Profit: The profit made from the sale after deducting the basic costs\n",
        "associated with selling that product, but before considering other expenses like interest\n",
        "and taxes.\n",
        "- Data Type: Float\n",
        "- Every 1 = $1\n",
        "\n",
        "12. Operating Margin: This is a percentage that indicates how much profit was made from\n",
        "the total sales. It's calculated as the ratio of \"Operating Profit\" to \"Total Sales\". A higher\n",
        "percentage indicates greater profitability.\n",
        "- Data Type: Float\n",
        "\n",
        "13. Sales Method: Describes the method or channel through which the sale was made. For\n",
        "instance, \"In-store\" indicates that the product was bought directly from a physical retail\n",
        "location.\n",
        "- Data Type: String\n",
        "- Contains 3 distinct categorical variables: In-store, Online, Outlet\n",
        "\n",
        "**Attributes to remove**\n",
        "- Make a new column called ‘Invoice Month’ extracting the month from ‘Invoice Date’\n",
        "- Remove ‘Invoice Date” column because it is too specific and may lead to overfitting\n",
        "- Delete the ‘Retailer ID’ column because it is too specific to a specific store and will lead\n",
        "to overfitting\n",
        "- Delete  ‘Units Sold’, ‘Operating Margin’, and ‘Total Sales’ because\n",
        "‘Operating Profit’ is dependent on these attributes. Keeping it will lead to multicollinearity.\n",
        "- Remove 'State' and 'City' to precent overfitting because these locations are too specific.\n",
        "\n",
        "**Attributes Planned to Use for Model**\n",
        "- **Retailer**: Effects of the type of retailer on operating profit\n",
        "      \n",
        "\n",
        "- **Region**: Effects of where the products are sold on operating profit\n",
        "\n",
        "- **Product**: Effect of what type of products are sold on operating profit\n",
        "\n",
        "- **Operating Margin** (Dependent Variable): Outcome\n",
        "\n",
        "- **Sales Method**: Effect of selling method on operating profit\n",
        "\n",
        "- **Price Per Unit** -> **Price Per Unit Level**: Effect on how much the average customer spends on an item at each store on operating profit\n",
        "\n"
      ]
    },
    {
      "cell_type": "markdown",
      "metadata": {
        "id": "s4pLciQkUDCf"
      },
      "source": [
        "## 3. Method of analysis\n",
        "Explain the selected method (classification, regression, or clustering).\n",
        "\n",
        "The overarching goal of this project is to develop a predictive model, specifically a Multiple Linear Regression (MLR) model, that can accurately forecast which stores are likely to exhibit lower operating margins based on a set of specific features. By understanding these characteristics, the model will help inform decisions to avoid replicating these features in new store developments, thus safeguarding against practices that could detrimentally impact profitability.\n",
        "\n",
        "**Attributes Planned to Use for Model**\n",
        "- **Retailer**: Effects of the type of retailer on operating profit\n",
        "      \n",
        "\n",
        "- **Region**: Effects of where the products are sold on operating profit\n",
        "\n",
        "- **Product**: Effect of what type of products are sold on operating profit\n",
        "\n",
        "- **Operating Margin** (Dependent Variable): Outcome\n",
        "\n",
        "- **Sales Method**: Effect of selling method on operating profit\n",
        "\n",
        "- **Price Per Unit** -> **Price Per Unit Level**: Effect on how much the average customer spends on an item at each store on operating profit"
      ]
    },
    {
      "cell_type": "markdown",
      "metadata": {
        "id": "U8JbikrFUDCg"
      },
      "source": [
        "## 4. Loading packages and data"
      ]
    },
    {
      "cell_type": "markdown",
      "metadata": {
        "id": "Ya4lTHW5UDCh"
      },
      "source": [
        "Import and load packages"
      ]
    },
    {
      "cell_type": "code",
      "execution_count": null,
      "metadata": {
        "colab": {
          "base_uri": "https://localhost:8080/"
        },
        "id": "IghoAU9FUDCj",
        "outputId": "3c9ec9c4-81ed-4aa5-94b6-c82b66338e68"
      },
      "outputs": [
        {
          "output_type": "stream",
          "name": "stdout",
          "text": [
            "Requirement already satisfied: dmba in /usr/local/lib/python3.10/dist-packages (0.2.4)\n",
            "Requirement already satisfied: graphviz in /usr/local/lib/python3.10/dist-packages (from dmba) (0.20.1)\n",
            "Requirement already satisfied: matplotlib in /usr/local/lib/python3.10/dist-packages (from dmba) (3.7.1)\n",
            "Requirement already satisfied: numpy in /usr/local/lib/python3.10/dist-packages (from dmba) (1.23.5)\n",
            "Requirement already satisfied: pandas in /usr/local/lib/python3.10/dist-packages (from dmba) (1.5.3)\n",
            "Requirement already satisfied: scikit-learn in /usr/local/lib/python3.10/dist-packages (from dmba) (1.2.2)\n",
            "Requirement already satisfied: scipy in /usr/local/lib/python3.10/dist-packages (from dmba) (1.11.4)\n",
            "Requirement already satisfied: contourpy>=1.0.1 in /usr/local/lib/python3.10/dist-packages (from matplotlib->dmba) (1.2.0)\n",
            "Requirement already satisfied: cycler>=0.10 in /usr/local/lib/python3.10/dist-packages (from matplotlib->dmba) (0.12.1)\n",
            "Requirement already satisfied: fonttools>=4.22.0 in /usr/local/lib/python3.10/dist-packages (from matplotlib->dmba) (4.45.1)\n",
            "Requirement already satisfied: kiwisolver>=1.0.1 in /usr/local/lib/python3.10/dist-packages (from matplotlib->dmba) (1.4.5)\n",
            "Requirement already satisfied: packaging>=20.0 in /usr/local/lib/python3.10/dist-packages (from matplotlib->dmba) (23.2)\n",
            "Requirement already satisfied: pillow>=6.2.0 in /usr/local/lib/python3.10/dist-packages (from matplotlib->dmba) (9.4.0)\n",
            "Requirement already satisfied: pyparsing>=2.3.1 in /usr/local/lib/python3.10/dist-packages (from matplotlib->dmba) (3.1.1)\n",
            "Requirement already satisfied: python-dateutil>=2.7 in /usr/local/lib/python3.10/dist-packages (from matplotlib->dmba) (2.8.2)\n",
            "Requirement already satisfied: pytz>=2020.1 in /usr/local/lib/python3.10/dist-packages (from pandas->dmba) (2023.3.post1)\n",
            "Requirement already satisfied: joblib>=1.1.1 in /usr/local/lib/python3.10/dist-packages (from scikit-learn->dmba) (1.3.2)\n",
            "Requirement already satisfied: threadpoolctl>=2.0.0 in /usr/local/lib/python3.10/dist-packages (from scikit-learn->dmba) (3.2.0)\n",
            "Requirement already satisfied: six>=1.5 in /usr/local/lib/python3.10/dist-packages (from python-dateutil>=2.7->matplotlib->dmba) (1.16.0)\n"
          ]
        }
      ],
      "source": [
        "%matplotlib inline\n",
        "!pip install dmba"
      ]
    },
    {
      "cell_type": "code",
      "execution_count": null,
      "metadata": {
        "id": "Y9OZ4t3lUDCk"
      },
      "outputs": [],
      "source": [
        "from pathlib import Path\n",
        "\n",
        "import pandas as pd\n",
        "\n",
        "from sklearn.model_selection import train_test_split\n",
        "from sklearn.linear_model import LinearRegression, Lasso, Ridge, LassoCV, BayesianRidge\n",
        "import statsmodels.formula.api as sm\n",
        "import matplotlib.pyplot as plt\n",
        "\n",
        "from dmba import regressionSummary, exhaustive_search\n",
        "from dmba import backward_elimination, forward_selection, stepwise_selection\n",
        "from dmba import adjusted_r2_score, AIC_score, BIC_score"
      ]
    },
    {
      "cell_type": "markdown",
      "metadata": {
        "id": "OqRrrzYyUDCl"
      },
      "source": [
        "Load your dataset using a relative path."
      ]
    },
    {
      "cell_type": "code",
      "execution_count": null,
      "metadata": {
        "colab": {
          "base_uri": "https://localhost:8080/",
          "height": 424
        },
        "id": "QAfegnx8UDCl",
        "outputId": "32b53e8c-4893-4b19-9b86-7da46b993ec2"
      },
      "outputs": [
        {
          "output_type": "execute_result",
          "data": {
            "text/plain": [
              "         Retailer  Retailer ID Invoice Date     Region          State  \\\n",
              "0     Foot Locker      1185732   2020-01-01  Northeast       New York   \n",
              "1     Foot Locker      1185732   2020-01-02  Northeast       New York   \n",
              "2     Foot Locker      1185732   2020-01-03  Northeast       New York   \n",
              "3     Foot Locker      1185732   2020-01-04  Northeast       New York   \n",
              "4     Foot Locker      1185732   2020-01-05  Northeast       New York   \n",
              "...           ...          ...          ...        ...            ...   \n",
              "9643  Foot Locker      1185732   2021-01-24  Northeast  New Hampshire   \n",
              "9644  Foot Locker      1185732   2021-01-24  Northeast  New Hampshire   \n",
              "9645  Foot Locker      1185732   2021-02-22  Northeast  New Hampshire   \n",
              "9646  Foot Locker      1185732   2021-02-22  Northeast  New Hampshire   \n",
              "9647  Foot Locker      1185732   2021-02-22  Northeast  New Hampshire   \n",
              "\n",
              "            City                    Product  Price per Unit  Units Sold  \\\n",
              "0       New York      Men's Street Footwear            50.0        1200   \n",
              "1       New York    Men's Athletic Footwear            50.0        1000   \n",
              "2       New York    Women's Street Footwear            40.0        1000   \n",
              "3       New York  Women's Athletic Footwear            45.0         850   \n",
              "4       New York              Men's Apparel            60.0         900   \n",
              "...          ...                        ...             ...         ...   \n",
              "9643  Manchester              Men's Apparel            50.0          64   \n",
              "9644  Manchester            Women's Apparel            41.0         105   \n",
              "9645  Manchester      Men's Street Footwear            41.0         184   \n",
              "9646  Manchester    Men's Athletic Footwear            42.0          70   \n",
              "9647  Manchester    Women's Street Footwear            29.0          83   \n",
              "\n",
              "      Total Sales  Operating Profit  Operating Margin Sales Method  \n",
              "0        600000.0         300000.00              0.50     In-store  \n",
              "1        500000.0         150000.00              0.30     In-store  \n",
              "2        400000.0         140000.00              0.35     In-store  \n",
              "3        382500.0         133875.00              0.35     In-store  \n",
              "4        540000.0         162000.00              0.30     In-store  \n",
              "...           ...               ...               ...          ...  \n",
              "9643       3200.0            896.00              0.28       Outlet  \n",
              "9644       4305.0           1377.60              0.32       Outlet  \n",
              "9645       7544.0           2791.28              0.37       Outlet  \n",
              "9646       2940.0           1234.80              0.42       Outlet  \n",
              "9647       2407.0            649.89              0.27       Outlet  \n",
              "\n",
              "[9648 rows x 13 columns]"
            ],
            "text/html": [
              "\n",
              "  <div id=\"df-cccae188-9954-489d-8dfa-e09a68581b88\" class=\"colab-df-container\">\n",
              "    <div>\n",
              "<style scoped>\n",
              "    .dataframe tbody tr th:only-of-type {\n",
              "        vertical-align: middle;\n",
              "    }\n",
              "\n",
              "    .dataframe tbody tr th {\n",
              "        vertical-align: top;\n",
              "    }\n",
              "\n",
              "    .dataframe thead th {\n",
              "        text-align: right;\n",
              "    }\n",
              "</style>\n",
              "<table border=\"1\" class=\"dataframe\">\n",
              "  <thead>\n",
              "    <tr style=\"text-align: right;\">\n",
              "      <th></th>\n",
              "      <th>Retailer</th>\n",
              "      <th>Retailer ID</th>\n",
              "      <th>Invoice Date</th>\n",
              "      <th>Region</th>\n",
              "      <th>State</th>\n",
              "      <th>City</th>\n",
              "      <th>Product</th>\n",
              "      <th>Price per Unit</th>\n",
              "      <th>Units Sold</th>\n",
              "      <th>Total Sales</th>\n",
              "      <th>Operating Profit</th>\n",
              "      <th>Operating Margin</th>\n",
              "      <th>Sales Method</th>\n",
              "    </tr>\n",
              "  </thead>\n",
              "  <tbody>\n",
              "    <tr>\n",
              "      <th>0</th>\n",
              "      <td>Foot Locker</td>\n",
              "      <td>1185732</td>\n",
              "      <td>2020-01-01</td>\n",
              "      <td>Northeast</td>\n",
              "      <td>New York</td>\n",
              "      <td>New York</td>\n",
              "      <td>Men's Street Footwear</td>\n",
              "      <td>50.0</td>\n",
              "      <td>1200</td>\n",
              "      <td>600000.0</td>\n",
              "      <td>300000.00</td>\n",
              "      <td>0.50</td>\n",
              "      <td>In-store</td>\n",
              "    </tr>\n",
              "    <tr>\n",
              "      <th>1</th>\n",
              "      <td>Foot Locker</td>\n",
              "      <td>1185732</td>\n",
              "      <td>2020-01-02</td>\n",
              "      <td>Northeast</td>\n",
              "      <td>New York</td>\n",
              "      <td>New York</td>\n",
              "      <td>Men's Athletic Footwear</td>\n",
              "      <td>50.0</td>\n",
              "      <td>1000</td>\n",
              "      <td>500000.0</td>\n",
              "      <td>150000.00</td>\n",
              "      <td>0.30</td>\n",
              "      <td>In-store</td>\n",
              "    </tr>\n",
              "    <tr>\n",
              "      <th>2</th>\n",
              "      <td>Foot Locker</td>\n",
              "      <td>1185732</td>\n",
              "      <td>2020-01-03</td>\n",
              "      <td>Northeast</td>\n",
              "      <td>New York</td>\n",
              "      <td>New York</td>\n",
              "      <td>Women's Street Footwear</td>\n",
              "      <td>40.0</td>\n",
              "      <td>1000</td>\n",
              "      <td>400000.0</td>\n",
              "      <td>140000.00</td>\n",
              "      <td>0.35</td>\n",
              "      <td>In-store</td>\n",
              "    </tr>\n",
              "    <tr>\n",
              "      <th>3</th>\n",
              "      <td>Foot Locker</td>\n",
              "      <td>1185732</td>\n",
              "      <td>2020-01-04</td>\n",
              "      <td>Northeast</td>\n",
              "      <td>New York</td>\n",
              "      <td>New York</td>\n",
              "      <td>Women's Athletic Footwear</td>\n",
              "      <td>45.0</td>\n",
              "      <td>850</td>\n",
              "      <td>382500.0</td>\n",
              "      <td>133875.00</td>\n",
              "      <td>0.35</td>\n",
              "      <td>In-store</td>\n",
              "    </tr>\n",
              "    <tr>\n",
              "      <th>4</th>\n",
              "      <td>Foot Locker</td>\n",
              "      <td>1185732</td>\n",
              "      <td>2020-01-05</td>\n",
              "      <td>Northeast</td>\n",
              "      <td>New York</td>\n",
              "      <td>New York</td>\n",
              "      <td>Men's Apparel</td>\n",
              "      <td>60.0</td>\n",
              "      <td>900</td>\n",
              "      <td>540000.0</td>\n",
              "      <td>162000.00</td>\n",
              "      <td>0.30</td>\n",
              "      <td>In-store</td>\n",
              "    </tr>\n",
              "    <tr>\n",
              "      <th>...</th>\n",
              "      <td>...</td>\n",
              "      <td>...</td>\n",
              "      <td>...</td>\n",
              "      <td>...</td>\n",
              "      <td>...</td>\n",
              "      <td>...</td>\n",
              "      <td>...</td>\n",
              "      <td>...</td>\n",
              "      <td>...</td>\n",
              "      <td>...</td>\n",
              "      <td>...</td>\n",
              "      <td>...</td>\n",
              "      <td>...</td>\n",
              "    </tr>\n",
              "    <tr>\n",
              "      <th>9643</th>\n",
              "      <td>Foot Locker</td>\n",
              "      <td>1185732</td>\n",
              "      <td>2021-01-24</td>\n",
              "      <td>Northeast</td>\n",
              "      <td>New Hampshire</td>\n",
              "      <td>Manchester</td>\n",
              "      <td>Men's Apparel</td>\n",
              "      <td>50.0</td>\n",
              "      <td>64</td>\n",
              "      <td>3200.0</td>\n",
              "      <td>896.00</td>\n",
              "      <td>0.28</td>\n",
              "      <td>Outlet</td>\n",
              "    </tr>\n",
              "    <tr>\n",
              "      <th>9644</th>\n",
              "      <td>Foot Locker</td>\n",
              "      <td>1185732</td>\n",
              "      <td>2021-01-24</td>\n",
              "      <td>Northeast</td>\n",
              "      <td>New Hampshire</td>\n",
              "      <td>Manchester</td>\n",
              "      <td>Women's Apparel</td>\n",
              "      <td>41.0</td>\n",
              "      <td>105</td>\n",
              "      <td>4305.0</td>\n",
              "      <td>1377.60</td>\n",
              "      <td>0.32</td>\n",
              "      <td>Outlet</td>\n",
              "    </tr>\n",
              "    <tr>\n",
              "      <th>9645</th>\n",
              "      <td>Foot Locker</td>\n",
              "      <td>1185732</td>\n",
              "      <td>2021-02-22</td>\n",
              "      <td>Northeast</td>\n",
              "      <td>New Hampshire</td>\n",
              "      <td>Manchester</td>\n",
              "      <td>Men's Street Footwear</td>\n",
              "      <td>41.0</td>\n",
              "      <td>184</td>\n",
              "      <td>7544.0</td>\n",
              "      <td>2791.28</td>\n",
              "      <td>0.37</td>\n",
              "      <td>Outlet</td>\n",
              "    </tr>\n",
              "    <tr>\n",
              "      <th>9646</th>\n",
              "      <td>Foot Locker</td>\n",
              "      <td>1185732</td>\n",
              "      <td>2021-02-22</td>\n",
              "      <td>Northeast</td>\n",
              "      <td>New Hampshire</td>\n",
              "      <td>Manchester</td>\n",
              "      <td>Men's Athletic Footwear</td>\n",
              "      <td>42.0</td>\n",
              "      <td>70</td>\n",
              "      <td>2940.0</td>\n",
              "      <td>1234.80</td>\n",
              "      <td>0.42</td>\n",
              "      <td>Outlet</td>\n",
              "    </tr>\n",
              "    <tr>\n",
              "      <th>9647</th>\n",
              "      <td>Foot Locker</td>\n",
              "      <td>1185732</td>\n",
              "      <td>2021-02-22</td>\n",
              "      <td>Northeast</td>\n",
              "      <td>New Hampshire</td>\n",
              "      <td>Manchester</td>\n",
              "      <td>Women's Street Footwear</td>\n",
              "      <td>29.0</td>\n",
              "      <td>83</td>\n",
              "      <td>2407.0</td>\n",
              "      <td>649.89</td>\n",
              "      <td>0.27</td>\n",
              "      <td>Outlet</td>\n",
              "    </tr>\n",
              "  </tbody>\n",
              "</table>\n",
              "<p>9648 rows × 13 columns</p>\n",
              "</div>\n",
              "    <div class=\"colab-df-buttons\">\n",
              "\n",
              "  <div class=\"colab-df-container\">\n",
              "    <button class=\"colab-df-convert\" onclick=\"convertToInteractive('df-cccae188-9954-489d-8dfa-e09a68581b88')\"\n",
              "            title=\"Convert this dataframe to an interactive table.\"\n",
              "            style=\"display:none;\">\n",
              "\n",
              "  <svg xmlns=\"http://www.w3.org/2000/svg\" height=\"24px\" viewBox=\"0 -960 960 960\">\n",
              "    <path d=\"M120-120v-720h720v720H120Zm60-500h600v-160H180v160Zm220 220h160v-160H400v160Zm0 220h160v-160H400v160ZM180-400h160v-160H180v160Zm440 0h160v-160H620v160ZM180-180h160v-160H180v160Zm440 0h160v-160H620v160Z\"/>\n",
              "  </svg>\n",
              "    </button>\n",
              "\n",
              "  <style>\n",
              "    .colab-df-container {\n",
              "      display:flex;\n",
              "      gap: 12px;\n",
              "    }\n",
              "\n",
              "    .colab-df-convert {\n",
              "      background-color: #E8F0FE;\n",
              "      border: none;\n",
              "      border-radius: 50%;\n",
              "      cursor: pointer;\n",
              "      display: none;\n",
              "      fill: #1967D2;\n",
              "      height: 32px;\n",
              "      padding: 0 0 0 0;\n",
              "      width: 32px;\n",
              "    }\n",
              "\n",
              "    .colab-df-convert:hover {\n",
              "      background-color: #E2EBFA;\n",
              "      box-shadow: 0px 1px 2px rgba(60, 64, 67, 0.3), 0px 1px 3px 1px rgba(60, 64, 67, 0.15);\n",
              "      fill: #174EA6;\n",
              "    }\n",
              "\n",
              "    .colab-df-buttons div {\n",
              "      margin-bottom: 4px;\n",
              "    }\n",
              "\n",
              "    [theme=dark] .colab-df-convert {\n",
              "      background-color: #3B4455;\n",
              "      fill: #D2E3FC;\n",
              "    }\n",
              "\n",
              "    [theme=dark] .colab-df-convert:hover {\n",
              "      background-color: #434B5C;\n",
              "      box-shadow: 0px 1px 3px 1px rgba(0, 0, 0, 0.15);\n",
              "      filter: drop-shadow(0px 1px 2px rgba(0, 0, 0, 0.3));\n",
              "      fill: #FFFFFF;\n",
              "    }\n",
              "  </style>\n",
              "\n",
              "    <script>\n",
              "      const buttonEl =\n",
              "        document.querySelector('#df-cccae188-9954-489d-8dfa-e09a68581b88 button.colab-df-convert');\n",
              "      buttonEl.style.display =\n",
              "        google.colab.kernel.accessAllowed ? 'block' : 'none';\n",
              "\n",
              "      async function convertToInteractive(key) {\n",
              "        const element = document.querySelector('#df-cccae188-9954-489d-8dfa-e09a68581b88');\n",
              "        const dataTable =\n",
              "          await google.colab.kernel.invokeFunction('convertToInteractive',\n",
              "                                                    [key], {});\n",
              "        if (!dataTable) return;\n",
              "\n",
              "        const docLinkHtml = 'Like what you see? Visit the ' +\n",
              "          '<a target=\"_blank\" href=https://colab.research.google.com/notebooks/data_table.ipynb>data table notebook</a>'\n",
              "          + ' to learn more about interactive tables.';\n",
              "        element.innerHTML = '';\n",
              "        dataTable['output_type'] = 'display_data';\n",
              "        await google.colab.output.renderOutput(dataTable, element);\n",
              "        const docLink = document.createElement('div');\n",
              "        docLink.innerHTML = docLinkHtml;\n",
              "        element.appendChild(docLink);\n",
              "      }\n",
              "    </script>\n",
              "  </div>\n",
              "\n",
              "\n",
              "<div id=\"df-e97e6327-d7b2-4dfa-87c2-24ed3f378d84\">\n",
              "  <button class=\"colab-df-quickchart\" onclick=\"quickchart('df-e97e6327-d7b2-4dfa-87c2-24ed3f378d84')\"\n",
              "            title=\"Suggest charts\"\n",
              "            style=\"display:none;\">\n",
              "\n",
              "<svg xmlns=\"http://www.w3.org/2000/svg\" height=\"24px\"viewBox=\"0 0 24 24\"\n",
              "     width=\"24px\">\n",
              "    <g>\n",
              "        <path d=\"M19 3H5c-1.1 0-2 .9-2 2v14c0 1.1.9 2 2 2h14c1.1 0 2-.9 2-2V5c0-1.1-.9-2-2-2zM9 17H7v-7h2v7zm4 0h-2V7h2v10zm4 0h-2v-4h2v4z\"/>\n",
              "    </g>\n",
              "</svg>\n",
              "  </button>\n",
              "\n",
              "<style>\n",
              "  .colab-df-quickchart {\n",
              "      --bg-color: #E8F0FE;\n",
              "      --fill-color: #1967D2;\n",
              "      --hover-bg-color: #E2EBFA;\n",
              "      --hover-fill-color: #174EA6;\n",
              "      --disabled-fill-color: #AAA;\n",
              "      --disabled-bg-color: #DDD;\n",
              "  }\n",
              "\n",
              "  [theme=dark] .colab-df-quickchart {\n",
              "      --bg-color: #3B4455;\n",
              "      --fill-color: #D2E3FC;\n",
              "      --hover-bg-color: #434B5C;\n",
              "      --hover-fill-color: #FFFFFF;\n",
              "      --disabled-bg-color: #3B4455;\n",
              "      --disabled-fill-color: #666;\n",
              "  }\n",
              "\n",
              "  .colab-df-quickchart {\n",
              "    background-color: var(--bg-color);\n",
              "    border: none;\n",
              "    border-radius: 50%;\n",
              "    cursor: pointer;\n",
              "    display: none;\n",
              "    fill: var(--fill-color);\n",
              "    height: 32px;\n",
              "    padding: 0;\n",
              "    width: 32px;\n",
              "  }\n",
              "\n",
              "  .colab-df-quickchart:hover {\n",
              "    background-color: var(--hover-bg-color);\n",
              "    box-shadow: 0 1px 2px rgba(60, 64, 67, 0.3), 0 1px 3px 1px rgba(60, 64, 67, 0.15);\n",
              "    fill: var(--button-hover-fill-color);\n",
              "  }\n",
              "\n",
              "  .colab-df-quickchart-complete:disabled,\n",
              "  .colab-df-quickchart-complete:disabled:hover {\n",
              "    background-color: var(--disabled-bg-color);\n",
              "    fill: var(--disabled-fill-color);\n",
              "    box-shadow: none;\n",
              "  }\n",
              "\n",
              "  .colab-df-spinner {\n",
              "    border: 2px solid var(--fill-color);\n",
              "    border-color: transparent;\n",
              "    border-bottom-color: var(--fill-color);\n",
              "    animation:\n",
              "      spin 1s steps(1) infinite;\n",
              "  }\n",
              "\n",
              "  @keyframes spin {\n",
              "    0% {\n",
              "      border-color: transparent;\n",
              "      border-bottom-color: var(--fill-color);\n",
              "      border-left-color: var(--fill-color);\n",
              "    }\n",
              "    20% {\n",
              "      border-color: transparent;\n",
              "      border-left-color: var(--fill-color);\n",
              "      border-top-color: var(--fill-color);\n",
              "    }\n",
              "    30% {\n",
              "      border-color: transparent;\n",
              "      border-left-color: var(--fill-color);\n",
              "      border-top-color: var(--fill-color);\n",
              "      border-right-color: var(--fill-color);\n",
              "    }\n",
              "    40% {\n",
              "      border-color: transparent;\n",
              "      border-right-color: var(--fill-color);\n",
              "      border-top-color: var(--fill-color);\n",
              "    }\n",
              "    60% {\n",
              "      border-color: transparent;\n",
              "      border-right-color: var(--fill-color);\n",
              "    }\n",
              "    80% {\n",
              "      border-color: transparent;\n",
              "      border-right-color: var(--fill-color);\n",
              "      border-bottom-color: var(--fill-color);\n",
              "    }\n",
              "    90% {\n",
              "      border-color: transparent;\n",
              "      border-bottom-color: var(--fill-color);\n",
              "    }\n",
              "  }\n",
              "</style>\n",
              "\n",
              "  <script>\n",
              "    async function quickchart(key) {\n",
              "      const quickchartButtonEl =\n",
              "        document.querySelector('#' + key + ' button');\n",
              "      quickchartButtonEl.disabled = true;  // To prevent multiple clicks.\n",
              "      quickchartButtonEl.classList.add('colab-df-spinner');\n",
              "      try {\n",
              "        const charts = await google.colab.kernel.invokeFunction(\n",
              "            'suggestCharts', [key], {});\n",
              "      } catch (error) {\n",
              "        console.error('Error during call to suggestCharts:', error);\n",
              "      }\n",
              "      quickchartButtonEl.classList.remove('colab-df-spinner');\n",
              "      quickchartButtonEl.classList.add('colab-df-quickchart-complete');\n",
              "    }\n",
              "    (() => {\n",
              "      let quickchartButtonEl =\n",
              "        document.querySelector('#df-e97e6327-d7b2-4dfa-87c2-24ed3f378d84 button');\n",
              "      quickchartButtonEl.style.display =\n",
              "        google.colab.kernel.accessAllowed ? 'block' : 'none';\n",
              "    })();\n",
              "  </script>\n",
              "</div>\n",
              "    </div>\n",
              "  </div>\n"
            ]
          },
          "metadata": {},
          "execution_count": 269
        }
      ],
      "source": [
        "import pandas as pd\n",
        "df = pd.read_excel(\"Adidas US Sales Datasets.xlsx\", sheet_name = 'Data Sales Adidas')\n",
        "df"
      ]
    },
    {
      "cell_type": "markdown",
      "metadata": {
        "id": "YZ2aL3-UW8OC"
      },
      "source": [
        "# Correlation Matrix & Analysis: Is multicollinearity an issue?\n",
        "**Below, is a correlation matrix I used to help determine which numerical variables to drop due to multicollinearity. **"
      ]
    },
    {
      "cell_type": "code",
      "execution_count": null,
      "metadata": {
        "colab": {
          "base_uri": "https://localhost:8080/",
          "height": 598
        },
        "id": "ezcLP1CIUDCn",
        "outputId": "22be7afa-e9dd-487a-9102-86b1a61471f6"
      },
      "outputs": [
        {
          "output_type": "stream",
          "name": "stderr",
          "text": [
            "<ipython-input-270-b906c47e675d>:2: FutureWarning: The default value of numeric_only in DataFrame.corr is deprecated. In a future version, it will default to False. Select only valid columns or specify the value of numeric_only to silence this warning.\n",
            "  correlation_matrix = df.corr()\n"
          ]
        },
        {
          "output_type": "display_data",
          "data": {
            "text/plain": [
              "<Figure size 640x480 with 2 Axes>"
            ],
            "image/png": "[encoded data removed]"
          },
          "metadata": {}
        }
      ],
      "source": [
        "\n",
        "# Assuming you have a DataFrame 'df' with numerical columns\n",
        "correlation_matrix = df.corr()\n",
        "\n",
        "# This will give you a DataFrame with the correlation values\n",
        "\n",
        "import seaborn as sns\n",
        "import matplotlib.pyplot as plt\n",
        "\n",
        "# Use seaborn to create a heatmap of the correlation matrix\n",
        "sns.heatmap(correlation_matrix, annot=True, cmap='coolwarm')\n",
        "\n",
        "# Show the plot\n",
        "plt.show()\n"
      ]
    },
    {
      "cell_type": "markdown",
      "metadata": {
        "id": "uCjz3ESyZxBx"
      },
      "source": [
        "Upon examining 'Operating Margin' in relation to other variables, we observe no substantial correlations, suggesting a potential absence of multicollinearity among the independent variables and the dependent variable. Despite this, I have opted to exclude most of these variables to err on the side of caution, given their theoretical interdependence, as previously discussed. However, 'Price per Unit' will be retained since it theoretically does not directly influence operating margin, and this is supported by the data showing a very weak negative correlation of -0.14 with operating margin."
      ]
    },
    {
      "cell_type": "markdown",
      "metadata": {
        "id": "XgO9sFwsUDCo"
      },
      "source": [
        "## 5. Data Cleaning"
      ]
    },
    {
      "cell_type": "markdown",
      "metadata": {
        "id": "adeKZSzeUDCq"
      },
      "source": [
        "Remove ‘Invoice Date” column because it is too specific and may lead to overfitting"
      ]
    },
    {
      "cell_type": "code",
      "execution_count": null,
      "metadata": {
        "id": "DrNkgGaTUDCq"
      },
      "outputs": [],
      "source": [
        "df = df.drop(columns = 'Invoice Date')"
      ]
    },
    {
      "cell_type": "markdown",
      "metadata": {
        "id": "1I4MZLqRUDCr"
      },
      "source": [
        "Delete the ‘Retailer ID’ column because it is too specific to a specific store and will lead to overfitting"
      ]
    },
    {
      "cell_type": "code",
      "execution_count": null,
      "metadata": {
        "id": "7uEwQPpvUDCr"
      },
      "outputs": [],
      "source": [
        "df = df.drop(columns = 'Retailer ID')"
      ]
    },
    {
      "cell_type": "markdown",
      "metadata": {
        "id": "Vc5uP52vUDCr"
      },
      "source": [
        "Delete ‘Price per Unit’, ‘Units Sold’, ‘Operating Margin’, and ‘Total Sales’ because ‘Operating Profit’ is dependent on these attributes. Keeping it will lead to multicollinearity."
      ]
    },
    {
      "cell_type": "code",
      "execution_count": null,
      "metadata": {
        "id": "75-lQ_VMUDCr"
      },
      "outputs": [],
      "source": [
        "df = df.drop(columns = ['Units Sold', 'Operating Profit' , 'Total Sales'])"
      ]
    },
    {
      "cell_type": "markdown",
      "metadata": {
        "id": "HzwBbGnJUDCs"
      },
      "source": [
        "Remove 'State' and 'City' to precent overfitting because these locations are too specific."
      ]
    },
    {
      "cell_type": "code",
      "execution_count": null,
      "metadata": {
        "id": "R0amnv7pUDCs"
      },
      "outputs": [],
      "source": [
        "df = df.drop(columns = ['City', 'State'])"
      ]
    },
    {
      "cell_type": "markdown",
      "metadata": {
        "id": "ZJnaXxS5UDCs"
      },
      "source": [
        "Change name of 'Product' column to 'Product Type' for clearer understanding of column."
      ]
    },
    {
      "cell_type": "code",
      "execution_count": null,
      "metadata": {
        "id": "YB20ZshQUDCs"
      },
      "outputs": [],
      "source": [
        "df = df.rename(columns={'Product': 'Product Type'})"
      ]
    },
    {
      "cell_type": "markdown",
      "metadata": {
        "id": "UrJjEW30r5ZA"
      },
      "source": [
        "Turn 'Price Per Unit' into a categorical column by binning into categories. This is because we want to avoid overfitting the model with these specific numbers.\n",
        "*   7-20: \"Extremely Low\" - Stores where shoppers typically buy the most affordably priced items.\n",
        "*   21-40: \"Low\" - Stores with a customer base that buys regularly priced Adidas merchandise.\n",
        "*   41-60: \"Moderate\" - Stores where shoppers often purchase slightly higher-priced, quality Adidas products.\n",
        "*   61-80: \"High\" - Stores attracting customers who buy premium, higher-cost items.\n",
        "*   81-150: \"Very High\" - Stores frequented by shoppers purchasing the most expensive, luxury Adidas products.\n",
        "\n",
        "\n"
      ]
    },
    {
      "cell_type": "code",
      "execution_count": null,
      "metadata": {
        "colab": {
          "base_uri": "https://localhost:8080/"
        },
        "id": "CXaKs0w53TVz",
        "outputId": "0f044df4-3090-436c-d155-a6894b6d5498"
      },
      "outputs": [
        {
          "output_type": "execute_result",
          "data": {
            "text/plain": [
              "count    9648.000000\n",
              "mean       45.216625\n",
              "std        14.705397\n",
              "min         7.000000\n",
              "25%        35.000000\n",
              "50%        45.000000\n",
              "75%        55.000000\n",
              "max       110.000000\n",
              "Name: Price per Unit, dtype: float64"
            ]
          },
          "metadata": {},
          "execution_count": 276
        }
      ],
      "source": [
        "#Find min and max values for Price per Unit\n",
        "df['Price per Unit'].describe()"
      ]
    },
    {
      "cell_type": "code",
      "execution_count": null,
      "metadata": {
        "id": "3zEYnKSOsezL"
      },
      "outputs": [],
      "source": [
        "# Define the bins and their corresponding labels\n",
        "bins = [6, 20, 40, 60, 80, 111]\n",
        "labels = ['Extremely Low', 'Low', 'Moderate', 'High', 'Very High']\n",
        "\n",
        "# Bin 'Price per Unit' into categories and assign the labels\n",
        "df['Price per Unit Level'] = pd.cut(df['Price per Unit'], bins=bins, labels=labels, include_lowest=True)\n",
        "\n",
        "# The DataFrame 'df' now has an additional column 'Price per Unit Level', which indicates which stores' customers pay the most for Adidas Products.\n",
        "\n"
      ]
    },
    {
      "cell_type": "markdown",
      "metadata": {
        "id": "B7vSS88syQg4"
      },
      "source": [
        "Delete 'Price per Unit' column"
      ]
    },
    {
      "cell_type": "code",
      "execution_count": null,
      "metadata": {
        "id": "DCJC_FhDyTRY"
      },
      "outputs": [],
      "source": [
        "df = df.drop(columns = 'Price per Unit')"
      ]
    },
    {
      "cell_type": "markdown",
      "metadata": {
        "id": "p0rRk_r3UDCt"
      },
      "source": [
        "Examine new columns"
      ]
    },
    {
      "cell_type": "code",
      "execution_count": null,
      "metadata": {
        "colab": {
          "base_uri": "https://localhost:8080/",
          "height": 206
        },
        "id": "E_cJLl2zUDCt",
        "outputId": "9bb731d1-43a6-4eff-f3a8-3eba7bd90ca2"
      },
      "outputs": [
        {
          "output_type": "execute_result",
          "data": {
            "text/plain": [
              "      Retailer     Region               Product Type  Operating Margin  \\\n",
              "0  Foot Locker  Northeast      Men's Street Footwear              0.50   \n",
              "1  Foot Locker  Northeast    Men's Athletic Footwear              0.30   \n",
              "2  Foot Locker  Northeast    Women's Street Footwear              0.35   \n",
              "3  Foot Locker  Northeast  Women's Athletic Footwear              0.35   \n",
              "4  Foot Locker  Northeast              Men's Apparel              0.30   \n",
              "\n",
              "  Sales Method Price per Unit Level  \n",
              "0     In-store             Moderate  \n",
              "1     In-store             Moderate  \n",
              "2     In-store                  Low  \n",
              "3     In-store             Moderate  \n",
              "4     In-store             Moderate  "
            ],
            "text/html": [
              "\n",
              "  <div id=\"df-bea3e256-55eb-463d-9544-395f7308b966\" class=\"colab-df-container\">\n",
              "    <div>\n",
              "<style scoped>\n",
              "    .dataframe tbody tr th:only-of-type {\n",
              "        vertical-align: middle;\n",
              "    }\n",
              "\n",
              "    .dataframe tbody tr th {\n",
              "        vertical-align: top;\n",
              "    }\n",
              "\n",
              "    .dataframe thead th {\n",
              "        text-align: right;\n",
              "    }\n",
              "</style>\n",
              "<table border=\"1\" class=\"dataframe\">\n",
              "  <thead>\n",
              "    <tr style=\"text-align: right;\">\n",
              "      <th></th>\n",
              "      <th>Retailer</th>\n",
              "      <th>Region</th>\n",
              "      <th>Product Type</th>\n",
              "      <th>Operating Margin</th>\n",
              "      <th>Sales Method</th>\n",
              "      <th>Price per Unit Level</th>\n",
              "    </tr>\n",
              "  </thead>\n",
              "  <tbody>\n",
              "    <tr>\n",
              "      <th>0</th>\n",
              "      <td>Foot Locker</td>\n",
              "      <td>Northeast</td>\n",
              "      <td>Men's Street Footwear</td>\n",
              "      <td>0.50</td>\n",
              "      <td>In-store</td>\n",
              "      <td>Moderate</td>\n",
              "    </tr>\n",
              "    <tr>\n",
              "      <th>1</th>\n",
              "      <td>Foot Locker</td>\n",
              "      <td>Northeast</td>\n",
              "      <td>Men's Athletic Footwear</td>\n",
              "      <td>0.30</td>\n",
              "      <td>In-store</td>\n",
              "      <td>Moderate</td>\n",
              "    </tr>\n",
              "    <tr>\n",
              "      <th>2</th>\n",
              "      <td>Foot Locker</td>\n",
              "      <td>Northeast</td>\n",
              "      <td>Women's Street Footwear</td>\n",
              "      <td>0.35</td>\n",
              "      <td>In-store</td>\n",
              "      <td>Low</td>\n",
              "    </tr>\n",
              "    <tr>\n",
              "      <th>3</th>\n",
              "      <td>Foot Locker</td>\n",
              "      <td>Northeast</td>\n",
              "      <td>Women's Athletic Footwear</td>\n",
              "      <td>0.35</td>\n",
              "      <td>In-store</td>\n",
              "      <td>Moderate</td>\n",
              "    </tr>\n",
              "    <tr>\n",
              "      <th>4</th>\n",
              "      <td>Foot Locker</td>\n",
              "      <td>Northeast</td>\n",
              "      <td>Men's Apparel</td>\n",
              "      <td>0.30</td>\n",
              "      <td>In-store</td>\n",
              "      <td>Moderate</td>\n",
              "    </tr>\n",
              "  </tbody>\n",
              "</table>\n",
              "</div>\n",
              "    <div class=\"colab-df-buttons\">\n",
              "\n",
              "  <div class=\"colab-df-container\">\n",
              "    <button class=\"colab-df-convert\" onclick=\"convertToInteractive('df-bea3e256-55eb-463d-9544-395f7308b966')\"\n",
              "            title=\"Convert this dataframe to an interactive table.\"\n",
              "            style=\"display:none;\">\n",
              "\n",
              "  <svg xmlns=\"http://www.w3.org/2000/svg\" height=\"24px\" viewBox=\"0 -960 960 960\">\n",
              "    <path d=\"M120-120v-720h720v720H120Zm60-500h600v-160H180v160Zm220 220h160v-160H400v160Zm0 220h160v-160H400v160ZM180-400h160v-160H180v160Zm440 0h160v-160H620v160ZM180-180h160v-160H180v160Zm440 0h160v-160H620v160Z\"/>\n",
              "  </svg>\n",
              "    </button>\n",
              "\n",
              "  <style>\n",
              "    .colab-df-container {\n",
              "      display:flex;\n",
              "      gap: 12px;\n",
              "    }\n",
              "\n",
              "    .colab-df-convert {\n",
              "      background-color: #E8F0FE;\n",
              "      border: none;\n",
              "      border-radius: 50%;\n",
              "      cursor: pointer;\n",
              "      display: none;\n",
              "      fill: #1967D2;\n",
              "      height: 32px;\n",
              "      padding: 0 0 0 0;\n",
              "      width: 32px;\n",
              "    }\n",
              "\n",
              "    .colab-df-convert:hover {\n",
              "      background-color: #E2EBFA;\n",
              "      box-shadow: 0px 1px 2px rgba(60, 64, 67, 0.3), 0px 1px 3px 1px rgba(60, 64, 67, 0.15);\n",
              "      fill: #174EA6;\n",
              "    }\n",
              "\n",
              "    .colab-df-buttons div {\n",
              "      margin-bottom: 4px;\n",
              "    }\n",
              "\n",
              "    [theme=dark] .colab-df-convert {\n",
              "      background-color: #3B4455;\n",
              "      fill: #D2E3FC;\n",
              "    }\n",
              "\n",
              "    [theme=dark] .colab-df-convert:hover {\n",
              "      background-color: #434B5C;\n",
              "      box-shadow: 0px 1px 3px 1px rgba(0, 0, 0, 0.15);\n",
              "      filter: drop-shadow(0px 1px 2px rgba(0, 0, 0, 0.3));\n",
              "      fill: #FFFFFF;\n",
              "    }\n",
              "  </style>\n",
              "\n",
              "    <script>\n",
              "      const buttonEl =\n",
              "        document.querySelector('#df-bea3e256-55eb-463d-9544-395f7308b966 button.colab-df-convert');\n",
              "      buttonEl.style.display =\n",
              "        google.colab.kernel.accessAllowed ? 'block' : 'none';\n",
              "\n",
              "      async function convertToInteractive(key) {\n",
              "        const element = document.querySelector('#df-bea3e256-55eb-463d-9544-395f7308b966');\n",
              "        const dataTable =\n",
              "          await google.colab.kernel.invokeFunction('convertToInteractive',\n",
              "                                                    [key], {});\n",
              "        if (!dataTable) return;\n",
              "\n",
              "        const docLinkHtml = 'Like what you see? Visit the ' +\n",
              "          '<a target=\"_blank\" href=https://colab.research.google.com/notebooks/data_table.ipynb>data table notebook</a>'\n",
              "          + ' to learn more about interactive tables.';\n",
              "        element.innerHTML = '';\n",
              "        dataTable['output_type'] = 'display_data';\n",
              "        await google.colab.output.renderOutput(dataTable, element);\n",
              "        const docLink = document.createElement('div');\n",
              "        docLink.innerHTML = docLinkHtml;\n",
              "        element.appendChild(docLink);\n",
              "      }\n",
              "    </script>\n",
              "  </div>\n",
              "\n",
              "\n",
              "<div id=\"df-21004a1c-a48a-4172-a4f7-507203ea0e82\">\n",
              "  <button class=\"colab-df-quickchart\" onclick=\"quickchart('df-21004a1c-a48a-4172-a4f7-507203ea0e82')\"\n",
              "            title=\"Suggest charts\"\n",
              "            style=\"display:none;\">\n",
              "\n",
              "<svg xmlns=\"http://www.w3.org/2000/svg\" height=\"24px\"viewBox=\"0 0 24 24\"\n",
              "     width=\"24px\">\n",
              "    <g>\n",
              "        <path d=\"M19 3H5c-1.1 0-2 .9-2 2v14c0 1.1.9 2 2 2h14c1.1 0 2-.9 2-2V5c0-1.1-.9-2-2-2zM9 17H7v-7h2v7zm4 0h-2V7h2v10zm4 0h-2v-4h2v4z\"/>\n",
              "    </g>\n",
              "</svg>\n",
              "  </button>\n",
              "\n",
              "<style>\n",
              "  .colab-df-quickchart {\n",
              "      --bg-color: #E8F0FE;\n",
              "      --fill-color: #1967D2;\n",
              "      --hover-bg-color: #E2EBFA;\n",
              "      --hover-fill-color: #174EA6;\n",
              "      --disabled-fill-color: #AAA;\n",
              "      --disabled-bg-color: #DDD;\n",
              "  }\n",
              "\n",
              "  [theme=dark] .colab-df-quickchart {\n",
              "      --bg-color: #3B4455;\n",
              "      --fill-color: #D2E3FC;\n",
              "      --hover-bg-color: #434B5C;\n",
              "      --hover-fill-color: #FFFFFF;\n",
              "      --disabled-bg-color: #3B4455;\n",
              "      --disabled-fill-color: #666;\n",
              "  }\n",
              "\n",
              "  .colab-df-quickchart {\n",
              "    background-color: var(--bg-color);\n",
              "    border: none;\n",
              "    border-radius: 50%;\n",
              "    cursor: pointer;\n",
              "    display: none;\n",
              "    fill: var(--fill-color);\n",
              "    height: 32px;\n",
              "    padding: 0;\n",
              "    width: 32px;\n",
              "  }\n",
              "\n",
              "  .colab-df-quickchart:hover {\n",
              "    background-color: var(--hover-bg-color);\n",
              "    box-shadow: 0 1px 2px rgba(60, 64, 67, 0.3), 0 1px 3px 1px rgba(60, 64, 67, 0.15);\n",
              "    fill: var(--button-hover-fill-color);\n",
              "  }\n",
              "\n",
              "  .colab-df-quickchart-complete:disabled,\n",
              "  .colab-df-quickchart-complete:disabled:hover {\n",
              "    background-color: var(--disabled-bg-color);\n",
              "    fill: var(--disabled-fill-color);\n",
              "    box-shadow: none;\n",
              "  }\n",
              "\n",
              "  .colab-df-spinner {\n",
              "    border: 2px solid var(--fill-color);\n",
              "    border-color: transparent;\n",
              "    border-bottom-color: var(--fill-color);\n",
              "    animation:\n",
              "      spin 1s steps(1) infinite;\n",
              "  }\n",
              "\n",
              "  @keyframes spin {\n",
              "    0% {\n",
              "      border-color: transparent;\n",
              "      border-bottom-color: var(--fill-color);\n",
              "      border-left-color: var(--fill-color);\n",
              "    }\n",
              "    20% {\n",
              "      border-color: transparent;\n",
              "      border-left-color: var(--fill-color);\n",
              "      border-top-color: var(--fill-color);\n",
              "    }\n",
              "    30% {\n",
              "      border-color: transparent;\n",
              "      border-left-color: var(--fill-color);\n",
              "      border-top-color: var(--fill-color);\n",
              "      border-right-color: var(--fill-color);\n",
              "    }\n",
              "    40% {\n",
              "      border-color: transparent;\n",
              "      border-right-color: var(--fill-color);\n",
              "      border-top-color: var(--fill-color);\n",
              "    }\n",
              "    60% {\n",
              "      border-color: transparent;\n",
              "      border-right-color: var(--fill-color);\n",
              "    }\n",
              "    80% {\n",
              "      border-color: transparent;\n",
              "      border-right-color: var(--fill-color);\n",
              "      border-bottom-color: var(--fill-color);\n",
              "    }\n",
              "    90% {\n",
              "      border-color: transparent;\n",
              "      border-bottom-color: var(--fill-color);\n",
              "    }\n",
              "  }\n",
              "</style>\n",
              "\n",
              "  <script>\n",
              "    async function quickchart(key) {\n",
              "      const quickchartButtonEl =\n",
              "        document.querySelector('#' + key + ' button');\n",
              "      quickchartButtonEl.disabled = true;  // To prevent multiple clicks.\n",
              "      quickchartButtonEl.classList.add('colab-df-spinner');\n",
              "      try {\n",
              "        const charts = await google.colab.kernel.invokeFunction(\n",
              "            'suggestCharts', [key], {});\n",
              "      } catch (error) {\n",
              "        console.error('Error during call to suggestCharts:', error);\n",
              "      }\n",
              "      quickchartButtonEl.classList.remove('colab-df-spinner');\n",
              "      quickchartButtonEl.classList.add('colab-df-quickchart-complete');\n",
              "    }\n",
              "    (() => {\n",
              "      let quickchartButtonEl =\n",
              "        document.querySelector('#df-21004a1c-a48a-4172-a4f7-507203ea0e82 button');\n",
              "      quickchartButtonEl.style.display =\n",
              "        google.colab.kernel.accessAllowed ? 'block' : 'none';\n",
              "    })();\n",
              "  </script>\n",
              "</div>\n",
              "    </div>\n",
              "  </div>\n"
            ]
          },
          "metadata": {},
          "execution_count": 279
        }
      ],
      "source": [
        "df.head()"
      ]
    },
    {
      "cell_type": "markdown",
      "metadata": {
        "id": "f9Lqt7-RUDCt"
      },
      "source": [
        "## 6. Descriptive statistics\n",
        "Run descriptive statistics. Explain how the output will guide your analysis."
      ]
    },
    {
      "cell_type": "code",
      "execution_count": null,
      "metadata": {
        "colab": {
          "base_uri": "https://localhost:8080/",
          "height": 300
        },
        "id": "y945T3T0UDCt",
        "outputId": "515aa07e-6435-454b-f4a3-29e440da97c1"
      },
      "outputs": [
        {
          "output_type": "execute_result",
          "data": {
            "text/plain": [
              "       Operating Margin\n",
              "count       9648.000000\n",
              "mean           0.422991\n",
              "std            0.097197\n",
              "min            0.100000\n",
              "25%            0.350000\n",
              "50%            0.410000\n",
              "75%            0.490000\n",
              "max            0.800000"
            ],
            "text/html": [
              "\n",
              "  <div id=\"df-eef83121-6494-47f1-a714-67ae6cb40ca8\" class=\"colab-df-container\">\n",
              "    <div>\n",
              "<style scoped>\n",
              "    .dataframe tbody tr th:only-of-type {\n",
              "        vertical-align: middle;\n",
              "    }\n",
              "\n",
              "    .dataframe tbody tr th {\n",
              "        vertical-align: top;\n",
              "    }\n",
              "\n",
              "    .dataframe thead th {\n",
              "        text-align: right;\n",
              "    }\n",
              "</style>\n",
              "<table border=\"1\" class=\"dataframe\">\n",
              "  <thead>\n",
              "    <tr style=\"text-align: right;\">\n",
              "      <th></th>\n",
              "      <th>Operating Margin</th>\n",
              "    </tr>\n",
              "  </thead>\n",
              "  <tbody>\n",
              "    <tr>\n",
              "      <th>count</th>\n",
              "      <td>9648.000000</td>\n",
              "    </tr>\n",
              "    <tr>\n",
              "      <th>mean</th>\n",
              "      <td>0.422991</td>\n",
              "    </tr>\n",
              "    <tr>\n",
              "      <th>std</th>\n",
              "      <td>0.097197</td>\n",
              "    </tr>\n",
              "    <tr>\n",
              "      <th>min</th>\n",
              "      <td>0.100000</td>\n",
              "    </tr>\n",
              "    <tr>\n",
              "      <th>25%</th>\n",
              "      <td>0.350000</td>\n",
              "    </tr>\n",
              "    <tr>\n",
              "      <th>50%</th>\n",
              "      <td>0.410000</td>\n",
              "    </tr>\n",
              "    <tr>\n",
              "      <th>75%</th>\n",
              "      <td>0.490000</td>\n",
              "    </tr>\n",
              "    <tr>\n",
              "      <th>max</th>\n",
              "      <td>0.800000</td>\n",
              "    </tr>\n",
              "  </tbody>\n",
              "</table>\n",
              "</div>\n",
              "    <div class=\"colab-df-buttons\">\n",
              "\n",
              "  <div class=\"colab-df-container\">\n",
              "    <button class=\"colab-df-convert\" onclick=\"convertToInteractive('df-eef83121-6494-47f1-a714-67ae6cb40ca8')\"\n",
              "            title=\"Convert this dataframe to an interactive table.\"\n",
              "            style=\"display:none;\">\n",
              "\n",
              "  <svg xmlns=\"http://www.w3.org/2000/svg\" height=\"24px\" viewBox=\"0 -960 960 960\">\n",
              "    <path d=\"M120-120v-720h720v720H120Zm60-500h600v-160H180v160Zm220 220h160v-160H400v160Zm0 220h160v-160H400v160ZM180-400h160v-160H180v160Zm440 0h160v-160H620v160ZM180-180h160v-160H180v160Zm440 0h160v-160H620v160Z\"/>\n",
              "  </svg>\n",
              "    </button>\n",
              "\n",
              "  <style>\n",
              "    .colab-df-container {\n",
              "      display:flex;\n",
              "      gap: 12px;\n",
              "    }\n",
              "\n",
              "    .colab-df-convert {\n",
              "      background-color: #E8F0FE;\n",
              "      border: none;\n",
              "      border-radius: 50%;\n",
              "      cursor: pointer;\n",
              "      display: none;\n",
              "      fill: #1967D2;\n",
              "      height: 32px;\n",
              "      padding: 0 0 0 0;\n",
              "      width: 32px;\n",
              "    }\n",
              "\n",
              "    .colab-df-convert:hover {\n",
              "      background-color: #E2EBFA;\n",
              "      box-shadow: 0px 1px 2px rgba(60, 64, 67, 0.3), 0px 1px 3px 1px rgba(60, 64, 67, 0.15);\n",
              "      fill: #174EA6;\n",
              "    }\n",
              "\n",
              "    .colab-df-buttons div {\n",
              "      margin-bottom: 4px;\n",
              "    }\n",
              "\n",
              "    [theme=dark] .colab-df-convert {\n",
              "      background-color: #3B4455;\n",
              "      fill: #D2E3FC;\n",
              "    }\n",
              "\n",
              "    [theme=dark] .colab-df-convert:hover {\n",
              "      background-color: #434B5C;\n",
              "      box-shadow: 0px 1px 3px 1px rgba(0, 0, 0, 0.15);\n",
              "      filter: drop-shadow(0px 1px 2px rgba(0, 0, 0, 0.3));\n",
              "      fill: #FFFFFF;\n",
              "    }\n",
              "  </style>\n",
              "\n",
              "    <script>\n",
              "      const buttonEl =\n",
              "        document.querySelector('#df-eef83121-6494-47f1-a714-67ae6cb40ca8 button.colab-df-convert');\n",
              "      buttonEl.style.display =\n",
              "        google.colab.kernel.accessAllowed ? 'block' : 'none';\n",
              "\n",
              "      async function convertToInteractive(key) {\n",
              "        const element = document.querySelector('#df-eef83121-6494-47f1-a714-67ae6cb40ca8');\n",
              "        const dataTable =\n",
              "          await google.colab.kernel.invokeFunction('convertToInteractive',\n",
              "                                                    [key], {});\n",
              "        if (!dataTable) return;\n",
              "\n",
              "        const docLinkHtml = 'Like what you see? Visit the ' +\n",
              "          '<a target=\"_blank\" href=https://colab.research.google.com/notebooks/data_table.ipynb>data table notebook</a>'\n",
              "          + ' to learn more about interactive tables.';\n",
              "        element.innerHTML = '';\n",
              "        dataTable['output_type'] = 'display_data';\n",
              "        await google.colab.output.renderOutput(dataTable, element);\n",
              "        const docLink = document.createElement('div');\n",
              "        docLink.innerHTML = docLinkHtml;\n",
              "        element.appendChild(docLink);\n",
              "      }\n",
              "    </script>\n",
              "  </div>\n",
              "\n",
              "\n",
              "<div id=\"df-c60aa620-84ff-4814-bda1-86cac358786a\">\n",
              "  <button class=\"colab-df-quickchart\" onclick=\"quickchart('df-c60aa620-84ff-4814-bda1-86cac358786a')\"\n",
              "            title=\"Suggest charts\"\n",
              "            style=\"display:none;\">\n",
              "\n",
              "<svg xmlns=\"http://www.w3.org/2000/svg\" height=\"24px\"viewBox=\"0 0 24 24\"\n",
              "     width=\"24px\">\n",
              "    <g>\n",
              "        <path d=\"M19 3H5c-1.1 0-2 .9-2 2v14c0 1.1.9 2 2 2h14c1.1 0 2-.9 2-2V5c0-1.1-.9-2-2-2zM9 17H7v-7h2v7zm4 0h-2V7h2v10zm4 0h-2v-4h2v4z\"/>\n",
              "    </g>\n",
              "</svg>\n",
              "  </button>\n",
              "\n",
              "<style>\n",
              "  .colab-df-quickchart {\n",
              "      --bg-color: #E8F0FE;\n",
              "      --fill-color: #1967D2;\n",
              "      --hover-bg-color: #E2EBFA;\n",
              "      --hover-fill-color: #174EA6;\n",
              "      --disabled-fill-color: #AAA;\n",
              "      --disabled-bg-color: #DDD;\n",
              "  }\n",
              "\n",
              "  [theme=dark] .colab-df-quickchart {\n",
              "      --bg-color: #3B4455;\n",
              "      --fill-color: #D2E3FC;\n",
              "      --hover-bg-color: #434B5C;\n",
              "      --hover-fill-color: #FFFFFF;\n",
              "      --disabled-bg-color: #3B4455;\n",
              "      --disabled-fill-color: #666;\n",
              "  }\n",
              "\n",
              "  .colab-df-quickchart {\n",
              "    background-color: var(--bg-color);\n",
              "    border: none;\n",
              "    border-radius: 50%;\n",
              "    cursor: pointer;\n",
              "    display: none;\n",
              "    fill: var(--fill-color);\n",
              "    height: 32px;\n",
              "    padding: 0;\n",
              "    width: 32px;\n",
              "  }\n",
              "\n",
              "  .colab-df-quickchart:hover {\n",
              "    background-color: var(--hover-bg-color);\n",
              "    box-shadow: 0 1px 2px rgba(60, 64, 67, 0.3), 0 1px 3px 1px rgba(60, 64, 67, 0.15);\n",
              "    fill: var(--button-hover-fill-color);\n",
              "  }\n",
              "\n",
              "  .colab-df-quickchart-complete:disabled,\n",
              "  .colab-df-quickchart-complete:disabled:hover {\n",
              "    background-color: var(--disabled-bg-color);\n",
              "    fill: var(--disabled-fill-color);\n",
              "    box-shadow: none;\n",
              "  }\n",
              "\n",
              "  .colab-df-spinner {\n",
              "    border: 2px solid var(--fill-color);\n",
              "    border-color: transparent;\n",
              "    border-bottom-color: var(--fill-color);\n",
              "    animation:\n",
              "      spin 1s steps(1) infinite;\n",
              "  }\n",
              "\n",
              "  @keyframes spin {\n",
              "    0% {\n",
              "      border-color: transparent;\n",
              "      border-bottom-color: var(--fill-color);\n",
              "      border-left-color: var(--fill-color);\n",
              "    }\n",
              "    20% {\n",
              "      border-color: transparent;\n",
              "      border-left-color: var(--fill-color);\n",
              "      border-top-color: var(--fill-color);\n",
              "    }\n",
              "    30% {\n",
              "      border-color: transparent;\n",
              "      border-left-color: var(--fill-color);\n",
              "      border-top-color: var(--fill-color);\n",
              "      border-right-color: var(--fill-color);\n",
              "    }\n",
              "    40% {\n",
              "      border-color: transparent;\n",
              "      border-right-color: var(--fill-color);\n",
              "      border-top-color: var(--fill-color);\n",
              "    }\n",
              "    60% {\n",
              "      border-color: transparent;\n",
              "      border-right-color: var(--fill-color);\n",
              "    }\n",
              "    80% {\n",
              "      border-color: transparent;\n",
              "      border-right-color: var(--fill-color);\n",
              "      border-bottom-color: var(--fill-color);\n",
              "    }\n",
              "    90% {\n",
              "      border-color: transparent;\n",
              "      border-bottom-color: var(--fill-color);\n",
              "    }\n",
              "  }\n",
              "</style>\n",
              "\n",
              "  <script>\n",
              "    async function quickchart(key) {\n",
              "      const quickchartButtonEl =\n",
              "        document.querySelector('#' + key + ' button');\n",
              "      quickchartButtonEl.disabled = true;  // To prevent multiple clicks.\n",
              "      quickchartButtonEl.classList.add('colab-df-spinner');\n",
              "      try {\n",
              "        const charts = await google.colab.kernel.invokeFunction(\n",
              "            'suggestCharts', [key], {});\n",
              "      } catch (error) {\n",
              "        console.error('Error during call to suggestCharts:', error);\n",
              "      }\n",
              "      quickchartButtonEl.classList.remove('colab-df-spinner');\n",
              "      quickchartButtonEl.classList.add('colab-df-quickchart-complete');\n",
              "    }\n",
              "    (() => {\n",
              "      let quickchartButtonEl =\n",
              "        document.querySelector('#df-c60aa620-84ff-4814-bda1-86cac358786a button');\n",
              "      quickchartButtonEl.style.display =\n",
              "        google.colab.kernel.accessAllowed ? 'block' : 'none';\n",
              "    })();\n",
              "  </script>\n",
              "</div>\n",
              "    </div>\n",
              "  </div>\n"
            ]
          },
          "metadata": {},
          "execution_count": 280
        }
      ],
      "source": [
        "# .describe() shows the descriptive statistic of numerical variables\n",
        "df.describe()"
      ]
    },
    {
      "cell_type": "markdown",
      "source": [
        "- There are 9,648 observations.\n",
        "- The average operating margin across all observations is approximately 0.42 dollars.\n",
        "- The standard deviation, which measures the spread of the operating margins, is about 0.10 dollars, indicating some variability in the data.\n",
        "- The smallest operating margin in the dataset is 0.10 dollars.\n",
        "- The first quartile (25%) of the data is at 0.35 dollars, meaning 25% of the observations have operating margins less than or equal to this value.\n",
        "- The median (50%) is 0.41 dollars, indicating that half the companies have operating margins less than this, and half have margins higher.\n",
        "- The third quartile (75%) is at 0.49 dollars, so 75% of the observations are below this value.\n",
        "- The highest operating margin recorded in the data is 0.80 dollars."
      ],
      "metadata": {
        "id": "uNHfPEuJQDVg"
      }
    },
    {
      "cell_type": "markdown",
      "metadata": {
        "id": "9QHhiFhyUDCu"
      },
      "source": [
        "\n",
        "The descriptive statistics for \"Operating Profit\" provide a foundational understanding of the dataset's characteristics, which is essential when preparing for multiple linear regression (MLR) analysis. The mean presents a central value around which the data points aggregate, offering a sense of the average behavior within the dataset. The standard deviation expands on this by quantifying the dispersion of the data, indicating the degree to which each data point deviates from the average. A larger standard deviation signals a wider spread of data, which could affect the stability of the regression coefficients.\n",
        "\n",
        "The range, demonstrated by the minimum and maximum values, defines the extent of the data, crucial for identifying the bounds of our variables. This is particularly important in MLR, as extreme values can disproportionately influence the model.\n",
        "\n",
        "The quartiles, including the 25th, 50th (median), and 75th percentiles, provide a deeper dive into the data distribution. They help to detect any skewness—where the distribution may lean towards higher or lower values—and to identify potential outliers. In MLR, outliers can leverage and distort the relationship between the independent variables and the dependent variable, which might result in a less accurate model.\n",
        "\n",
        "These statistics will directly inform the preprocessing steps I take before running the MLR, such as normalizing the data, handling outliers, or potentially transforming variables to better meet the assumptions of linear regression. A thorough understanding of the dataset's distribution will also guide the interpretation of the MLR results, helping to discern the relationships between variables and the predicted outcomes. Morever, the mean will help me with the regression summary to see if the model is performing well and if the difference in actual vs. predicted value is substantial."
      ]
    },
    {
      "cell_type": "markdown",
      "metadata": {
        "id": "meqyJ79VUDCu"
      },
      "source": [
        "## 7. Missing values and outliers\n",
        "Explain the steps that you plan to take to handle missing values and any potential outliers. Run code that handles missing values and outliers."
      ]
    },
    {
      "cell_type": "code",
      "execution_count": null,
      "metadata": {
        "colab": {
          "base_uri": "https://localhost:8080/"
        },
        "id": "WlmwPyWvUDCu",
        "outputId": "63bdf2bd-986e-4c45-ae5c-5c13f049118d"
      },
      "outputs": [
        {
          "output_type": "execute_result",
          "data": {
            "text/plain": [
              "Retailer                0\n",
              "Region                  0\n",
              "Product Type            0\n",
              "Operating Margin        0\n",
              "Sales Method            0\n",
              "Price per Unit Level    0\n",
              "dtype: int64"
            ]
          },
          "metadata": {},
          "execution_count": 281
        }
      ],
      "source": [
        "# .isna() method shows the NULL values in your dataframe, and the .sum() function shows the total amount of NULL values under each column.\n",
        "df.isna().sum()"
      ]
    },
    {
      "cell_type": "markdown",
      "metadata": {
        "id": "Vk2ZyhZpUDCv"
      },
      "source": [
        "As we can see from above, I calculated the total amount of missing values in each column. There are no missing values in each of these columns, thus, there will be no need to removie any rows."
      ]
    },
    {
      "cell_type": "markdown",
      "metadata": {
        "id": "AlS_My5GUDCw"
      },
      "source": [
        "**Outliers**\n",
        "----------"
      ]
    },
    {
      "cell_type": "markdown",
      "metadata": {
        "id": "djZMWMmQUDCz"
      },
      "source": [
        "**Operating Profit**"
      ]
    },
    {
      "cell_type": "code",
      "source": [
        "# Original box plot showing the outliers\n",
        "plt.boxplot(df['Operating Margin'], notch=None, vert=None, patch_artist=None, widths=None)\n",
        "plt.show()"
      ],
      "metadata": {
        "id": "wl2iOdr9Pdl2",
        "colab": {
          "base_uri": "https://localhost:8080/",
          "height": 430
        },
        "outputId": "62d30e1e-b65e-4be7-d343-1f019b15b419"
      },
      "execution_count": null,
      "outputs": [
        {
          "output_type": "display_data",
          "data": {
            "text/plain": [
              "<Figure size 640x480 with 1 Axes>"
            ],
            "image/png": "[encoded data removed]"
          },
          "metadata": {}
        }
      ]
    },
    {
      "cell_type": "code",
      "execution_count": null,
      "metadata": {
        "colab": {
          "base_uri": "https://localhost:8080/"
        },
        "id": "_loBUWxjUDCz",
        "outputId": "61a47801-2aee-4b27-ae53-2f6fd56fd1d1"
      },
      "outputs": [
        {
          "output_type": "stream",
          "name": "stdout",
          "text": [
            "There are 63 outliers according to the formula. We have gotten rid of them.\n"
          ]
        }
      ],
      "source": [
        "# Calculate Q1 (25th percentile) and Q3 (75th percentile) of the 'Operating Profit'\n",
        "q1 = df['Operating Margin'].quantile(0.25)\n",
        "q3 = df['Operating Margin'].quantile(0.75)\n",
        "\n",
        "# Calculate the Interquartile Range (IQR)\n",
        "iqr = q3 - q1\n",
        "\n",
        "# Identify the outliers\n",
        "outliers = (df['Operating Margin'] < q1 - 1.5 * iqr) | (df['Operating Margin'] > q3 + 1.5 * iqr)\n",
        "\n",
        "# Filter out the outliers to get a new DataFrame without outliers\n",
        "df= df[~outliers]\n",
        "\n",
        "# Now df_no_outliers contains the data without the outliers\n",
        "print('There are ' + str(9648-df['Retailer'].count()) + ' outliers according to the formula. We have gotten rid of them.')"
      ]
    },
    {
      "cell_type": "code",
      "execution_count": null,
      "metadata": {
        "colab": {
          "base_uri": "https://localhost:8080/",
          "height": 430
        },
        "id": "wy5hUHI9UDCz",
        "outputId": "271ff01e-25f9-4ebb-efdf-2289ca1e56f4"
      },
      "outputs": [
        {
          "output_type": "display_data",
          "data": {
            "text/plain": [
              "<Figure size 640x480 with 1 Axes>"
            ],
            "image/png": "[encoded data removed]"
          },
          "metadata": {}
        }
      ],
      "source": [
        "#Display new box plot, with the outliers gone\n",
        "plt.boxplot(df['Operating Margin'], notch=None, vert=None, patch_artist=None, widths=None)\n",
        "plt.show()"
      ]
    },
    {
      "cell_type": "markdown",
      "metadata": {
        "id": "sUgSSULnUDC0"
      },
      "source": [
        "**Conclusion**: After calculating the outliers using the basic outlier formula, I can clearly see that there are a large number (706) of 'outliers'. Within these outliers, we can see that there are not records that are far off from the rest of the data values. I will keep all of the records and do not deem there to be any outliers to rid of."
      ]
    },
    {
      "cell_type": "markdown",
      "metadata": {
        "id": "LEwFFtImUDC0"
      },
      "source": [
        "## 8. Data visualization"
      ]
    },
    {
      "cell_type": "markdown",
      "metadata": {
        "id": "ktjHw1U6UDC0"
      },
      "source": [
        "**Check the distribution of all numeric variables using histograms. Use Python. Interpret\n",
        "the distribution of each variable**"
      ]
    },
    {
      "cell_type": "code",
      "execution_count": null,
      "metadata": {
        "colab": {
          "base_uri": "https://localhost:8080/",
          "height": 497
        },
        "id": "RJcJ3F1LUDC1",
        "outputId": "ad1d6d3b-e64d-43e7-dab9-0066a67f9bf5"
      },
      "outputs": [
        {
          "output_type": "display_data",
          "data": {
            "text/plain": [
              "<Figure size 640x480 with 1 Axes>"
            ],
            "image/png": "[encoded data removed]"
          },
          "metadata": {}
        },
        {
          "output_type": "stream",
          "name": "stdout",
          "text": [
            "As you can see from this histogram, most Adidas stores have an operating margin between 35 and 55%.\n"
          ]
        }
      ],
      "source": [
        "# Histogram for 'Operating Profit'\n",
        "plt.hist(df['Operating Margin'], bins = 25, color = 'green')\n",
        "plt.xlabel('Operating Margin (U.S Dollars $)')\n",
        "plt.ylabel('Frequency')\n",
        "plt.title('Operating Margin Histogram')\n",
        "plt.xticks(rotation=90)\n",
        "plt.show()\n",
        "print('As you can see from this histogram, most Adidas stores have an operating margin between 35 and 55%.')"
      ]
    },
    {
      "cell_type": "markdown",
      "metadata": {
        "id": "Yv2TfkwPUDC1"
      },
      "source": [
        "The histogram is extremely skewed to the right. A majority of the records have an operating margin 0.35 (35% profit) and 0.55 (55% profit). The mean, 0.42 (42% profit), lies within this range. Overall the histogram displays an imperfect bell curve, which the bin having the higest frequency being slightly less than the mean. Moreover, there are random spikes on the both sides of the histogram (specifically the left)."
      ]
    },
    {
      "cell_type": "markdown",
      "metadata": {
        "id": "7RHZN0MrUDC1"
      },
      "source": [
        "**Check the frequency of all categorical variables using bar charts and interpret the\n",
        "outcome.**"
      ]
    },
    {
      "cell_type": "markdown",
      "metadata": {
        "id": "MfD1J7RUUDC2"
      },
      "source": [
        "*Retailer*"
      ]
    },
    {
      "cell_type": "code",
      "execution_count": null,
      "metadata": {
        "colab": {
          "base_uri": "https://localhost:8080/",
          "height": 641
        },
        "id": "t32vLPIVUDC2",
        "outputId": "2c759a6e-0171-4f6f-beaf-4558a2e81988"
      },
      "outputs": [
        {
          "output_type": "display_data",
          "data": {
            "text/plain": [
              "<Figure size 1000x600 with 1 Axes>"
            ],
            "image/png": "[encoded data removed]"
          },
          "metadata": {}
        }
      ],
      "source": [
        "import matplotlib.patches as mpatches\n",
        "import numpy as np\n",
        "\n",
        "# Set the figure size\n",
        "plt.figure(figsize=(10, 6))  # Width = 10 inches, Height = 6 inches\n",
        "\n",
        "# Assuming df['Retailer'].value_counts() is your data\n",
        "retailer_frequency = df['Retailer'].value_counts()\n",
        "\n",
        "#Define colors using tab colormap\n",
        "colors = plt.cm.tab20(np.linspace(0, 1, 20))\n",
        "\n",
        "# Plot the bar chart\n",
        "retailer_frequency.plot(kind='bar', xlabel='Retailer', ylabel='Frequency',\n",
        "                        title='Frequency of Stores Selling Adidas Products by Retail Company',\n",
        "                        color=colors)\n",
        "\n",
        "# Create a list of patches for the legend\n",
        "retailer_patches = [mpatches.Patch(color=color, label=retailer) for color, retailer in zip(colors, retailer_frequency.index)]\n",
        "\n",
        "# Adding the legend\n",
        "plt.legend(handles=retailer_patches, title='Retailers')\n",
        "\n",
        "# Show the plot\n",
        "plt.show()\n"
      ]
    },
    {
      "cell_type": "markdown",
      "metadata": {
        "id": "NKMLbCVXUDC2"
      },
      "source": [
        "The bar chart reveals which retailers are the most instrumental in distributing Adidas products, highlighting Foot Locker at the forefront with approximately 2,600 stores, followed by West Gear with 2,400, and Sports Direct with 2,000. There is a significant drop after the top three, with Kohl's featuring around 1,000, Amazon with nearly 950, and Walmart with 600 stores."
      ]
    },
    {
      "cell_type": "markdown",
      "metadata": {
        "id": "Wiwtw2t5UDC2"
      },
      "source": [
        "*Region*"
      ]
    },
    {
      "cell_type": "code",
      "execution_count": null,
      "metadata": {
        "colab": {
          "base_uri": "https://localhost:8080/",
          "height": 598
        },
        "id": "eQE9bKY0UDC3",
        "outputId": "03859f11-c736-4b81-b228-4c9a2a7a1913"
      },
      "outputs": [
        {
          "output_type": "display_data",
          "data": {
            "text/plain": [
              "<Figure size 1000x600 with 1 Axes>"
            ],
            "image/png": "[encoded data removed]"
          },
          "metadata": {}
        }
      ],
      "source": [
        "# Set the figure size\n",
        "plt.figure(figsize=(10, 6))  # Width = 10 inches, Height = 6 inches\n",
        "\n",
        "# Assuming 'df' is your DataFrame and you have a 'Region' column in it\n",
        "region_frequency = df['Region'].value_counts()\n",
        "\n",
        "# Plot the bar chart\n",
        "region_frequency.plot(kind='bar', xlabel='Region', ylabel='Frequency', color=colors)\n",
        "\n",
        "# Create a list of patches for the legend\n",
        "region_patches = [mpatches.Patch(color=color, label=region) for color, region in zip(colors, region_frequency.index)]\n",
        "\n",
        "# Adding the legend with a title 'Regions'\n",
        "plt.legend(handles=region_patches, title='Regions')\n",
        "\n",
        "# Show the plot\n",
        "plt.show()"
      ]
    },
    {
      "cell_type": "markdown",
      "metadata": {
        "id": "Vw9-wiXBUDC3"
      },
      "source": [
        "The bar chart showcases the distribution of stores selling Adidas products across different regions. It highlights that the West leads with approximately 2,450 stores, closely followed by the Midwest with around 2,400. The Northeast comes next with a significant decrease at about 1,850 stores, trailed by the South with a slight decrease to roughly 1,800, and finally, the Southwest has the fewest at approximately 1,200 stores. As we can see from this, Adidas stores are more common in the West and Northeastern regions of the United States, followed by the Midwest and South. There are not as many locations in the Southeast."
      ]
    },
    {
      "cell_type": "markdown",
      "metadata": {
        "id": "fZFC27h3UDC3"
      },
      "source": [
        "*Product Type*"
      ]
    },
    {
      "cell_type": "code",
      "execution_count": null,
      "metadata": {
        "colab": {
          "base_uri": "https://localhost:8080/",
          "height": 739
        },
        "id": "FnMVBxx_UDC3",
        "outputId": "89d4446f-2c1a-4e63-82f2-6b35b7c1dac0"
      },
      "outputs": [
        {
          "output_type": "display_data",
          "data": {
            "text/plain": [
              "<Figure size 1000x600 with 1 Axes>"
            ],
            "image/png": "[encoded data removed]"
          },
          "metadata": {}
        }
      ],
      "source": [
        "import matplotlib.pyplot as plt\n",
        "import pandas as pd\n",
        "\n",
        "# Assuming 'df' is your DataFrame and 'Product Type' is the column of interest\n",
        "product_frequency = df['Product Type'].value_counts()\n",
        "\n",
        "# Define the figure size\n",
        "plt.figure(figsize=(10, 6))\n",
        "\n",
        "# Plot the bar chart and get the current axes\n",
        "ax = product_frequency.plot(kind='bar', xlabel='Product Type', ylabel='Frequency', title='Purchase Frequency of Different Product Types', color=colors)\n",
        "\n",
        "# Get the position of the current axes\n",
        "pos = ax.get_position()\n",
        "\n",
        "# Set the new position to make space for the legend\n",
        "# Here we're taking 90% of the width and the full height\n",
        "ax.set_position([pos.x0, pos.y0, pos.width * 0.9, pos.height])\n",
        "\n",
        "# Create patches for the legend\n",
        "product_patches = [mpatches.Patch(color=color, label=product) for color, product in zip(colors, product_frequency.index)]\n",
        "\n",
        "# Place the legend outside the plot area on the right side, centered vertically\n",
        "ax.legend(handles=product_patches, title='Product Type', loc='center left', bbox_to_anchor=(1, 0.5))\n",
        "\n",
        "# Show the plot\n",
        "plt.show()\n"
      ]
    },
    {
      "cell_type": "markdown",
      "metadata": {
        "id": "V-N47E-6UDC4"
      },
      "source": [
        "As we can see from the chart above, all of the types of products get bought about the same amount. We can assume that choosing to sell more of one type of product over another is not going to be effective because they are equally as important."
      ]
    },
    {
      "cell_type": "markdown",
      "metadata": {
        "id": "EQrgiOGjUDC5"
      },
      "source": [
        "*Sales Method*"
      ]
    },
    {
      "cell_type": "code",
      "execution_count": null,
      "metadata": {
        "colab": {
          "base_uri": "https://localhost:8080/",
          "height": 603
        },
        "id": "CytXC8vxUDC5",
        "outputId": "e697b4f2-cf41-472a-e018-a6c9d78786c6"
      },
      "outputs": [
        {
          "output_type": "display_data",
          "data": {
            "text/plain": [
              "<Figure size 1000x600 with 1 Axes>"
            ],
            "image/png": "[encoded data removed]"
          },
          "metadata": {}
        }
      ],
      "source": [
        "# Set figure size of the cahrt\n",
        "plt.figure(figsize = (10,6))\n",
        "\n",
        "#define new variable with frequency counts\n",
        "sales_method_frequency = df['Sales Method'].value_counts()\n",
        "\n",
        "#plot chart\n",
        "sales_method_frequency.plot(kind = 'bar', color = colors, xlabel = 'Sales Method', ylabel = 'Frequency', title = 'Sales Method Bar Chart')\n",
        "plt.show()"
      ]
    },
    {
      "cell_type": "markdown",
      "metadata": {
        "id": "S-iMtDLwUDC5"
      },
      "source": [
        "As we can see from the chart above, customers tend to buy Adidas products online by a relatively large margin, followed by outlet, and then in-store. This means that focusing on online sales may be the most effective way of gaining a profit."
      ]
    },
    {
      "cell_type": "markdown",
      "metadata": {
        "id": "Okl7A2KO1LrO"
      },
      "source": [
        "*Price per Unit Level*"
      ]
    },
    {
      "cell_type": "code",
      "execution_count": null,
      "metadata": {
        "colab": {
          "base_uri": "https://localhost:8080/",
          "height": 652
        },
        "id": "9JKErWkh1Phr",
        "outputId": "c6d342c0-e819-41a6-fe3b-9f340801259b"
      },
      "outputs": [
        {
          "output_type": "display_data",
          "data": {
            "text/plain": [
              "<Figure size 1000x600 with 1 Axes>"
            ],
            "image/png": "[encoded data removed]"
          },
          "metadata": {}
        }
      ],
      "source": [
        "\n",
        "# Define the order of your price levels\n",
        "level_order = ['Extremely Low', 'Low', 'Moderate', 'High', 'Very High']\n",
        "\n",
        "# Count the frequency of each price level\n",
        "price_per_unit_level_frequency = df['Price per Unit Level'].value_counts()\n",
        "\n",
        "# Reorder the series according to the defined level order\n",
        "ordered_frequency = price_per_unit_level_frequency.reindex(level_order)\n",
        "\n",
        "# Plot\n",
        "plt.figure(figsize=(10, 6))\n",
        "ordered_frequency.plot(kind='bar', ylabel='Frequency', xlabel='Price per Unit Level', title='Frequency of Price per Unit Levels', color=colors)\n",
        "plt.show()"
      ]
    },
    {
      "cell_type": "markdown",
      "metadata": {
        "id": "J_-RnRZo6C8b"
      },
      "source": [
        "The chart indicates that customers predominantly purchase items in the low to moderate price range. The 'High' price level ranks third in frequency, followed by 'Extremely Low', which occurs relatively infrequently. The 'Very High' price level is the least common, suggesting these purchases are quite rare."
      ]
    },
    {
      "cell_type": "markdown",
      "metadata": {
        "id": "zQdcul3sUDC5"
      },
      "source": [
        "##**Run at least 3 charts that use aggregation (group by and aggregate) and interpret the outcome.**\n",
        "\n",
        "\n",
        "---\n",
        "\n"
      ]
    },
    {
      "cell_type": "markdown",
      "metadata": {
        "id": "c-T_OvrMcKCm"
      },
      "source": [
        "1. **What is the average operating margin for each retailer?**"
      ]
    },
    {
      "cell_type": "code",
      "source": [
        "import matplotlib.pyplot as plt\n",
        "import matplotlib.patches as mpatches\n",
        "import pandas as pd\n",
        "\n",
        "# Assuming 'df' is your DataFrame and it has columns 'Retailer' and 'Operating Margin'\n",
        "# colors is a list of color codes, one for each retailer\n",
        "\n",
        "# Compute the mean 'Operating Margin' for each retailer\n",
        "retailer_avg_operating_margin = df.groupby('Retailer')['Operating Margin'].mean()\n",
        "\n",
        "# Sort the series in descending order\n",
        "retailer_avg_operating_margin_sorted = retailer_avg_operating_margin.sort_values(ascending=False)\n",
        "\n",
        "# Define the figure size\n",
        "plt.figure(figsize=(10, 6))\n",
        "\n",
        "# Create a list of patches for the legend\n",
        "patches = [mpatches.Patch(color=color, label=retailer) for color, retailer in zip(colors, retailer_avg_operating_margin_sorted.index)]\n",
        "\n",
        "# Plot the sorted data\n",
        "retailer_avg_operating_margin_sorted.plot(kind='bar', color=colors, title='Average Operating Margin for Each Retailer')\n",
        "\n",
        "# Label the x-axis and y-axis\n",
        "plt.xlabel('Retailer')\n",
        "plt.ylabel('Average Operating Margin')\n",
        "\n",
        "# Adding the legend outside the plot\n",
        "plt.legend(handles=patches, title='Retailer', loc='center left', bbox_to_anchor=(1, 0.5))\n",
        "\n",
        "# Adjust layout to make room for the legend\n",
        "plt.tight_layout()\n",
        "\n",
        "# Show the plot\n",
        "plt.show()\n"
      ],
      "metadata": {
        "colab": {
          "base_uri": "https://localhost:8080/",
          "height": 607
        },
        "id": "UYo0vBlMVUyc",
        "outputId": "e9665efe-ee58-4023-e795-593a5edb7c9f"
      },
      "execution_count": null,
      "outputs": [
        {
          "output_type": "display_data",
          "data": {
            "text/plain": [
              "<Figure size 1000x600 with 1 Axes>"
            ],
            "image/png": "[encoded data removed]"
          },
          "metadata": {}
        }
      ]
    },
    {
      "cell_type": "markdown",
      "metadata": {
        "id": "kvJ79SUkcnwQ"
      },
      "source": [
        "The chart above illustrates that Sports Direct boasts the most impressive operating margin among the compared retailers, with Amazon, Foot Locker, West Gear, and Kohl's trailing closely. Conversely, Walmart has the lowest operating margin of the group. A higher operating margin suggests that a retailer incurs lower costs to operate its stores, which in turn implies that a larger portion of the sales revenue is retained as profit. For instance, Sport Direct, on average, retains 45% of total sales as profit, this efficiency in operation would result in a greater percentage of profits being passed on to Adidas from the sales of their products, compared to Walmart which is about 40%.\n",
        "\n",
        "- This gives us some potential background information on our MLR model later, as the retailers with higher operation margins may have a higher coefficient and effect on the predictive outcome."
      ]
    },
    {
      "cell_type": "markdown",
      "source": [
        "2. **What are the average operating margins for 'Price Per Unit Levels'?**"
      ],
      "metadata": {
        "id": "lAECJCIt_Smv"
      }
    },
    {
      "cell_type": "code",
      "source": [
        "\n",
        "# Define the figure size\n",
        "plt.figure(figsize=(10, 6))\n",
        "\n",
        "ppu_avg_operating_margin = df.groupby('Price per Unit Level')['Operating Margin'].mean()\n",
        "\n",
        "# Sort the series in descending order\n",
        "ppu_avg_operating_margin_sorted = ppu_avg_operating_margin.sort_values(ascending=False)\n",
        "\n",
        "# Plot the sorted data\n",
        "ppu_avg_operating_margin_sorted.plot(kind='bar', color=colors, title='Average Operating Margin for each Price Per Unit Level')\n",
        "\n",
        "\n",
        "# Create a list of patches for the legend\n",
        "patches = [mpatches.Patch(color=color, label=label) for color, label in zip(colors, ppu_avg_operating_margin_sorted.index)]\n",
        "\n",
        "# Label the x-axis and y-axis\n",
        "plt.xlabel('Price Per Unit Level')\n",
        "plt.ylabel('Average Operating Margin')\n",
        "\n",
        "# Adding the legend outside the plot\n",
        "# Adjust the bbox_to_anchor values as needed to position the legend.\n",
        "plt.legend(handles=patches, title='Price per Unit Level', loc='upper left', bbox_to_anchor=(1.05, 1), borderaxespad=0.)\n",
        "\n",
        "# Adjust layout to make room for the legend\n",
        "plt.tight_layout()\n",
        "\n",
        "# Show the plot\n",
        "plt.show()\n"
      ],
      "metadata": {
        "colab": {
          "base_uri": "https://localhost:8080/",
          "height": 607
        },
        "id": "RNWFvDJV_2ho",
        "outputId": "0705314a-a99c-4187-bff6-f1e39d4a45c0"
      },
      "execution_count": null,
      "outputs": [
        {
          "output_type": "display_data",
          "data": {
            "text/plain": [
              "<Figure size 1000x600 with 1 Axes>"
            ],
            "image/png": "[encoded data removed]"
          },
          "metadata": {}
        }
      ]
    },
    {
      "cell_type": "markdown",
      "source": [
        "As we can see from the chart above, the stores whose customers buy the most expensive products tended to have a lower operating margin, while the stores whose customers buy the least expensive products tended to have a high operating margin. In simpler terms, stores earned a higher percentage of profit if their customers bought cheaper products.\n",
        "\n",
        "- This is a very interesting finding, so in the next quesion we will try to figure out why this is the case?"
      ],
      "metadata": {
        "id": "3QwPlERIBRjc"
      }
    },
    {
      "cell_type": "markdown",
      "source": [
        "3. **Is the reason why stores had a higher operating margin (for stores whose customers bought cheaper products, based on price per unit level) because they tended to sell their products online?**"
      ],
      "metadata": {
        "id": "fudAzVFuCMb7"
      }
    },
    {
      "cell_type": "code",
      "source": [
        "# Group by 'Price per Unit Level' and 'Sales Method', then count\n",
        "grouped = df.groupby(['Price per Unit Level', 'Sales Method']).size().reset_index(name='Count')\n",
        "\n",
        "# Calculate total counts for each 'Price per Unit Level'\n",
        "total_counts = grouped.groupby('Price per Unit Level')['Count'].transform('sum')\n",
        "\n",
        "# Calculate percentage\n",
        "grouped['Percentage'] = (grouped['Count'] / total_counts) * 100\n",
        "\n",
        "# Pivot the data for visualization\n",
        "pivot_df = grouped.pivot(index='Price per Unit Level', columns='Sales Method', values='Percentage')\n",
        "\n",
        "# Plotting\n",
        "pivot_df.plot(kind='bar', stacked=True)\n",
        "plt.ylabel('Percentage')\n",
        "plt.title('Percentage of Sales Methods by Price per Unit Level')\n",
        "plt.xticks(rotation=0)\n",
        "plt.show()"
      ],
      "metadata": {
        "colab": {
          "base_uri": "https://localhost:8080/",
          "height": 472
        },
        "id": "hOJ2vO2rIMlP",
        "outputId": "b95bcf2f-9c30-4a2d-a8d3-4af2a5e5e5a5"
      },
      "execution_count": null,
      "outputs": [
        {
          "output_type": "display_data",
          "data": {
            "text/plain": [
              "<Figure size 640x480 with 1 Axes>"
            ],
            "image/png": "[encoded data removed]"
          },
          "metadata": {}
        }
      ]
    },
    {
      "cell_type": "markdown",
      "source": [
        "As you can see from the chart above, we can see that this chart backs up our previous findings.\n",
        "\n",
        "- The chart suggests that in-store purchases (represented by blue) decrease as the price per unit level lowers, implying that customers are less likely to buy cheaper items in-store. This trend could contribute to higher operating margins for stores selling lower-priced goods, as in-store sales typically involve higher operational costs.\n",
        "\n",
        "- There was no trend in 'Online' across all price levels, as the percentages were generally similar across the chart.\n",
        "\n",
        "- If we look at the green (outlet), we can see that people feel more comfortable with buying cheaper products at outlets.\n",
        "\n",
        "\n",
        "\n",
        "---\n",
        "\n",
        "\n",
        "This imples that our model will give a higher weight for lower price per unit levels and less weight for 'in-store' sales method.\n"
      ],
      "metadata": {
        "id": "RsIuhSiGIk9y"
      }
    },
    {
      "cell_type": "markdown",
      "source": [
        "**4. What is the average operating margin for each Region?**"
      ],
      "metadata": {
        "id": "CL5bUHeRlyZv"
      }
    },
    {
      "cell_type": "code",
      "source": [
        "\n",
        "# Define the figure size\n",
        "plt.figure(figsize=(10, 6))\n",
        "\n",
        "region_avg_operating_margin = df.groupby('Region')['Operating Margin'].mean()\n",
        "\n",
        "# Sort the series in descending order\n",
        "region_avg_operating_margin_sorted = region_avg_operating_margin.sort_values(ascending=False)\n",
        "\n",
        "# Plot the sorted data\n",
        "region_avg_operating_margin_sorted.plot(kind='bar', color=colors, title='Average Operating Margin for each Region')\n",
        "\n",
        "\n",
        "# Create a list of patches for the legend\n",
        "patches = [mpatches.Patch(color=color, label=label) for color, label in zip(colors, region_avg_operating_margin_sorted.index)]\n",
        "\n",
        "# Label the x-axis and y-axis\n",
        "plt.xlabel('Region')\n",
        "plt.ylabel('Average Operating Margin')\n",
        "\n",
        "# Adding the legend outside the plot\n",
        "# Adjust the bbox_to_anchor values as needed to position the legend.\n",
        "plt.legend(handles=patches, title='Region', loc='upper left', bbox_to_anchor=(1.05, 1), borderaxespad=0.)\n",
        "\n",
        "# Adjust layout to make room for the legend\n",
        "plt.tight_layout()\n",
        "\n",
        "# Show the plot\n",
        "plt.show()"
      ],
      "metadata": {
        "colab": {
          "base_uri": "https://localhost:8080/",
          "height": 607
        },
        "id": "VPsO6UlYlxUK",
        "outputId": "010f863f-8d85-4d55-ab53-15b4b5ac02db"
      },
      "execution_count": null,
      "outputs": [
        {
          "output_type": "display_data",
          "data": {
            "text/plain": [
              "<Figure size 1000x600 with 1 Axes>"
            ],
            "image/png": "[encoded data removed]"
          },
          "metadata": {}
        }
      ]
    },
    {
      "cell_type": "markdown",
      "source": [
        "5. What is the average operating profit for each type of product?"
      ],
      "metadata": {
        "id": "voKrByOInz4T"
      }
    },
    {
      "cell_type": "code",
      "source": [
        "\n",
        "# Define the figure size\n",
        "plt.figure(figsize=(10, 6))\n",
        "\n",
        "product_avg_operating_margin = df.groupby('Product Type')['Operating Margin'].mean()\n",
        "\n",
        "# Sort the series in descending order\n",
        "product_avg_operating_margin_sorted = product_avg_operating_margin.sort_values(ascending=False)\n",
        "\n",
        "product_avg_operating_margin_sorted.plot(kind='bar', color=colors, title='Average Operating Margin for each Product Type')\n",
        "\n",
        "\n",
        "# Create a list of patches for the legend\n",
        "patches = [mpatches.Patch(color=color, label=label) for color, label in zip(colors, product_avg_operating_margin_sorted.index)]\n",
        "\n",
        "# Label the x-axis and y-axis\n",
        "plt.xlabel('Product Type')\n",
        "plt.ylabel('Average Operating Margin')\n",
        "\n",
        "# Adding the legend outside the plot\n",
        "# Adjust the bbox_to_anchor values as needed to position the legend.\n",
        "plt.legend(handles=patches, title='Product Type', loc='upper left', bbox_to_anchor=(1.05, 1), borderaxespad=0.)\n",
        "\n",
        "# Adjust layout to make room for the legend\n",
        "plt.tight_layout()\n",
        "\n",
        "# Show the plot\n",
        "plt.show()"
      ],
      "metadata": {
        "colab": {
          "base_uri": "https://localhost:8080/",
          "height": 607
        },
        "id": "QG7cTJjAny59",
        "outputId": "2db91b06-9d8b-476d-f12d-20fe2595942f"
      },
      "execution_count": null,
      "outputs": [
        {
          "output_type": "display_data",
          "data": {
            "text/plain": [
              "<Figure size 1000x600 with 1 Axes>"
            ],
            "image/png": "[encoded data removed]"
          },
          "metadata": {}
        }
      ]
    },
    {
      "cell_type": "markdown",
      "metadata": {
        "id": "dXQ3UjKcUDC6"
      },
      "source": [
        "## 10. Data preprocessing\n",
        "In this step you conduct preprocessing. Different algorithms require different types of preprocessing so you may need to replicate this step multiple times for different models."
      ]
    },
    {
      "cell_type": "markdown",
      "metadata": {
        "id": "sQ5uPoOwUDC6"
      },
      "source": [
        "### 10.1. Dummies\n",
        "***Why use dummy variables?*** To accommodate the numerous categorical variables in our dataset, we must generate dummy variables. Since machine learning models exclusively process numerical data, we will transform each category within these columns into new columns, encoding them as 0 (indicating the absence of that category) and 1 (signifying its presence). Additionally, to avoid multicollinearity and allow the model to make effective inferences, we will drop one dummy column for each set of dummies created from the original categorical columns. This step is crucial for maintaining the statistical integrity of our model and ensuring accurate predictions.<br>\n",
        "***Do we need to use dummies?***\n",
        "Yes! This is because we have many different categorical variables that we need to turn into dummies."
      ]
    },
    {
      "cell_type": "markdown",
      "metadata": {
        "id": "0Ph29DApfrEW"
      },
      "source": [
        "Let's start by taking a look at the datatypes of each column. We will be able to see which columns are categorical (denoted as 'objects'), and will turn these into dummy variables."
      ]
    },
    {
      "cell_type": "code",
      "execution_count": null,
      "metadata": {
        "colab": {
          "base_uri": "https://localhost:8080/"
        },
        "id": "TjMnLf4rUDC7",
        "outputId": "7b5cda29-f177-43dc-bb75-044720f784cd"
      },
      "outputs": [
        {
          "output_type": "execute_result",
          "data": {
            "text/plain": [
              "Retailer                  object\n",
              "Region                    object\n",
              "Product Type              object\n",
              "Operating Margin         float64\n",
              "Sales Method              object\n",
              "Price per Unit Level    category\n",
              "dtype: object"
            ]
          },
          "metadata": {},
          "execution_count": 296
        }
      ],
      "source": [
        "df.dtypes"
      ]
    },
    {
      "cell_type": "markdown",
      "metadata": {
        "id": "9B2UViq_f7c1"
      },
      "source": [
        "As we can see, the 'Retailer', 'Region', 'Product Type', 'Sales Method,  and 'Price per Unit Level'.are our categorical variables that we will turn into dummies. Moreover, as we analyzed earlier, these columns are made up of diffferent categories, in the form of strings.\n",
        "\n",
        "\n",
        "---\n",
        "\n"
      ]
    },
    {
      "cell_type": "markdown",
      "metadata": {
        "id": "JoreXjLYgwsv"
      },
      "source": [
        "Now, I will turn these columns into dummies. We will use n-1 dummies to avoid multicollinearity by using the *drop_first* parameter, which will drop the one dummy column for each set of dummies from the original categorical columns. I will save it into the X variable, which will be the variable that holds out predictors."
      ]
    },
    {
      "cell_type": "code",
      "execution_count": null,
      "metadata": {
        "id": "8Rs98AQrg26A"
      },
      "outputs": [],
      "source": [
        "# Create dummy variables\n",
        "dummies = pd.get_dummies(df[['Retailer', 'Region', 'Product Type', 'Sales Method', 'Price per Unit Level']], drop_first=True)\n",
        "\n",
        "# Concatenate the dummy variables with the original DataFrame\n",
        "# Make sure to align them on the index\n",
        "df_dummies = pd.concat([df, dummies], axis=1)\n",
        "\n",
        "#drop the original columns\n",
        "df_dummies.drop(df[['Retailer', 'Region', 'Product Type', 'Sales Method', 'Price per Unit Level']], axis=1, inplace=True)"
      ]
    },
    {
      "cell_type": "code",
      "execution_count": null,
      "metadata": {
        "id": "XDfbfNlHuLyC"
      },
      "outputs": [],
      "source": [
        "new_df = df_dummies"
      ]
    },
    {
      "cell_type": "code",
      "execution_count": null,
      "metadata": {
        "colab": {
          "base_uri": "https://localhost:8080/",
          "height": 308
        },
        "id": "S6rEDq0tuLyC",
        "outputId": "f34b9aef-fb5f-4502-ff0b-ce0ac62fc0be"
      },
      "outputs": [
        {
          "output_type": "execute_result",
          "data": {
            "text/plain": [
              "   Operating Margin  Retailer_Foot Locker  Retailer_Kohl's  \\\n",
              "0              0.50                     1                0   \n",
              "1              0.30                     1                0   \n",
              "2              0.35                     1                0   \n",
              "3              0.35                     1                0   \n",
              "4              0.30                     1                0   \n",
              "\n",
              "   Retailer_Sports Direct  Retailer_Walmart  Retailer_West Gear  \\\n",
              "0                       0                 0                   0   \n",
              "1                       0                 0                   0   \n",
              "2                       0                 0                   0   \n",
              "3                       0                 0                   0   \n",
              "4                       0                 0                   0   \n",
              "\n",
              "   Region_Northeast  Region_South  Region_Southeast  Region_West  ...  \\\n",
              "0                 1             0                 0            0  ...   \n",
              "1                 1             0                 0            0  ...   \n",
              "2                 1             0                 0            0  ...   \n",
              "3                 1             0                 0            0  ...   \n",
              "4                 1             0                 0            0  ...   \n",
              "\n",
              "   Product Type_Men's Street Footwear  Product Type_Women's Apparel  \\\n",
              "0                                   1                             0   \n",
              "1                                   0                             0   \n",
              "2                                   0                             0   \n",
              "3                                   0                             0   \n",
              "4                                   0                             0   \n",
              "\n",
              "   Product Type_Women's Athletic Footwear  \\\n",
              "0                                       0   \n",
              "1                                       0   \n",
              "2                                       0   \n",
              "3                                       1   \n",
              "4                                       0   \n",
              "\n",
              "   Product Type_Women's Street Footwear  Sales Method_Online  \\\n",
              "0                                     0                    0   \n",
              "1                                     0                    0   \n",
              "2                                     1                    0   \n",
              "3                                     0                    0   \n",
              "4                                     0                    0   \n",
              "\n",
              "   Sales Method_Outlet  Price per Unit Level_Low  \\\n",
              "0                    0                         0   \n",
              "1                    0                         0   \n",
              "2                    0                         1   \n",
              "3                    0                         0   \n",
              "4                    0                         0   \n",
              "\n",
              "   Price per Unit Level_Moderate  Price per Unit Level_High  \\\n",
              "0                              1                          0   \n",
              "1                              1                          0   \n",
              "2                              0                          0   \n",
              "3                              1                          0   \n",
              "4                              1                          0   \n",
              "\n",
              "   Price per Unit Level_Very High  \n",
              "0                               0  \n",
              "1                               0  \n",
              "2                               0  \n",
              "3                               0  \n",
              "4                               0  \n",
              "\n",
              "[5 rows x 21 columns]"
            ],
            "text/html": [
              "\n",
              "  <div id=\"df-af60fa64-9dd8-4d3f-8b81-73305cfa9bc3\" class=\"colab-df-container\">\n",
              "    <div>\n",
              "<style scoped>\n",
              "    .dataframe tbody tr th:only-of-type {\n",
              "        vertical-align: middle;\n",
              "    }\n",
              "\n",
              "    .dataframe tbody tr th {\n",
              "        vertical-align: top;\n",
              "    }\n",
              "\n",
              "    .dataframe thead th {\n",
              "        text-align: right;\n",
              "    }\n",
              "</style>\n",
              "<table border=\"1\" class=\"dataframe\">\n",
              "  <thead>\n",
              "    <tr style=\"text-align: right;\">\n",
              "      <th></th>\n",
              "      <th>Operating Margin</th>\n",
              "      <th>Retailer_Foot Locker</th>\n",
              "      <th>Retailer_Kohl's</th>\n",
              "      <th>Retailer_Sports Direct</th>\n",
              "      <th>Retailer_Walmart</th>\n",
              "      <th>Retailer_West Gear</th>\n",
              "      <th>Region_Northeast</th>\n",
              "      <th>Region_South</th>\n",
              "      <th>Region_Southeast</th>\n",
              "      <th>Region_West</th>\n",
              "      <th>...</th>\n",
              "      <th>Product Type_Men's Street Footwear</th>\n",
              "      <th>Product Type_Women's Apparel</th>\n",
              "      <th>Product Type_Women's Athletic Footwear</th>\n",
              "      <th>Product Type_Women's Street Footwear</th>\n",
              "      <th>Sales Method_Online</th>\n",
              "      <th>Sales Method_Outlet</th>\n",
              "      <th>Price per Unit Level_Low</th>\n",
              "      <th>Price per Unit Level_Moderate</th>\n",
              "      <th>Price per Unit Level_High</th>\n",
              "      <th>Price per Unit Level_Very High</th>\n",
              "    </tr>\n",
              "  </thead>\n",
              "  <tbody>\n",
              "    <tr>\n",
              "      <th>0</th>\n",
              "      <td>0.50</td>\n",
              "      <td>1</td>\n",
              "      <td>0</td>\n",
              "      <td>0</td>\n",
              "      <td>0</td>\n",
              "      <td>0</td>\n",
              "      <td>1</td>\n",
              "      <td>0</td>\n",
              "      <td>0</td>\n",
              "      <td>0</td>\n",
              "      <td>...</td>\n",
              "      <td>1</td>\n",
              "      <td>0</td>\n",
              "      <td>0</td>\n",
              "      <td>0</td>\n",
              "      <td>0</td>\n",
              "      <td>0</td>\n",
              "      <td>0</td>\n",
              "      <td>1</td>\n",
              "      <td>0</td>\n",
              "      <td>0</td>\n",
              "    </tr>\n",
              "    <tr>\n",
              "      <th>1</th>\n",
              "      <td>0.30</td>\n",
              "      <td>1</td>\n",
              "      <td>0</td>\n",
              "      <td>0</td>\n",
              "      <td>0</td>\n",
              "      <td>0</td>\n",
              "      <td>1</td>\n",
              "      <td>0</td>\n",
              "      <td>0</td>\n",
              "      <td>0</td>\n",
              "      <td>...</td>\n",
              "      <td>0</td>\n",
              "      <td>0</td>\n",
              "      <td>0</td>\n",
              "      <td>0</td>\n",
              "      <td>0</td>\n",
              "      <td>0</td>\n",
              "      <td>0</td>\n",
              "      <td>1</td>\n",
              "      <td>0</td>\n",
              "      <td>0</td>\n",
              "    </tr>\n",
              "    <tr>\n",
              "      <th>2</th>\n",
              "      <td>0.35</td>\n",
              "      <td>1</td>\n",
              "      <td>0</td>\n",
              "      <td>0</td>\n",
              "      <td>0</td>\n",
              "      <td>0</td>\n",
              "      <td>1</td>\n",
              "      <td>0</td>\n",
              "      <td>0</td>\n",
              "      <td>0</td>\n",
              "      <td>...</td>\n",
              "      <td>0</td>\n",
              "      <td>0</td>\n",
              "      <td>0</td>\n",
              "      <td>1</td>\n",
              "      <td>0</td>\n",
              "      <td>0</td>\n",
              "      <td>1</td>\n",
              "      <td>0</td>\n",
              "      <td>0</td>\n",
              "      <td>0</td>\n",
              "    </tr>\n",
              "    <tr>\n",
              "      <th>3</th>\n",
              "      <td>0.35</td>\n",
              "      <td>1</td>\n",
              "      <td>0</td>\n",
              "      <td>0</td>\n",
              "      <td>0</td>\n",
              "      <td>0</td>\n",
              "      <td>1</td>\n",
              "      <td>0</td>\n",
              "      <td>0</td>\n",
              "      <td>0</td>\n",
              "      <td>...</td>\n",
              "      <td>0</td>\n",
              "      <td>0</td>\n",
              "      <td>1</td>\n",
              "      <td>0</td>\n",
              "      <td>0</td>\n",
              "      <td>0</td>\n",
              "      <td>0</td>\n",
              "      <td>1</td>\n",
              "      <td>0</td>\n",
              "      <td>0</td>\n",
              "    </tr>\n",
              "    <tr>\n",
              "      <th>4</th>\n",
              "      <td>0.30</td>\n",
              "      <td>1</td>\n",
              "      <td>0</td>\n",
              "      <td>0</td>\n",
              "      <td>0</td>\n",
              "      <td>0</td>\n",
              "      <td>1</td>\n",
              "      <td>0</td>\n",
              "      <td>0</td>\n",
              "      <td>0</td>\n",
              "      <td>...</td>\n",
              "      <td>0</td>\n",
              "      <td>0</td>\n",
              "      <td>0</td>\n",
              "      <td>0</td>\n",
              "      <td>0</td>\n",
              "      <td>0</td>\n",
              "      <td>0</td>\n",
              "      <td>1</td>\n",
              "      <td>0</td>\n",
              "      <td>0</td>\n",
              "    </tr>\n",
              "  </tbody>\n",
              "</table>\n",
              "<p>5 rows × 21 columns</p>\n",
              "</div>\n",
              "    <div class=\"colab-df-buttons\">\n",
              "\n",
              "  <div class=\"colab-df-container\">\n",
              "    <button class=\"colab-df-convert\" onclick=\"convertToInteractive('df-af60fa64-9dd8-4d3f-8b81-73305cfa9bc3')\"\n",
              "            title=\"Convert this dataframe to an interactive table.\"\n",
              "            style=\"display:none;\">\n",
              "\n",
              "  <svg xmlns=\"http://www.w3.org/2000/svg\" height=\"24px\" viewBox=\"0 -960 960 960\">\n",
              "    <path d=\"M120-120v-720h720v720H120Zm60-500h600v-160H180v160Zm220 220h160v-160H400v160Zm0 220h160v-160H400v160ZM180-400h160v-160H180v160Zm440 0h160v-160H620v160ZM180-180h160v-160H180v160Zm440 0h160v-160H620v160Z\"/>\n",
              "  </svg>\n",
              "    </button>\n",
              "\n",
              "  <style>\n",
              "    .colab-df-container {\n",
              "      display:flex;\n",
              "      gap: 12px;\n",
              "    }\n",
              "\n",
              "    .colab-df-convert {\n",
              "      background-color: #E8F0FE;\n",
              "      border: none;\n",
              "      border-radius: 50%;\n",
              "      cursor: pointer;\n",
              "      display: none;\n",
              "      fill: #1967D2;\n",
              "      height: 32px;\n",
              "      padding: 0 0 0 0;\n",
              "      width: 32px;\n",
              "    }\n",
              "\n",
              "    .colab-df-convert:hover {\n",
              "      background-color: #E2EBFA;\n",
              "      box-shadow: 0px 1px 2px rgba(60, 64, 67, 0.3), 0px 1px 3px 1px rgba(60, 64, 67, 0.15);\n",
              "      fill: #174EA6;\n",
              "    }\n",
              "\n",
              "    .colab-df-buttons div {\n",
              "      margin-bottom: 4px;\n",
              "    }\n",
              "\n",
              "    [theme=dark] .colab-df-convert {\n",
              "      background-color: #3B4455;\n",
              "      fill: #D2E3FC;\n",
              "    }\n",
              "\n",
              "    [theme=dark] .colab-df-convert:hover {\n",
              "      background-color: #434B5C;\n",
              "      box-shadow: 0px 1px 3px 1px rgba(0, 0, 0, 0.15);\n",
              "      filter: drop-shadow(0px 1px 2px rgba(0, 0, 0, 0.3));\n",
              "      fill: #FFFFFF;\n",
              "    }\n",
              "  </style>\n",
              "\n",
              "    <script>\n",
              "      const buttonEl =\n",
              "        document.querySelector('#df-af60fa64-9dd8-4d3f-8b81-73305cfa9bc3 button.colab-df-convert');\n",
              "      buttonEl.style.display =\n",
              "        google.colab.kernel.accessAllowed ? 'block' : 'none';\n",
              "\n",
              "      async function convertToInteractive(key) {\n",
              "        const element = document.querySelector('#df-af60fa64-9dd8-4d3f-8b81-73305cfa9bc3');\n",
              "        const dataTable =\n",
              "          await google.colab.kernel.invokeFunction('convertToInteractive',\n",
              "                                                    [key], {});\n",
              "        if (!dataTable) return;\n",
              "\n",
              "        const docLinkHtml = 'Like what you see? Visit the ' +\n",
              "          '<a target=\"_blank\" href=https://colab.research.google.com/notebooks/data_table.ipynb>data table notebook</a>'\n",
              "          + ' to learn more about interactive tables.';\n",
              "        element.innerHTML = '';\n",
              "        dataTable['output_type'] = 'display_data';\n",
              "        await google.colab.output.renderOutput(dataTable, element);\n",
              "        const docLink = document.createElement('div');\n",
              "        docLink.innerHTML = docLinkHtml;\n",
              "        element.appendChild(docLink);\n",
              "      }\n",
              "    </script>\n",
              "  </div>\n",
              "\n",
              "\n",
              "<div id=\"df-f9923dbd-b3eb-49d6-a05c-19f083adde10\">\n",
              "  <button class=\"colab-df-quickchart\" onclick=\"quickchart('df-f9923dbd-b3eb-49d6-a05c-19f083adde10')\"\n",
              "            title=\"Suggest charts\"\n",
              "            style=\"display:none;\">\n",
              "\n",
              "<svg xmlns=\"http://www.w3.org/2000/svg\" height=\"24px\"viewBox=\"0 0 24 24\"\n",
              "     width=\"24px\">\n",
              "    <g>\n",
              "        <path d=\"M19 3H5c-1.1 0-2 .9-2 2v14c0 1.1.9 2 2 2h14c1.1 0 2-.9 2-2V5c0-1.1-.9-2-2-2zM9 17H7v-7h2v7zm4 0h-2V7h2v10zm4 0h-2v-4h2v4z\"/>\n",
              "    </g>\n",
              "</svg>\n",
              "  </button>\n",
              "\n",
              "<style>\n",
              "  .colab-df-quickchart {\n",
              "      --bg-color: #E8F0FE;\n",
              "      --fill-color: #1967D2;\n",
              "      --hover-bg-color: #E2EBFA;\n",
              "      --hover-fill-color: #174EA6;\n",
              "      --disabled-fill-color: #AAA;\n",
              "      --disabled-bg-color: #DDD;\n",
              "  }\n",
              "\n",
              "  [theme=dark] .colab-df-quickchart {\n",
              "      --bg-color: #3B4455;\n",
              "      --fill-color: #D2E3FC;\n",
              "      --hover-bg-color: #434B5C;\n",
              "      --hover-fill-color: #FFFFFF;\n",
              "      --disabled-bg-color: #3B4455;\n",
              "      --disabled-fill-color: #666;\n",
              "  }\n",
              "\n",
              "  .colab-df-quickchart {\n",
              "    background-color: var(--bg-color);\n",
              "    border: none;\n",
              "    border-radius: 50%;\n",
              "    cursor: pointer;\n",
              "    display: none;\n",
              "    fill: var(--fill-color);\n",
              "    height: 32px;\n",
              "    padding: 0;\n",
              "    width: 32px;\n",
              "  }\n",
              "\n",
              "  .colab-df-quickchart:hover {\n",
              "    background-color: var(--hover-bg-color);\n",
              "    box-shadow: 0 1px 2px rgba(60, 64, 67, 0.3), 0 1px 3px 1px rgba(60, 64, 67, 0.15);\n",
              "    fill: var(--button-hover-fill-color);\n",
              "  }\n",
              "\n",
              "  .colab-df-quickchart-complete:disabled,\n",
              "  .colab-df-quickchart-complete:disabled:hover {\n",
              "    background-color: var(--disabled-bg-color);\n",
              "    fill: var(--disabled-fill-color);\n",
              "    box-shadow: none;\n",
              "  }\n",
              "\n",
              "  .colab-df-spinner {\n",
              "    border: 2px solid var(--fill-color);\n",
              "    border-color: transparent;\n",
              "    border-bottom-color: var(--fill-color);\n",
              "    animation:\n",
              "      spin 1s steps(1) infinite;\n",
              "  }\n",
              "\n",
              "  @keyframes spin {\n",
              "    0% {\n",
              "      border-color: transparent;\n",
              "      border-bottom-color: var(--fill-color);\n",
              "      border-left-color: var(--fill-color);\n",
              "    }\n",
              "    20% {\n",
              "      border-color: transparent;\n",
              "      border-left-color: var(--fill-color);\n",
              "      border-top-color: var(--fill-color);\n",
              "    }\n",
              "    30% {\n",
              "      border-color: transparent;\n",
              "      border-left-color: var(--fill-color);\n",
              "      border-top-color: var(--fill-color);\n",
              "      border-right-color: var(--fill-color);\n",
              "    }\n",
              "    40% {\n",
              "      border-color: transparent;\n",
              "      border-right-color: var(--fill-color);\n",
              "      border-top-color: var(--fill-color);\n",
              "    }\n",
              "    60% {\n",
              "      border-color: transparent;\n",
              "      border-right-color: var(--fill-color);\n",
              "    }\n",
              "    80% {\n",
              "      border-color: transparent;\n",
              "      border-right-color: var(--fill-color);\n",
              "      border-bottom-color: var(--fill-color);\n",
              "    }\n",
              "    90% {\n",
              "      border-color: transparent;\n",
              "      border-bottom-color: var(--fill-color);\n",
              "    }\n",
              "  }\n",
              "</style>\n",
              "\n",
              "  <script>\n",
              "    async function quickchart(key) {\n",
              "      const quickchartButtonEl =\n",
              "        document.querySelector('#' + key + ' button');\n",
              "      quickchartButtonEl.disabled = true;  // To prevent multiple clicks.\n",
              "      quickchartButtonEl.classList.add('colab-df-spinner');\n",
              "      try {\n",
              "        const charts = await google.colab.kernel.invokeFunction(\n",
              "            'suggestCharts', [key], {});\n",
              "      } catch (error) {\n",
              "        console.error('Error during call to suggestCharts:', error);\n",
              "      }\n",
              "      quickchartButtonEl.classList.remove('colab-df-spinner');\n",
              "      quickchartButtonEl.classList.add('colab-df-quickchart-complete');\n",
              "    }\n",
              "    (() => {\n",
              "      let quickchartButtonEl =\n",
              "        document.querySelector('#df-f9923dbd-b3eb-49d6-a05c-19f083adde10 button');\n",
              "      quickchartButtonEl.style.display =\n",
              "        google.colab.kernel.accessAllowed ? 'block' : 'none';\n",
              "    })();\n",
              "  </script>\n",
              "</div>\n",
              "    </div>\n",
              "  </div>\n"
            ]
          },
          "metadata": {},
          "execution_count": 299
        }
      ],
      "source": [
        "new_df.head()"
      ]
    },
    {
      "cell_type": "code",
      "execution_count": null,
      "metadata": {
        "colab": {
          "base_uri": "https://localhost:8080/"
        },
        "id": "PNWMeAHsuLyD",
        "outputId": "f85f7a21-6ca2-4775-e92d-1c5e94745d55"
      },
      "outputs": [
        {
          "output_type": "execute_result",
          "data": {
            "text/plain": [
              "(9585, 6)"
            ]
          },
          "metadata": {},
          "execution_count": 300
        }
      ],
      "source": [
        "df.shape"
      ]
    },
    {
      "cell_type": "markdown",
      "metadata": {
        "id": "gPUBYqPQm0fJ"
      },
      "source": [
        "As we can see above, originally, there were 25 different categories in total, out of the 5 different columns. This means that there should be 25-5 = 20 dummy columns. This is confirmed above, as we can see that there are 21 columns (including the y variable).\n",
        "\n",
        "\n",
        "---\n",
        "\n"
      ]
    },
    {
      "cell_type": "markdown",
      "metadata": {
        "id": "RfeSd-KUUDC7"
      },
      "source": [
        "### 10.2. Normalization"
      ]
    },
    {
      "cell_type": "markdown",
      "metadata": {
        "id": "ODZZ87UAUDC7"
      },
      "source": [
        "Explain why or why not you need to normalize the data. Normalize it below if needed."
      ]
    },
    {
      "cell_type": "markdown",
      "metadata": {
        "id": "V0nQmTJI6x0S"
      },
      "source": [
        "There is no need to normalize the data because all of my predictors are categorical variables (dummies). The only numerical variable is the dependent variable (Operating Profit), so there is no need to normalize the data because we dont need to put different numerical variables on the same scale with one another."
      ]
    },
    {
      "cell_type": "markdown",
      "metadata": {
        "id": "Ki1OuX1lUDC7"
      },
      "source": [
        "## 10.3 Modeling"
      ]
    },
    {
      "cell_type": "markdown",
      "metadata": {
        "id": "R12UYWTv2sY5"
      },
      "source": [
        "### **Train a Linear Regression (Ordinary Least Squares, OLS) model**\n",
        "- Run OLS model selection (exhaustive search, forward selection,\n",
        "stepwise, backward selection). Select the best model (40 points).\n",
        "- Report MAE, Average error, MAPE, and RMSE for the best model for\n",
        "both training and validation sets (15 points).\n",
        "- Draw histogram of residuals for the best model using validation set and\n",
        "interpret it (10 points)"
      ]
    },
    {
      "cell_type": "markdown",
      "metadata": {
        "id": "9OtUn2-kuLyF"
      },
      "source": [
        "Assign predictors to \"X\" variable and dependent variable to the \"Y\" variable"
      ]
    },
    {
      "cell_type": "code",
      "execution_count": null,
      "metadata": {
        "id": "5vkRpbYbuLyF"
      },
      "outputs": [],
      "source": [
        "X = new_df.drop(columns = 'Operating Margin')\n",
        "y = new_df['Operating Margin']"
      ]
    },
    {
      "cell_type": "markdown",
      "metadata": {
        "id": "Ni-0uiuFuLyG"
      },
      "source": [
        "Partition the Data"
      ]
    },
    {
      "cell_type": "code",
      "execution_count": null,
      "metadata": {
        "id": "noeGYLcwuLyG"
      },
      "outputs": [],
      "source": [
        "train_X, valid_X, train_y, valid_y = train_test_split(X, y, test_size=0.4,\n",
        "random_state=42)"
      ]
    },
    {
      "cell_type": "markdown",
      "metadata": {
        "id": "z8seWaicuLyG"
      },
      "source": [
        "Initiate the Model"
      ]
    },
    {
      "cell_type": "code",
      "execution_count": null,
      "metadata": {
        "id": "ISbu3MdeuLyG"
      },
      "outputs": [],
      "source": [
        "# Linear Regression Model is created and saved to 'model'\n",
        "model = LinearRegression()"
      ]
    },
    {
      "cell_type": "markdown",
      "metadata": {
        "id": "gcnNxqBUuLyH"
      },
      "source": [
        "**Exhaustive Search ( This is the code that I would use for an exhaustive search however, my notebook does not have enough computing power to calculate this.)**\n",
        "\n",
        "\n",
        "---\n",
        "\n"
      ]
    },
    {
      "cell_type": "markdown",
      "metadata": {
        "id": "1UHnw2ztuLyH"
      },
      "source": [
        "\n",
        "\n",
        "```\n",
        "def train_model(variables):\n",
        "    model = LinearRegression()\n",
        "    model.fit(train_X[variables], train_y)\n",
        "    return model\n",
        "\n",
        "def score_model(model, variables):\n",
        "    pred_y = model.predict(train_X[variables])\n",
        "    # we negate as score is optimized to be as low as possible\n",
        "    return -adjusted_r2_score(train_y, pred_y, model)\n",
        "\n",
        "allVariables = train_X.columns\n",
        "results = exhaustive_search(allVariables, train_model, score_model)\n",
        "\n",
        "data = []\n",
        "for result in results:\n",
        "    model = result['model']\n",
        "    variables = result['variables']\n",
        "    AIC = AIC_score(train_y, model.predict(train_X[variables]), model)\n",
        "    \n",
        "    d = {'n': result['n'], 'r2adj': -result['score'], 'AIC': AIC}\n",
        "    d.update({var: var in result['variables'] for var in allVariables})\n",
        "    data.append(d)\n",
        "pd.set_option('display.width', 100)\n",
        "print(pd.DataFrame(data, columns=('n', 'r2adj', 'AIC') + tuple(sorted(allVariables))))\n",
        "pd.reset_option('display.width')\n",
        "\n",
        "```\n",
        "\n",
        "\n",
        "\n",
        "\n",
        "\n",
        "\n",
        "\n",
        "\n"
      ]
    },
    {
      "cell_type": "markdown",
      "metadata": {
        "id": "av_9fPAWuLyH"
      },
      "source": [
        "Forward Search"
      ]
    },
    {
      "cell_type": "code",
      "execution_count": null,
      "metadata": {
        "colab": {
          "base_uri": "https://localhost:8080/"
        },
        "id": "YpdpbIWiuLyH",
        "outputId": "45e36fbb-64ee-46ba-ffc6-30e385415cd4"
      },
      "outputs": [
        {
          "output_type": "stream",
          "name": "stdout",
          "text": [
            "Variables: Retailer_Foot Locker, Retailer_Kohl's, Retailer_Sports Direct, Retailer_Walmart, Retailer_West Gear, Region_Northeast, Region_South, Region_Southeast, Region_West, Product Type_Men's Athletic Footwear, Product Type_Men's Street Footwear, Product Type_Women's Apparel, Product Type_Women's Athletic Footwear, Product Type_Women's Street Footwear, Sales Method_Online, Sales Method_Outlet, Price per Unit Level_Low, Price per Unit Level_Moderate, Price per Unit Level_High, Price per Unit Level_Very High\n",
            "Start: score=-10905.30, constant\n",
            "Step: score=-12082.38, add Sales Method_Online\n",
            "Step: score=-12370.93, add Region_South\n",
            "Step: score=-12461.45, add Product Type_Men's Street Footwear\n",
            "Step: score=-12531.40, add Product Type_Women's Apparel\n",
            "Step: score=-12624.51, add Price per Unit Level_High\n",
            "Step: score=-12672.06, add Sales Method_Outlet\n",
            "Step: score=-12721.57, add Retailer_Walmart\n",
            "Step: score=-12777.47, add Region_West\n",
            "Step: score=-12806.24, add Product Type_Women's Athletic Footwear\n",
            "Step: score=-12826.14, add Price per Unit Level_Very High\n",
            "Step: score=-12846.97, add Retailer_West Gear\n",
            "Step: score=-12858.14, add Retailer_Sports Direct\n",
            "Step: score=-12867.03, add Region_Southeast\n",
            "Step: score=-12869.05, add Product Type_Men's Athletic Footwear\n",
            "Step: score=-12869.05, add None\n",
            "['Sales Method_Online', 'Region_South', \"Product Type_Men's Street Footwear\", \"Product Type_Women's Apparel\", 'Price per Unit Level_High', 'Sales Method_Outlet', 'Retailer_Walmart', 'Region_West', \"Product Type_Women's Athletic Footwear\", 'Price per Unit Level_Very High', 'Retailer_West Gear', 'Retailer_Sports Direct', 'Region_Southeast', \"Product Type_Men's Athletic Footwear\"]\n",
            "The AIC score is 12869.05.\n"
          ]
        }
      ],
      "source": [
        "# The initial model is the constant model - this requires special handling\n",
        "# in train_model and score_model\n",
        "def train_model(variables):\n",
        "    if len(variables) == 0:\n",
        "        return None\n",
        "    model = LinearRegression()\n",
        "    model.fit(train_X[variables], train_y)\n",
        "    return model\n",
        "\n",
        "def score_model(model, variables):\n",
        "    if len(variables) == 0:\n",
        "        return AIC_score(train_y, [train_y.mean()] * len(train_y), model, df=1)\n",
        "    return AIC_score(train_y, model.predict(train_X[variables]), model)\n",
        "\n",
        "best_model, best_variables = forward_selection(train_X.columns, train_model, score_model, verbose=True)\n",
        "\n",
        "print(best_variables)\n",
        "print('The AIC score is 12869.05.')"
      ]
    },
    {
      "cell_type": "markdown",
      "metadata": {
        "id": "cKemtg2tuLyI"
      },
      "source": [
        "Backward Elimination"
      ]
    },
    {
      "cell_type": "code",
      "execution_count": null,
      "metadata": {
        "colab": {
          "base_uri": "https://localhost:8080/"
        },
        "id": "OFSqPsfbuLyI",
        "outputId": "654e7fdd-4317-43e4-a1ae-d67919faf2b1"
      },
      "outputs": [
        {
          "output_type": "stream",
          "name": "stdout",
          "text": [
            "Variables: Retailer_Foot Locker, Retailer_Kohl's, Retailer_Sports Direct, Retailer_Walmart, Retailer_West Gear, Region_Northeast, Region_South, Region_Southeast, Region_West, Product Type_Men's Athletic Footwear, Product Type_Men's Street Footwear, Product Type_Women's Apparel, Product Type_Women's Athletic Footwear, Product Type_Women's Street Footwear, Sales Method_Online, Sales Method_Outlet, Price per Unit Level_Low, Price per Unit Level_Moderate, Price per Unit Level_High, Price per Unit Level_Very High\n",
            "Start: score=-12860.28\n",
            "Step: score=-12862.27, remove Product Type_Women's Street Footwear\n",
            "Step: score=-12864.22, remove Region_Northeast\n",
            "Step: score=-12866.08, remove Retailer_Kohl's\n",
            "Step: score=-12867.90, remove Price per Unit Level_Moderate\n",
            "Step: score=-12868.76, remove Price per Unit Level_Low\n",
            "Step: score=-12869.05, remove Retailer_Foot Locker\n",
            "Step: score=-12869.05, remove None\n",
            "['Retailer_Sports Direct', 'Retailer_Walmart', 'Retailer_West Gear', 'Region_South', 'Region_Southeast', 'Region_West', \"Product Type_Men's Athletic Footwear\", \"Product Type_Men's Street Footwear\", \"Product Type_Women's Apparel\", \"Product Type_Women's Athletic Footwear\", 'Sales Method_Online', 'Sales Method_Outlet', 'Price per Unit Level_High', 'Price per Unit Level_Very High']\n",
            "The AIC score is 12869.05.\n"
          ]
        }
      ],
      "source": [
        "def train_model(variables):\n",
        "    model = LinearRegression()\n",
        "    model.fit(train_X[variables], train_y)\n",
        "    return model\n",
        "\n",
        "def score_model(model, variables):\n",
        "    return AIC_score(train_y, model.predict(train_X[variables]), model)\n",
        "\n",
        "best_model, best_variables = backward_elimination(train_X.columns, train_model, score_model, verbose=True)\n",
        "\n",
        "print(best_variables)\n",
        "print('The AIC score is 12869.05.')"
      ]
    },
    {
      "cell_type": "markdown",
      "metadata": {
        "id": "mEcinkbJuLyI"
      },
      "source": [
        "Stepwise"
      ]
    },
    {
      "cell_type": "code",
      "execution_count": null,
      "metadata": {
        "colab": {
          "base_uri": "https://localhost:8080/"
        },
        "id": "mbY9WPTMuLyJ",
        "outputId": "08fd211d-13df-4012-925c-415b630a6d0c"
      },
      "outputs": [
        {
          "output_type": "stream",
          "name": "stdout",
          "text": [
            "Selected features: ['Sales Method_Online', 'Region_South', \"Product Type_Men's Street Footwear\", \"Product Type_Women's Apparel\", 'Price per Unit Level_High', 'Sales Method_Outlet', 'Retailer_Walmart', 'Region_West', \"Product Type_Women's Athletic Footwear\", 'Price per Unit Level_Very High', 'Retailer_West Gear', 'Retailer_Sports Direct', 'Region_Southeast', \"Product Type_Men's Athletic Footwear\"]\n",
            "The AIC score is 12869.05.\n"
          ]
        }
      ],
      "source": [
        "import statsmodels.api as sm\n",
        "import pandas as pd\n",
        "\n",
        "def stepwise_selection(X, y, threshold_in=0.01, threshold_out=0.05):\n",
        "    # I start with an empty list of included variables.\n",
        "    included = []\n",
        "    while True:\n",
        "        changed = False\n",
        "\n",
        "        # For the forward step, I consider adding each variable not in the model.\n",
        "        excluded = list(set(X.columns) - set(included))\n",
        "        new_aic = pd.Series(index=excluded, dtype = 'float64')\n",
        "        for new_column in excluded:\n",
        "            # For each candidate variable, I fit the model and calculate the AIC.\n",
        "            model = sm.OLS(y, sm.add_constant(pd.DataFrame(X[included + [new_column]]))).fit()\n",
        "            new_aic[new_column] = model.aic\n",
        "\n",
        "        # I choose the variable with the lowest AIC to add to the model.\n",
        "        best_aic = new_aic.min()\n",
        "        if best_aic < (sm.OLS(y, sm.add_constant(pd.DataFrame(X[included]))).fit().aic - threshold_in):\n",
        "            best_feature = new_aic.idxmin()\n",
        "            included.append(best_feature)\n",
        "            changed = True\n",
        "\n",
        "        # For the backward step, I check if removing any variable improves the model.\n",
        "        model = sm.OLS(y, sm.add_constant(pd.DataFrame(X[included]))).fit()\n",
        "        aics = pd.Series(model.aic, index=included)\n",
        "        worst_aic = aics.max()\n",
        "        if worst_aic > (model.aic + threshold_out):\n",
        "            # If removing a variable lowers the AIC, I remove it from the model.\n",
        "            changed = True\n",
        "            worst_feature = aics.idxmax()\n",
        "            included.remove(worst_feature)\n",
        "\n",
        "        # If there's no change in the model, the selection process stops.\n",
        "        if not changed:\n",
        "            break\n",
        "\n",
        "    # The function returns the final list of variables that are included in the model.\n",
        "    return included\n",
        "\n",
        "# Now, I apply this function to my training data.\n",
        "selected_features = stepwise_selection(train_X, train_y)\n",
        "print('Selected features:', selected_features)\n",
        "print('The AIC score is 12869.05.')\n"
      ]
    },
    {
      "cell_type": "markdown",
      "metadata": {
        "id": "RnLbvRJpuLyJ"
      },
      "source": [
        "*Backward Elimination, Forward Search, Stepwise (and assuming exhaustive search) returns the same best variables (they are just shown in a different order). oreover, they all have the same AIC of 12869.05. Now, I will fit these variables to a new model.*"
      ]
    },
    {
      "cell_type": "code",
      "execution_count": null,
      "metadata": {
        "id": "a7dfq54zuLyJ"
      },
      "outputs": [],
      "source": [
        "# Create a new variable\n",
        "train_X = train_X[['Retailer_Sports Direct', 'Retailer_Walmart', 'Retailer_West Gear', 'Region_South', 'Region_Southeast', 'Region_West', \"Product Type_Men's Athletic Footwear\", \"Product Type_Men's Street Footwear\", \"Product Type_Women's Apparel\", \"Product Type_Women's Athletic Footwear\", 'Sales Method_Online', 'Sales Method_Outlet', 'Price per Unit Level_High', 'Price per Unit Level_Very High']]\n",
        "valid_X = valid_X[['Retailer_Sports Direct', 'Retailer_Walmart', 'Retailer_West Gear', 'Region_South', 'Region_Southeast', 'Region_West', \"Product Type_Men's Athletic Footwear\", \"Product Type_Men's Street Footwear\", \"Product Type_Women's Apparel\", \"Product Type_Women's Athletic Footwear\", 'Sales Method_Online', 'Sales Method_Outlet', 'Price per Unit Level_High', 'Price per Unit Level_Very High']]"
      ]
    },
    {
      "cell_type": "code",
      "execution_count": null,
      "metadata": {
        "id": "hlv_Jh4luLyK"
      },
      "outputs": [],
      "source": [
        "#Initiate a new model\n",
        "new_model = LinearRegression()"
      ]
    },
    {
      "cell_type": "code",
      "execution_count": null,
      "metadata": {
        "colab": {
          "base_uri": "https://localhost:8080/",
          "height": 75
        },
        "id": "WrJCQpWpuLyK",
        "outputId": "c15a67a7-5d12-4945-87f2-db9c560af59e"
      },
      "outputs": [
        {
          "output_type": "execute_result",
          "data": {
            "text/plain": [
              "LinearRegression()"
            ],
            "text/html": [
              "<style>#sk-container-id-9 {color: black;background-color: white;}#sk-container-id-9 pre{padding: 0;}#sk-container-id-9 div.sk-toggleable {background-color: white;}#sk-container-id-9 label.sk-toggleable__label {cursor: pointer;display: block;width: 100%;margin-bottom: 0;padding: 0.3em;box-sizing: border-box;text-align: center;}#sk-container-id-9 label.sk-toggleable__label-arrow:before {content: \"▸\";float: left;margin-right: 0.25em;color: #696969;}#sk-container-id-9 label.sk-toggleable__label-arrow:hover:before {color: black;}#sk-container-id-9 div.sk-estimator:hover label.sk-toggleable__label-arrow:before {color: black;}#sk-container-id-9 div.sk-toggleable__content {max-height: 0;max-width: 0;overflow: hidden;text-align: left;background-color: #f0f8ff;}#sk-container-id-9 div.sk-toggleable__content pre {margin: 0.2em;color: black;border-radius: 0.25em;background-color: #f0f8ff;}#sk-container-id-9 input.sk-toggleable__control:checked~div.sk-toggleable__content {max-height: 200px;max-width: 100%;overflow: auto;}#sk-container-id-9 input.sk-toggleable__control:checked~label.sk-toggleable__label-arrow:before {content: \"▾\";}#sk-container-id-9 div.sk-estimator input.sk-toggleable__control:checked~label.sk-toggleable__label {background-color: #d4ebff;}#sk-container-id-9 div.sk-label input.sk-toggleable__control:checked~label.sk-toggleable__label {background-color: #d4ebff;}#sk-container-id-9 input.sk-hidden--visually {border: 0;clip: rect(1px 1px 1px 1px);clip: rect(1px, 1px, 1px, 1px);height: 1px;margin: -1px;overflow: hidden;padding: 0;position: absolute;width: 1px;}#sk-container-id-9 div.sk-estimator {font-family: monospace;background-color: #f0f8ff;border: 1px dotted black;border-radius: 0.25em;box-sizing: border-box;margin-bottom: 0.5em;}#sk-container-id-9 div.sk-estimator:hover {background-color: #d4ebff;}#sk-container-id-9 div.sk-parallel-item::after {content: \"\";width: 100%;border-bottom: 1px solid gray;flex-grow: 1;}#sk-container-id-9 div.sk-label:hover label.sk-toggleable__label {background-color: #d4ebff;}#sk-container-id-9 div.sk-serial::before {content: \"\";position: absolute;border-left: 1px solid gray;box-sizing: border-box;top: 0;bottom: 0;left: 50%;z-index: 0;}#sk-container-id-9 div.sk-serial {display: flex;flex-direction: column;align-items: center;background-color: white;padding-right: 0.2em;padding-left: 0.2em;position: relative;}#sk-container-id-9 div.sk-item {position: relative;z-index: 1;}#sk-container-id-9 div.sk-parallel {display: flex;align-items: stretch;justify-content: center;background-color: white;position: relative;}#sk-container-id-9 div.sk-item::before, #sk-container-id-9 div.sk-parallel-item::before {content: \"\";position: absolute;border-left: 1px solid gray;box-sizing: border-box;top: 0;bottom: 0;left: 50%;z-index: -1;}#sk-container-id-9 div.sk-parallel-item {display: flex;flex-direction: column;z-index: 1;position: relative;background-color: white;}#sk-container-id-9 div.sk-parallel-item:first-child::after {align-self: flex-end;width: 50%;}#sk-container-id-9 div.sk-parallel-item:last-child::after {align-self: flex-start;width: 50%;}#sk-container-id-9 div.sk-parallel-item:only-child::after {width: 0;}#sk-container-id-9 div.sk-dashed-wrapped {border: 1px dashed gray;margin: 0 0.4em 0.5em 0.4em;box-sizing: border-box;padding-bottom: 0.4em;background-color: white;}#sk-container-id-9 div.sk-label label {font-family: monospace;font-weight: bold;display: inline-block;line-height: 1.2em;}#sk-container-id-9 div.sk-label-container {text-align: center;}#sk-container-id-9 div.sk-container {/* jupyter's `normalize.less` sets `[hidden] { display: none; }` but bootstrap.min.css set `[hidden] { display: none !important; }` so we also need the `!important` here to be able to override the default hidden behavior on the sphinx rendered scikit-learn.org. See: https://github.com/scikit-learn/scikit-learn/issues/21755 */display: inline-block !important;position: relative;}#sk-container-id-9 div.sk-text-repr-fallback {display: none;}</style><div id=\"sk-container-id-9\" class=\"sk-top-container\"><div class=\"sk-text-repr-fallback\"><pre>LinearRegression()</pre><b>In a Jupyter environment, please rerun this cell to show the HTML representation or trust the notebook. <br />On GitHub, the HTML representation is unable to render, please try loading this page with nbviewer.org.</b></div><div class=\"sk-container\" hidden><div class=\"sk-item\"><div class=\"sk-estimator sk-toggleable\"><input class=\"sk-toggleable__control sk-hidden--visually\" id=\"sk-estimator-id-9\" type=\"checkbox\" checked><label for=\"sk-estimator-id-9\" class=\"sk-toggleable__label sk-toggleable__label-arrow\">LinearRegression</label><div class=\"sk-toggleable__content\"><pre>LinearRegression()</pre></div></div></div></div></div>"
            ]
          },
          "metadata": {},
          "execution_count": 309
        }
      ],
      "source": [
        "new_model.fit(train_X,train_y)"
      ]
    },
    {
      "cell_type": "code",
      "execution_count": null,
      "metadata": {
        "colab": {
          "base_uri": "https://localhost:8080/"
        },
        "id": "uFUfqERnuLyK",
        "outputId": "0dc81b06-b655-4d4c-8bc6-473c3456befe"
      },
      "outputs": [
        {
          "output_type": "stream",
          "name": "stdout",
          "text": [
            "intercept  0.34944263564317657\n",
            "                                 Predictor  coefficient\n",
            "0                   Retailer_Sports Direct     0.012106\n",
            "1                         Retailer_Walmart    -0.022056\n",
            "2                       Retailer_West Gear     0.016037\n",
            "3                             Region_South     0.031972\n",
            "4                         Region_Southeast    -0.011518\n",
            "5                              Region_West    -0.025023\n",
            "6     Product Type_Men's Athletic Footwear    -0.006241\n",
            "7       Product Type_Men's Street Footwear     0.035057\n",
            "8             Product Type_Women's Apparel     0.032782\n",
            "9   Product Type_Women's Athletic Footwear     0.013962\n",
            "10                     Sales Method_Online     0.100790\n",
            "11                     Sales Method_Outlet     0.029995\n",
            "12               Price per Unit Level_High    -0.025720\n",
            "13          Price per Unit Level_Very High    -0.039108\n"
          ]
        }
      ],
      "source": [
        "print('intercept ',new_model.intercept_)\n",
        "print(pd.DataFrame({'Predictor': train_X.columns, 'coefficient': new_model.coef_}))"
      ]
    },
    {
      "cell_type": "markdown",
      "source": [
        "Visualize Coefficients"
      ],
      "metadata": {
        "id": "o9tLV1WnW-5d"
      }
    },
    {
      "cell_type": "code",
      "source": [
        "import matplotlib.pyplot as plt\n",
        "import pandas as pd\n",
        "import matplotlib.patches as mpatches\n",
        "\n",
        "# Prepare the data\n",
        "data = {\n",
        "    'Predictor': ['Retailer: Sports Direct', 'Retailer: Walmart', 'Retailer: West Gear', 'Region: South',\n",
        "                  'Region: Southeast', 'Region: West', \"Product Type: Men's Athletic Footwear\",\n",
        "                  \"Product Type: Men's Street Footwear\", \"Product Type: Women's Apparel\",\n",
        "                  \"Product Type: Women's Athletic Footwear\", 'Sales Method: Online', 'Sales Method: Outlet',\n",
        "                  'Price per Unit Level: High', 'Price per Unit Level: Very High'],\n",
        "    'Coefficient': [0.012106, -0.022056, 0.016037, 0.031972, -0.011518, -0.025023, -0.006241,\n",
        "                    0.035057, 0.032782, 0.013962, 0.100790, 0.029995, -0.025720, -0.039108]\n",
        "}\n",
        "\n",
        "cf = pd.DataFrame(data)\n",
        "\n",
        "# Sorting the DataFrame by coefficients in descending order\n",
        "cf_sorted = cf.sort_values(by='Coefficient', ascending=False)\n",
        "\n",
        "# Generating colors based on coefficient values\n",
        "# Darker blue for higher values, light blue for lower positive values, and light coral for negative values\n",
        "colors = ['navy' if x > 0.05 else 'royalblue' if x > 0 else 'lightblue' if x > -0.025 else 'lightcoral' for x in cf_sorted['Coefficient']]\n",
        "\n",
        "# Creating the plot\n",
        "plt.figure(figsize=(10, 8))\n",
        "\n",
        "# Using a bar plot to visualize the coefficients\n",
        "plt.bar(cf_sorted['Predictor'], cf_sorted['Coefficient'], color=colors)\n",
        "\n",
        "# Rotating the x-axis labels for better readability\n",
        "plt.xticks(rotation=45, ha=\"right\")\n",
        "\n",
        "# Creating a legend for the color coding\n",
        "high_patch = mpatches.Patch(color='navy', label='> 0.05')\n",
        "medium_patch = mpatches.Patch(color='royalblue', label='> 0.00 and ≤ 0.05')\n",
        "low_patch = mpatches.Patch(color='lightblue', label='> -0.025 and ≤ 0.00')\n",
        "negative_patch = mpatches.Patch(color='lightcoral', label='≤ -0.025')\n",
        "plt.legend(handles=[high_patch, medium_patch, low_patch, negative_patch], title=\"Coefficient Value Ranges\")\n",
        "\n",
        "# Adding titles and labels for context\n",
        "plt.title('Coefficients of Predictors')\n",
        "plt.xlabel('Predictors')\n",
        "plt.ylabel('Coefficient Value')\n",
        "\n",
        "# Adjusting layout for a better fit\n",
        "plt.tight_layout()\n",
        "\n",
        "# Displaying the plot\n",
        "plt.show()\n"
      ],
      "metadata": {
        "colab": {
          "base_uri": "https://localhost:8080/",
          "height": 807
        },
        "id": "5Sr0_vFoW85n",
        "outputId": "c49d5d53-19c4-4620-f012-f6f840ed41f4"
      },
      "execution_count": null,
      "outputs": [
        {
          "output_type": "display_data",
          "data": {
            "text/plain": [
              "<Figure size 1000x800 with 1 Axes>"
            ],
            "image/png": "[encoded data removed]"
          },
          "metadata": {}
        }
      ]
    },
    {
      "cell_type": "code",
      "source": [
        "# print performance measures\n",
        "regressionSummary(train_y, new_model.predict(train_X))"
      ],
      "metadata": {
        "colab": {
          "base_uri": "https://localhost:8080/"
        },
        "id": "T0jzLEOsWc1I",
        "outputId": "1a84c85b-e763-40ea-ee59-152d7ba43d37"
      },
      "execution_count": null,
      "outputs": [
        {
          "output_type": "stream",
          "name": "stdout",
          "text": [
            "\n",
            "Regression statistics\n",
            "\n",
            "                      Mean Error (ME) : -0.0000\n",
            "       Root Mean Squared Error (RMSE) : 0.0788\n",
            "            Mean Absolute Error (MAE) : 0.0615\n",
            "          Mean Percentage Error (MPE) : -3.9843\n",
            "Mean Absolute Percentage Error (MAPE) : 15.8909\n"
          ]
        }
      ]
    },
    {
      "cell_type": "markdown",
      "metadata": {
        "id": "E-5zZflKuLyL"
      },
      "source": [
        "- Mean Error (ME) (-0.0000): Very good, indicating no systematic bias in predictions.\n",
        "- Root Mean Squared Error (RMSE) (0.0788): Relatively low. Lower values are better, indicating good model accuracy.\n",
        "- Mean Absolute Error (MAE) (0.0615): Also low, suggesting good predictive accuracy of the model.\n",
        "- Mean Percentage Error (MPE) (-3.9820): Indicates a tendency to slightly underestimate.\n",
        "- Mean Absolute Percentage Error (MAPE) (15.8832): Reflects the average error in percentage terms and this value is relatively low."
      ]
    },
    {
      "cell_type": "code",
      "execution_count": null,
      "metadata": {
        "colab": {
          "base_uri": "https://localhost:8080/"
        },
        "id": "_1L-y1pjuLyL",
        "outputId": "f4693de8-9654-400d-b8bf-8822191afe8c"
      },
      "outputs": [
        {
          "output_type": "stream",
          "name": "stdout",
          "text": [
            "\n",
            "Regression statistics\n",
            "\n",
            "                      Mean Error (ME) : 0.0001\n",
            "       Root Mean Squared Error (RMSE) : 0.0794\n",
            "            Mean Absolute Error (MAE) : 0.0618\n",
            "          Mean Percentage Error (MPE) : -4.0908\n",
            "Mean Absolute Percentage Error (MAPE) : 16.0132\n"
          ]
        }
      ],
      "source": [
        "regressionSummary(valid_y, new_model.predict(valid_X))"
      ]
    },
    {
      "cell_type": "markdown",
      "source": [
        "**Comparison Between Training and Validation:**\n",
        "\n",
        "- Mean Error (ME): Close to zero in both cases, indicating no significant systematic bias in either training or validation predictions.\n",
        "- Root Mean Squared Error (RMSE): Slightly higher in the validation set (0.0794 vs. 0.0788), but the difference is minimal, suggesting consistent prediction errors across both datasets.\n",
        "- Mean Absolute Error (MAE) and Mean Absolute Percentage Error (MAPE): Slightly higher on the validation set, which is normal since the model was trained to minimize errors on the training data.\n",
        "- Mean Percentage Error (MPE): The negative values in both cases suggest a slight tendency of the model to underestimate in both training and validation, with a marginally higher underestimation in the validation set.\n",
        "\n",
        "**Overall:**\n",
        "The similarity of these statistics indicates a well-generalized model with consistent performance across both training and validation datasets. There is lack a of overfitting and underfitting, which means our model is strong and consistent"
      ],
      "metadata": {
        "id": "rb28UTu4wMo9"
      }
    },
    {
      "cell_type": "code",
      "execution_count": null,
      "metadata": {
        "colab": {
          "base_uri": "https://localhost:8080/"
        },
        "id": "_QYBG5fvuLyL",
        "outputId": "815c23e2-c848-4b62-ca21-51c7126121c4"
      },
      "outputs": [
        {
          "output_type": "stream",
          "name": "stdout",
          "text": [
            "      Predicted  Actual  Residual\n",
            "5198   0.432271    0.50  0.067729\n",
            "4233   0.443991    0.47  0.026009\n",
            "39     0.393400    0.35 -0.043400\n",
            "7226   0.483015    0.45 -0.033015\n",
            "1844   0.373238    0.50  0.126762\n",
            "5326   0.448510    0.49  0.041490\n",
            "5444   0.457992    0.40 -0.057992\n",
            "7416   0.476301    0.44 -0.036301\n",
            "1350   0.320600    0.25 -0.070600\n",
            "1060   0.379437    0.35 -0.029437\n",
            "1436   0.386744    0.50  0.113256\n",
            "7413   0.497395    0.50  0.002605\n",
            "2851   0.450233    0.35 -0.100233\n",
            "487    0.386499    0.25 -0.136499\n",
            "8245   0.377512    0.27 -0.107512\n",
            "7807   0.373196    0.34 -0.033196\n",
            "6280   0.444579    0.46  0.015421\n",
            "2474   0.457294    0.50  0.042706\n",
            "3995   0.474112    0.60  0.125888\n",
            "6832   0.456097    0.44 -0.016097\n"
          ]
        }
      ],
      "source": [
        "# Create a dataframe showing model predictions vs. the actual values.\n",
        "result = pd.DataFrame({'Predicted': new_model.predict(valid_X), 'Actual': valid_y,\n",
        "                       'Residual': valid_y - new_model.predict(valid_X)})\n",
        "#Print the first 20 predictions\n",
        "print(result.head(20))"
      ]
    },
    {
      "cell_type": "code",
      "execution_count": null,
      "metadata": {
        "colab": {
          "base_uri": "https://localhost:8080/",
          "height": 556
        },
        "id": "ctaz9_GJuLyM",
        "outputId": "f77b09af-8196-47d2-b238-ee14181db2f0"
      },
      "outputs": [
        {
          "output_type": "stream",
          "name": "stdout",
          "text": [
            "1.0\n"
          ]
        },
        {
          "output_type": "display_data",
          "data": {
            "text/plain": [
              "<Figure size 640x480 with 1 Axes>"
            ],
            "image/png": "[encoded data removed]"
          },
          "metadata": {}
        },
        {
          "output_type": "stream",
          "name": "stdout",
          "text": [
            "This histogram is a great indicator that our model is reliable and makes accurate predictions.\n",
            "As we can see from this bell-curve, most of the models predictions are off from between -0.1 to 0.1, which is an extremely low different.\n",
            "The higher the residuals, the less occurences there are.\n"
          ]
        }
      ],
      "source": [
        "all_residuals = valid_y - new_model.predict(valid_X)\n",
        "\n",
        "# Determine the percentage of datapoints with a residual in [-1406, 1406] = approx. 75\\%\n",
        "print(len(all_residuals[(all_residuals > -1406) & (all_residuals < 1406)]) / len(all_residuals))\n",
        "\n",
        "ax = pd.DataFrame({'Residuals': all_residuals}).hist(bins=25)\n",
        "\n",
        "plt.tight_layout()\n",
        "plt.show()\n",
        "print('This histogram is a great indicator that our model is reliable and makes accurate predictions.')\n",
        "print('As we can see from this bell-curve, most of the models predictions are off from between -0.1 to 0.1, which is an extremely low different.')\n",
        "print('The higher the residuals, the less occurences there are.')"
      ]
    },
    {
      "cell_type": "markdown",
      "metadata": {
        "id": "mXtkctpL30dW"
      },
      "source": [
        "###**Train at least one more predictive model (e.g., KNN, Regression Trees, Neural Net)**\n",
        "-  Train the model. Note that this section may require different\n",
        "preprocessing compared to OLS. Discuss if any changes to processing\n",
        "are required. (40 points).\n",
        "-  Report MAE, Average error, MAPE, and RMSE for the best model for\n",
        "both training and validation sets (15 points).\n",
        "-  Draw histogram of residuals for the best model using validation set and\n",
        "interpret it (10 points)."
      ]
    },
    {
      "cell_type": "markdown",
      "source": [
        "*I am going to do a KNN regressor prediction model. In KNN for regression, the output is a continuous value. The value is calculated as the average of the values of its k nearest neighbors.*"
      ],
      "metadata": {
        "id": "SoLdsbJmGnXg"
      }
    },
    {
      "cell_type": "markdown",
      "source": [
        "**Preprocessing**"
      ],
      "metadata": {
        "id": "drZTP3GGBbly"
      }
    },
    {
      "cell_type": "code",
      "source": [
        "# Partition Data\n",
        "train_data, test_data = train_test_split(new_df,test_size = 0.4, random_state = 26)\n",
        "print(train_data.shape, test_data.shape)"
      ],
      "metadata": {
        "colab": {
          "base_uri": "https://localhost:8080/"
        },
        "id": "fG9ti2w2BfGI",
        "outputId": "575a0254-8b00-4ced-d2b3-f028fa7ac8ea"
      },
      "execution_count": null,
      "outputs": [
        {
          "output_type": "stream",
          "name": "stdout",
          "text": [
            "(5751, 21) (3834, 21)\n"
          ]
        }
      ]
    },
    {
      "cell_type": "code",
      "source": [
        "from sklearn import preprocessing\n",
        "from sklearn.model_selection import train_test_split\n",
        "from sklearn.metrics import accuracy_score\n",
        "from sklearn.neighbors import NearestNeighbors, KNeighborsClassifier\n",
        "import matplotlib.pylab as plt\n",
        "\n",
        "# Create train_features variable, which contains all of the predictors. This is for training data.\n",
        "train_features = train_data.drop(columns = 'Operating Margin')\n",
        "\n",
        "#Create train_label variable, which contains 'Operating Margin', which will be out classification. This is for training data.\n",
        "train_label = train_data['Operating Margin']\n",
        "\n",
        "# Initialize model\n",
        "scaler = preprocessing.StandardScaler()\n",
        "\n",
        "# Fit the training data\n",
        "scaler.fit(train_features)\n",
        "\n",
        "# Normalize the training data features\n",
        "train_norm_features = pd.DataFrame(scaler.transform(train_features), columns=train_features.columns)\n",
        "\n",
        "# Create a new data frame consisting of normalized data and concat classifier \"Operating Margin\" into new df.\n",
        "trainNorm = pd.concat([train_norm_features, train_label.reset_index(drop=True)], axis=1)\n",
        "\n",
        "#View normalized dataframe of training set\n",
        "trainNorm.head()"
      ],
      "metadata": {
        "colab": {
          "base_uri": "https://localhost:8080/",
          "height": 308
        },
        "id": "n5eXJTMYCQF3",
        "outputId": "798996a3-81cb-47b9-e0dd-b23062e5adc8"
      },
      "execution_count": null,
      "outputs": [
        {
          "output_type": "execute_result",
          "data": {
            "text/plain": [
              "   Retailer_Foot Locker  Retailer_Kohl's  Retailer_Sports Direct  \\\n",
              "0              1.614200        -0.341295               -0.514037   \n",
              "1             -0.619502        -0.341295               -0.514037   \n",
              "2             -0.619502        -0.341295               -0.514037   \n",
              "3             -0.619502         2.930017               -0.514037   \n",
              "4             -0.619502        -0.341295                1.945386   \n",
              "\n",
              "   Retailer_Walmart  Retailer_West Gear  Region_Northeast  Region_South  \\\n",
              "0         -0.259179           -0.570724          1.758760     -0.466815   \n",
              "1          3.858334           -0.570724         -0.568582      2.142177   \n",
              "2         -0.259179            1.752160         -0.568582     -0.466815   \n",
              "3         -0.259179           -0.570724         -0.568582     -0.466815   \n",
              "4         -0.259179           -0.570724         -0.568582     -0.466815   \n",
              "\n",
              "   Region_Southeast  Region_West  Product Type_Men's Athletic Footwear  ...  \\\n",
              "0         -0.381599    -0.584378                             -0.451546  ...   \n",
              "1         -0.381599    -0.584378                             -0.451546  ...   \n",
              "2         -0.381599     1.711221                             -0.451546  ...   \n",
              "3         -0.381599    -0.584378                             -0.451546  ...   \n",
              "4          2.620554    -0.584378                             -0.451546  ...   \n",
              "\n",
              "   Product Type_Women's Apparel  Product Type_Women's Athletic Footwear  \\\n",
              "0                     -0.444271                               -0.444551   \n",
              "1                     -0.444271                               -0.444551   \n",
              "2                     -0.444271                               -0.444551   \n",
              "3                      2.250879                               -0.444551   \n",
              "4                     -0.444271                               -0.444551   \n",
              "\n",
              "   Product Type_Women's Street Footwear  Sales Method_Online  \\\n",
              "0                              2.190292            -1.006105   \n",
              "1                              2.190292             0.993933   \n",
              "2                              2.190292             0.993933   \n",
              "3                             -0.456560            -1.006105   \n",
              "4                              2.190292            -1.006105   \n",
              "\n",
              "   Sales Method_Outlet  Price per Unit Level_Low  \\\n",
              "0             1.482152                  1.325002   \n",
              "1            -0.674694                  1.325002   \n",
              "2            -0.674694                 -0.754716   \n",
              "3             1.482152                 -0.754716   \n",
              "4             1.482152                 -0.754716   \n",
              "\n",
              "   Price per Unit Level_Moderate  Price per Unit Level_High  \\\n",
              "0                      -0.916690                  -0.375293   \n",
              "1                      -0.916690                  -0.375293   \n",
              "2                       1.090882                  -0.375293   \n",
              "3                       1.090882                  -0.375293   \n",
              "4                       1.090882                  -0.375293   \n",
              "\n",
              "   Price per Unit Level_Very High  Operating Margin  \n",
              "0                       -0.133702              0.42  \n",
              "1                       -0.133702              0.46  \n",
              "2                       -0.133702              0.55  \n",
              "3                       -0.133702              0.25  \n",
              "4                       -0.133702              0.42  \n",
              "\n",
              "[5 rows x 21 columns]"
            ],
            "text/html": [
              "\n",
              "  <div id=\"df-bbbf35a8-8062-4bc8-91a6-bc298672cba8\" class=\"colab-df-container\">\n",
              "    <div>\n",
              "<style scoped>\n",
              "    .dataframe tbody tr th:only-of-type {\n",
              "        vertical-align: middle;\n",
              "    }\n",
              "\n",
              "    .dataframe tbody tr th {\n",
              "        vertical-align: top;\n",
              "    }\n",
              "\n",
              "    .dataframe thead th {\n",
              "        text-align: right;\n",
              "    }\n",
              "</style>\n",
              "<table border=\"1\" class=\"dataframe\">\n",
              "  <thead>\n",
              "    <tr style=\"text-align: right;\">\n",
              "      <th></th>\n",
              "      <th>Retailer_Foot Locker</th>\n",
              "      <th>Retailer_Kohl's</th>\n",
              "      <th>Retailer_Sports Direct</th>\n",
              "      <th>Retailer_Walmart</th>\n",
              "      <th>Retailer_West Gear</th>\n",
              "      <th>Region_Northeast</th>\n",
              "      <th>Region_South</th>\n",
              "      <th>Region_Southeast</th>\n",
              "      <th>Region_West</th>\n",
              "      <th>Product Type_Men's Athletic Footwear</th>\n",
              "      <th>...</th>\n",
              "      <th>Product Type_Women's Apparel</th>\n",
              "      <th>Product Type_Women's Athletic Footwear</th>\n",
              "      <th>Product Type_Women's Street Footwear</th>\n",
              "      <th>Sales Method_Online</th>\n",
              "      <th>Sales Method_Outlet</th>\n",
              "      <th>Price per Unit Level_Low</th>\n",
              "      <th>Price per Unit Level_Moderate</th>\n",
              "      <th>Price per Unit Level_High</th>\n",
              "      <th>Price per Unit Level_Very High</th>\n",
              "      <th>Operating Margin</th>\n",
              "    </tr>\n",
              "  </thead>\n",
              "  <tbody>\n",
              "    <tr>\n",
              "      <th>0</th>\n",
              "      <td>1.614200</td>\n",
              "      <td>-0.341295</td>\n",
              "      <td>-0.514037</td>\n",
              "      <td>-0.259179</td>\n",
              "      <td>-0.570724</td>\n",
              "      <td>1.758760</td>\n",
              "      <td>-0.466815</td>\n",
              "      <td>-0.381599</td>\n",
              "      <td>-0.584378</td>\n",
              "      <td>-0.451546</td>\n",
              "      <td>...</td>\n",
              "      <td>-0.444271</td>\n",
              "      <td>-0.444551</td>\n",
              "      <td>2.190292</td>\n",
              "      <td>-1.006105</td>\n",
              "      <td>1.482152</td>\n",
              "      <td>1.325002</td>\n",
              "      <td>-0.916690</td>\n",
              "      <td>-0.375293</td>\n",
              "      <td>-0.133702</td>\n",
              "      <td>0.42</td>\n",
              "    </tr>\n",
              "    <tr>\n",
              "      <th>1</th>\n",
              "      <td>-0.619502</td>\n",
              "      <td>-0.341295</td>\n",
              "      <td>-0.514037</td>\n",
              "      <td>3.858334</td>\n",
              "      <td>-0.570724</td>\n",
              "      <td>-0.568582</td>\n",
              "      <td>2.142177</td>\n",
              "      <td>-0.381599</td>\n",
              "      <td>-0.584378</td>\n",
              "      <td>-0.451546</td>\n",
              "      <td>...</td>\n",
              "      <td>-0.444271</td>\n",
              "      <td>-0.444551</td>\n",
              "      <td>2.190292</td>\n",
              "      <td>0.993933</td>\n",
              "      <td>-0.674694</td>\n",
              "      <td>1.325002</td>\n",
              "      <td>-0.916690</td>\n",
              "      <td>-0.375293</td>\n",
              "      <td>-0.133702</td>\n",
              "      <td>0.46</td>\n",
              "    </tr>\n",
              "    <tr>\n",
              "      <th>2</th>\n",
              "      <td>-0.619502</td>\n",
              "      <td>-0.341295</td>\n",
              "      <td>-0.514037</td>\n",
              "      <td>-0.259179</td>\n",
              "      <td>1.752160</td>\n",
              "      <td>-0.568582</td>\n",
              "      <td>-0.466815</td>\n",
              "      <td>-0.381599</td>\n",
              "      <td>1.711221</td>\n",
              "      <td>-0.451546</td>\n",
              "      <td>...</td>\n",
              "      <td>-0.444271</td>\n",
              "      <td>-0.444551</td>\n",
              "      <td>2.190292</td>\n",
              "      <td>0.993933</td>\n",
              "      <td>-0.674694</td>\n",
              "      <td>-0.754716</td>\n",
              "      <td>1.090882</td>\n",
              "      <td>-0.375293</td>\n",
              "      <td>-0.133702</td>\n",
              "      <td>0.55</td>\n",
              "    </tr>\n",
              "    <tr>\n",
              "      <th>3</th>\n",
              "      <td>-0.619502</td>\n",
              "      <td>2.930017</td>\n",
              "      <td>-0.514037</td>\n",
              "      <td>-0.259179</td>\n",
              "      <td>-0.570724</td>\n",
              "      <td>-0.568582</td>\n",
              "      <td>-0.466815</td>\n",
              "      <td>-0.381599</td>\n",
              "      <td>-0.584378</td>\n",
              "      <td>-0.451546</td>\n",
              "      <td>...</td>\n",
              "      <td>2.250879</td>\n",
              "      <td>-0.444551</td>\n",
              "      <td>-0.456560</td>\n",
              "      <td>-1.006105</td>\n",
              "      <td>1.482152</td>\n",
              "      <td>-0.754716</td>\n",
              "      <td>1.090882</td>\n",
              "      <td>-0.375293</td>\n",
              "      <td>-0.133702</td>\n",
              "      <td>0.25</td>\n",
              "    </tr>\n",
              "    <tr>\n",
              "      <th>4</th>\n",
              "      <td>-0.619502</td>\n",
              "      <td>-0.341295</td>\n",
              "      <td>1.945386</td>\n",
              "      <td>-0.259179</td>\n",
              "      <td>-0.570724</td>\n",
              "      <td>-0.568582</td>\n",
              "      <td>-0.466815</td>\n",
              "      <td>2.620554</td>\n",
              "      <td>-0.584378</td>\n",
              "      <td>-0.451546</td>\n",
              "      <td>...</td>\n",
              "      <td>-0.444271</td>\n",
              "      <td>-0.444551</td>\n",
              "      <td>2.190292</td>\n",
              "      <td>-1.006105</td>\n",
              "      <td>1.482152</td>\n",
              "      <td>-0.754716</td>\n",
              "      <td>1.090882</td>\n",
              "      <td>-0.375293</td>\n",
              "      <td>-0.133702</td>\n",
              "      <td>0.42</td>\n",
              "    </tr>\n",
              "  </tbody>\n",
              "</table>\n",
              "<p>5 rows × 21 columns</p>\n",
              "</div>\n",
              "    <div class=\"colab-df-buttons\">\n",
              "\n",
              "  <div class=\"colab-df-container\">\n",
              "    <button class=\"colab-df-convert\" onclick=\"convertToInteractive('df-bbbf35a8-8062-4bc8-91a6-bc298672cba8')\"\n",
              "            title=\"Convert this dataframe to an interactive table.\"\n",
              "            style=\"display:none;\">\n",
              "\n",
              "  <svg xmlns=\"http://www.w3.org/2000/svg\" height=\"24px\" viewBox=\"0 -960 960 960\">\n",
              "    <path d=\"M120-120v-720h720v720H120Zm60-500h600v-160H180v160Zm220 220h160v-160H400v160Zm0 220h160v-160H400v160ZM180-400h160v-160H180v160Zm440 0h160v-160H620v160ZM180-180h160v-160H180v160Zm440 0h160v-160H620v160Z\"/>\n",
              "  </svg>\n",
              "    </button>\n",
              "\n",
              "  <style>\n",
              "    .colab-df-container {\n",
              "      display:flex;\n",
              "      gap: 12px;\n",
              "    }\n",
              "\n",
              "    .colab-df-convert {\n",
              "      background-color: #E8F0FE;\n",
              "      border: none;\n",
              "      border-radius: 50%;\n",
              "      cursor: pointer;\n",
              "      display: none;\n",
              "      fill: #1967D2;\n",
              "      height: 32px;\n",
              "      padding: 0 0 0 0;\n",
              "      width: 32px;\n",
              "    }\n",
              "\n",
              "    .colab-df-convert:hover {\n",
              "      background-color: #E2EBFA;\n",
              "      box-shadow: 0px 1px 2px rgba(60, 64, 67, 0.3), 0px 1px 3px 1px rgba(60, 64, 67, 0.15);\n",
              "      fill: #174EA6;\n",
              "    }\n",
              "\n",
              "    .colab-df-buttons div {\n",
              "      margin-bottom: 4px;\n",
              "    }\n",
              "\n",
              "    [theme=dark] .colab-df-convert {\n",
              "      background-color: #3B4455;\n",
              "      fill: #D2E3FC;\n",
              "    }\n",
              "\n",
              "    [theme=dark] .colab-df-convert:hover {\n",
              "      background-color: #434B5C;\n",
              "      box-shadow: 0px 1px 3px 1px rgba(0, 0, 0, 0.15);\n",
              "      filter: drop-shadow(0px 1px 2px rgba(0, 0, 0, 0.3));\n",
              "      fill: #FFFFFF;\n",
              "    }\n",
              "  </style>\n",
              "\n",
              "    <script>\n",
              "      const buttonEl =\n",
              "        document.querySelector('#df-bbbf35a8-8062-4bc8-91a6-bc298672cba8 button.colab-df-convert');\n",
              "      buttonEl.style.display =\n",
              "        google.colab.kernel.accessAllowed ? 'block' : 'none';\n",
              "\n",
              "      async function convertToInteractive(key) {\n",
              "        const element = document.querySelector('#df-bbbf35a8-8062-4bc8-91a6-bc298672cba8');\n",
              "        const dataTable =\n",
              "          await google.colab.kernel.invokeFunction('convertToInteractive',\n",
              "                                                    [key], {});\n",
              "        if (!dataTable) return;\n",
              "\n",
              "        const docLinkHtml = 'Like what you see? Visit the ' +\n",
              "          '<a target=\"_blank\" href=https://colab.research.google.com/notebooks/data_table.ipynb>data table notebook</a>'\n",
              "          + ' to learn more about interactive tables.';\n",
              "        element.innerHTML = '';\n",
              "        dataTable['output_type'] = 'display_data';\n",
              "        await google.colab.output.renderOutput(dataTable, element);\n",
              "        const docLink = document.createElement('div');\n",
              "        docLink.innerHTML = docLinkHtml;\n",
              "        element.appendChild(docLink);\n",
              "      }\n",
              "    </script>\n",
              "  </div>\n",
              "\n",
              "\n",
              "<div id=\"df-84f433b0-ca67-4eab-96e8-4b818ce6a733\">\n",
              "  <button class=\"colab-df-quickchart\" onclick=\"quickchart('df-84f433b0-ca67-4eab-96e8-4b818ce6a733')\"\n",
              "            title=\"Suggest charts\"\n",
              "            style=\"display:none;\">\n",
              "\n",
              "<svg xmlns=\"http://www.w3.org/2000/svg\" height=\"24px\"viewBox=\"0 0 24 24\"\n",
              "     width=\"24px\">\n",
              "    <g>\n",
              "        <path d=\"M19 3H5c-1.1 0-2 .9-2 2v14c0 1.1.9 2 2 2h14c1.1 0 2-.9 2-2V5c0-1.1-.9-2-2-2zM9 17H7v-7h2v7zm4 0h-2V7h2v10zm4 0h-2v-4h2v4z\"/>\n",
              "    </g>\n",
              "</svg>\n",
              "  </button>\n",
              "\n",
              "<style>\n",
              "  .colab-df-quickchart {\n",
              "      --bg-color: #E8F0FE;\n",
              "      --fill-color: #1967D2;\n",
              "      --hover-bg-color: #E2EBFA;\n",
              "      --hover-fill-color: #174EA6;\n",
              "      --disabled-fill-color: #AAA;\n",
              "      --disabled-bg-color: #DDD;\n",
              "  }\n",
              "\n",
              "  [theme=dark] .colab-df-quickchart {\n",
              "      --bg-color: #3B4455;\n",
              "      --fill-color: #D2E3FC;\n",
              "      --hover-bg-color: #434B5C;\n",
              "      --hover-fill-color: #FFFFFF;\n",
              "      --disabled-bg-color: #3B4455;\n",
              "      --disabled-fill-color: #666;\n",
              "  }\n",
              "\n",
              "  .colab-df-quickchart {\n",
              "    background-color: var(--bg-color);\n",
              "    border: none;\n",
              "    border-radius: 50%;\n",
              "    cursor: pointer;\n",
              "    display: none;\n",
              "    fill: var(--fill-color);\n",
              "    height: 32px;\n",
              "    padding: 0;\n",
              "    width: 32px;\n",
              "  }\n",
              "\n",
              "  .colab-df-quickchart:hover {\n",
              "    background-color: var(--hover-bg-color);\n",
              "    box-shadow: 0 1px 2px rgba(60, 64, 67, 0.3), 0 1px 3px 1px rgba(60, 64, 67, 0.15);\n",
              "    fill: var(--button-hover-fill-color);\n",
              "  }\n",
              "\n",
              "  .colab-df-quickchart-complete:disabled,\n",
              "  .colab-df-quickchart-complete:disabled:hover {\n",
              "    background-color: var(--disabled-bg-color);\n",
              "    fill: var(--disabled-fill-color);\n",
              "    box-shadow: none;\n",
              "  }\n",
              "\n",
              "  .colab-df-spinner {\n",
              "    border: 2px solid var(--fill-color);\n",
              "    border-color: transparent;\n",
              "    border-bottom-color: var(--fill-color);\n",
              "    animation:\n",
              "      spin 1s steps(1) infinite;\n",
              "  }\n",
              "\n",
              "  @keyframes spin {\n",
              "    0% {\n",
              "      border-color: transparent;\n",
              "      border-bottom-color: var(--fill-color);\n",
              "      border-left-color: var(--fill-color);\n",
              "    }\n",
              "    20% {\n",
              "      border-color: transparent;\n",
              "      border-left-color: var(--fill-color);\n",
              "      border-top-color: var(--fill-color);\n",
              "    }\n",
              "    30% {\n",
              "      border-color: transparent;\n",
              "      border-left-color: var(--fill-color);\n",
              "      border-top-color: var(--fill-color);\n",
              "      border-right-color: var(--fill-color);\n",
              "    }\n",
              "    40% {\n",
              "      border-color: transparent;\n",
              "      border-right-color: var(--fill-color);\n",
              "      border-top-color: var(--fill-color);\n",
              "    }\n",
              "    60% {\n",
              "      border-color: transparent;\n",
              "      border-right-color: var(--fill-color);\n",
              "    }\n",
              "    80% {\n",
              "      border-color: transparent;\n",
              "      border-right-color: var(--fill-color);\n",
              "      border-bottom-color: var(--fill-color);\n",
              "    }\n",
              "    90% {\n",
              "      border-color: transparent;\n",
              "      border-bottom-color: var(--fill-color);\n",
              "    }\n",
              "  }\n",
              "</style>\n",
              "\n",
              "  <script>\n",
              "    async function quickchart(key) {\n",
              "      const quickchartButtonEl =\n",
              "        document.querySelector('#' + key + ' button');\n",
              "      quickchartButtonEl.disabled = true;  // To prevent multiple clicks.\n",
              "      quickchartButtonEl.classList.add('colab-df-spinner');\n",
              "      try {\n",
              "        const charts = await google.colab.kernel.invokeFunction(\n",
              "            'suggestCharts', [key], {});\n",
              "      } catch (error) {\n",
              "        console.error('Error during call to suggestCharts:', error);\n",
              "      }\n",
              "      quickchartButtonEl.classList.remove('colab-df-spinner');\n",
              "      quickchartButtonEl.classList.add('colab-df-quickchart-complete');\n",
              "    }\n",
              "    (() => {\n",
              "      let quickchartButtonEl =\n",
              "        document.querySelector('#df-84f433b0-ca67-4eab-96e8-4b818ce6a733 button');\n",
              "      quickchartButtonEl.style.display =\n",
              "        google.colab.kernel.accessAllowed ? 'block' : 'none';\n",
              "    })();\n",
              "  </script>\n",
              "</div>\n",
              "    </div>\n",
              "  </div>\n"
            ]
          },
          "metadata": {},
          "execution_count": 317
        }
      ]
    },
    {
      "cell_type": "code",
      "source": [
        "# Create a variable \"test_features\", which will hold our predictors from our test data\n",
        "test_features = test_data.drop(columns = 'Operating Margin')\n",
        "\n",
        "# Create a variable \"test_label\", which holds out classifier \"Personal Loan\"\n",
        "test_label = test_data['Operating Margin']\n",
        "\n",
        "#Normalize predictors \"test_features\"\n",
        "test_norm_features = pd.DataFrame(scaler.transform(test_features), columns = test_features.columns)\n",
        "\n",
        "# Concat classifier \"Personal Loan\"\n",
        "validNorm = pd.concat([test_norm_features, test_label.reset_index(drop=True)], axis = 1)\n",
        "\n",
        "# View new data frame\n",
        "validNorm.head()"
      ],
      "metadata": {
        "colab": {
          "base_uri": "https://localhost:8080/",
          "height": 308
        },
        "id": "WsLcOzHsDvH5",
        "outputId": "800bbceb-a8ce-4fb6-9953-158320c6545d"
      },
      "execution_count": null,
      "outputs": [
        {
          "output_type": "execute_result",
          "data": {
            "text/plain": [
              "   Retailer_Foot Locker  Retailer_Kohl's  Retailer_Sports Direct  \\\n",
              "0             -0.619502         2.930017               -0.514037   \n",
              "1              1.614200        -0.341295               -0.514037   \n",
              "2             -0.619502         2.930017               -0.514037   \n",
              "3             -0.619502        -0.341295                1.945386   \n",
              "4              1.614200        -0.341295               -0.514037   \n",
              "\n",
              "   Retailer_Walmart  Retailer_West Gear  Region_Northeast  Region_South  \\\n",
              "0         -0.259179           -0.570724         -0.568582     -0.466815   \n",
              "1         -0.259179           -0.570724         -0.568582     -0.466815   \n",
              "2         -0.259179           -0.570724         -0.568582     -0.466815   \n",
              "3         -0.259179           -0.570724          1.758760     -0.466815   \n",
              "4         -0.259179           -0.570724         -0.568582     -0.466815   \n",
              "\n",
              "   Region_Southeast  Region_West  Product Type_Men's Athletic Footwear  ...  \\\n",
              "0         -0.381599     1.711221                             -0.451546  ...   \n",
              "1         -0.381599    -0.584378                             -0.451546  ...   \n",
              "2         -0.381599     1.711221                             -0.451546  ...   \n",
              "3         -0.381599    -0.584378                             -0.451546  ...   \n",
              "4         -0.381599    -0.584378                              2.214615  ...   \n",
              "\n",
              "   Product Type_Women's Apparel  Product Type_Women's Athletic Footwear  \\\n",
              "0                     -0.444271                               -0.444551   \n",
              "1                     -0.444271                               -0.444551   \n",
              "2                     -0.444271                               -0.444551   \n",
              "3                     -0.444271                               -0.444551   \n",
              "4                     -0.444271                               -0.444551   \n",
              "\n",
              "   Product Type_Women's Street Footwear  Sales Method_Online  \\\n",
              "0                              -0.45656            -1.006105   \n",
              "1                              -0.45656            -1.006105   \n",
              "2                              -0.45656            -1.006105   \n",
              "3                              -0.45656            -1.006105   \n",
              "4                              -0.45656            -1.006105   \n",
              "\n",
              "   Sales Method_Outlet  Price per Unit Level_Low  \\\n",
              "0             1.482152                  1.325002   \n",
              "1             1.482152                  1.325002   \n",
              "2            -0.674694                 -0.754716   \n",
              "3            -0.674694                  1.325002   \n",
              "4             1.482152                 -0.754716   \n",
              "\n",
              "   Price per Unit Level_Moderate  Price per Unit Level_High  \\\n",
              "0                      -0.916690                  -0.375293   \n",
              "1                      -0.916690                  -0.375293   \n",
              "2                       1.090882                  -0.375293   \n",
              "3                      -0.916690                  -0.375293   \n",
              "4                       1.090882                  -0.375293   \n",
              "\n",
              "   Price per Unit Level_Very High  Operating Margin  \n",
              "0                       -0.133702              0.47  \n",
              "1                       -0.133702              0.35  \n",
              "2                       -0.133702              0.50  \n",
              "3                       -0.133702              0.30  \n",
              "4                       -0.133702              0.30  \n",
              "\n",
              "[5 rows x 21 columns]"
            ],
            "text/html": [
              "\n",
              "  <div id=\"df-acb7612b-ac62-4ee8-9fa4-904ed27240c4\" class=\"colab-df-container\">\n",
              "    <div>\n",
              "<style scoped>\n",
              "    .dataframe tbody tr th:only-of-type {\n",
              "        vertical-align: middle;\n",
              "    }\n",
              "\n",
              "    .dataframe tbody tr th {\n",
              "        vertical-align: top;\n",
              "    }\n",
              "\n",
              "    .dataframe thead th {\n",
              "        text-align: right;\n",
              "    }\n",
              "</style>\n",
              "<table border=\"1\" class=\"dataframe\">\n",
              "  <thead>\n",
              "    <tr style=\"text-align: right;\">\n",
              "      <th></th>\n",
              "      <th>Retailer_Foot Locker</th>\n",
              "      <th>Retailer_Kohl's</th>\n",
              "      <th>Retailer_Sports Direct</th>\n",
              "      <th>Retailer_Walmart</th>\n",
              "      <th>Retailer_West Gear</th>\n",
              "      <th>Region_Northeast</th>\n",
              "      <th>Region_South</th>\n",
              "      <th>Region_Southeast</th>\n",
              "      <th>Region_West</th>\n",
              "      <th>Product Type_Men's Athletic Footwear</th>\n",
              "      <th>...</th>\n",
              "      <th>Product Type_Women's Apparel</th>\n",
              "      <th>Product Type_Women's Athletic Footwear</th>\n",
              "      <th>Product Type_Women's Street Footwear</th>\n",
              "      <th>Sales Method_Online</th>\n",
              "      <th>Sales Method_Outlet</th>\n",
              "      <th>Price per Unit Level_Low</th>\n",
              "      <th>Price per Unit Level_Moderate</th>\n",
              "      <th>Price per Unit Level_High</th>\n",
              "      <th>Price per Unit Level_Very High</th>\n",
              "      <th>Operating Margin</th>\n",
              "    </tr>\n",
              "  </thead>\n",
              "  <tbody>\n",
              "    <tr>\n",
              "      <th>0</th>\n",
              "      <td>-0.619502</td>\n",
              "      <td>2.930017</td>\n",
              "      <td>-0.514037</td>\n",
              "      <td>-0.259179</td>\n",
              "      <td>-0.570724</td>\n",
              "      <td>-0.568582</td>\n",
              "      <td>-0.466815</td>\n",
              "      <td>-0.381599</td>\n",
              "      <td>1.711221</td>\n",
              "      <td>-0.451546</td>\n",
              "      <td>...</td>\n",
              "      <td>-0.444271</td>\n",
              "      <td>-0.444551</td>\n",
              "      <td>-0.45656</td>\n",
              "      <td>-1.006105</td>\n",
              "      <td>1.482152</td>\n",
              "      <td>1.325002</td>\n",
              "      <td>-0.916690</td>\n",
              "      <td>-0.375293</td>\n",
              "      <td>-0.133702</td>\n",
              "      <td>0.47</td>\n",
              "    </tr>\n",
              "    <tr>\n",
              "      <th>1</th>\n",
              "      <td>1.614200</td>\n",
              "      <td>-0.341295</td>\n",
              "      <td>-0.514037</td>\n",
              "      <td>-0.259179</td>\n",
              "      <td>-0.570724</td>\n",
              "      <td>-0.568582</td>\n",
              "      <td>-0.466815</td>\n",
              "      <td>-0.381599</td>\n",
              "      <td>-0.584378</td>\n",
              "      <td>-0.451546</td>\n",
              "      <td>...</td>\n",
              "      <td>-0.444271</td>\n",
              "      <td>-0.444551</td>\n",
              "      <td>-0.45656</td>\n",
              "      <td>-1.006105</td>\n",
              "      <td>1.482152</td>\n",
              "      <td>1.325002</td>\n",
              "      <td>-0.916690</td>\n",
              "      <td>-0.375293</td>\n",
              "      <td>-0.133702</td>\n",
              "      <td>0.35</td>\n",
              "    </tr>\n",
              "    <tr>\n",
              "      <th>2</th>\n",
              "      <td>-0.619502</td>\n",
              "      <td>2.930017</td>\n",
              "      <td>-0.514037</td>\n",
              "      <td>-0.259179</td>\n",
              "      <td>-0.570724</td>\n",
              "      <td>-0.568582</td>\n",
              "      <td>-0.466815</td>\n",
              "      <td>-0.381599</td>\n",
              "      <td>1.711221</td>\n",
              "      <td>-0.451546</td>\n",
              "      <td>...</td>\n",
              "      <td>-0.444271</td>\n",
              "      <td>-0.444551</td>\n",
              "      <td>-0.45656</td>\n",
              "      <td>-1.006105</td>\n",
              "      <td>-0.674694</td>\n",
              "      <td>-0.754716</td>\n",
              "      <td>1.090882</td>\n",
              "      <td>-0.375293</td>\n",
              "      <td>-0.133702</td>\n",
              "      <td>0.50</td>\n",
              "    </tr>\n",
              "    <tr>\n",
              "      <th>3</th>\n",
              "      <td>-0.619502</td>\n",
              "      <td>-0.341295</td>\n",
              "      <td>1.945386</td>\n",
              "      <td>-0.259179</td>\n",
              "      <td>-0.570724</td>\n",
              "      <td>1.758760</td>\n",
              "      <td>-0.466815</td>\n",
              "      <td>-0.381599</td>\n",
              "      <td>-0.584378</td>\n",
              "      <td>-0.451546</td>\n",
              "      <td>...</td>\n",
              "      <td>-0.444271</td>\n",
              "      <td>-0.444551</td>\n",
              "      <td>-0.45656</td>\n",
              "      <td>-1.006105</td>\n",
              "      <td>-0.674694</td>\n",
              "      <td>1.325002</td>\n",
              "      <td>-0.916690</td>\n",
              "      <td>-0.375293</td>\n",
              "      <td>-0.133702</td>\n",
              "      <td>0.30</td>\n",
              "    </tr>\n",
              "    <tr>\n",
              "      <th>4</th>\n",
              "      <td>1.614200</td>\n",
              "      <td>-0.341295</td>\n",
              "      <td>-0.514037</td>\n",
              "      <td>-0.259179</td>\n",
              "      <td>-0.570724</td>\n",
              "      <td>-0.568582</td>\n",
              "      <td>-0.466815</td>\n",
              "      <td>-0.381599</td>\n",
              "      <td>-0.584378</td>\n",
              "      <td>2.214615</td>\n",
              "      <td>...</td>\n",
              "      <td>-0.444271</td>\n",
              "      <td>-0.444551</td>\n",
              "      <td>-0.45656</td>\n",
              "      <td>-1.006105</td>\n",
              "      <td>1.482152</td>\n",
              "      <td>-0.754716</td>\n",
              "      <td>1.090882</td>\n",
              "      <td>-0.375293</td>\n",
              "      <td>-0.133702</td>\n",
              "      <td>0.30</td>\n",
              "    </tr>\n",
              "  </tbody>\n",
              "</table>\n",
              "<p>5 rows × 21 columns</p>\n",
              "</div>\n",
              "    <div class=\"colab-df-buttons\">\n",
              "\n",
              "  <div class=\"colab-df-container\">\n",
              "    <button class=\"colab-df-convert\" onclick=\"convertToInteractive('df-acb7612b-ac62-4ee8-9fa4-904ed27240c4')\"\n",
              "            title=\"Convert this dataframe to an interactive table.\"\n",
              "            style=\"display:none;\">\n",
              "\n",
              "  <svg xmlns=\"http://www.w3.org/2000/svg\" height=\"24px\" viewBox=\"0 -960 960 960\">\n",
              "    <path d=\"M120-120v-720h720v720H120Zm60-500h600v-160H180v160Zm220 220h160v-160H400v160Zm0 220h160v-160H400v160ZM180-400h160v-160H180v160Zm440 0h160v-160H620v160ZM180-180h160v-160H180v160Zm440 0h160v-160H620v160Z\"/>\n",
              "  </svg>\n",
              "    </button>\n",
              "\n",
              "  <style>\n",
              "    .colab-df-container {\n",
              "      display:flex;\n",
              "      gap: 12px;\n",
              "    }\n",
              "\n",
              "    .colab-df-convert {\n",
              "      background-color: #E8F0FE;\n",
              "      border: none;\n",
              "      border-radius: 50%;\n",
              "      cursor: pointer;\n",
              "      display: none;\n",
              "      fill: #1967D2;\n",
              "      height: 32px;\n",
              "      padding: 0 0 0 0;\n",
              "      width: 32px;\n",
              "    }\n",
              "\n",
              "    .colab-df-convert:hover {\n",
              "      background-color: #E2EBFA;\n",
              "      box-shadow: 0px 1px 2px rgba(60, 64, 67, 0.3), 0px 1px 3px 1px rgba(60, 64, 67, 0.15);\n",
              "      fill: #174EA6;\n",
              "    }\n",
              "\n",
              "    .colab-df-buttons div {\n",
              "      margin-bottom: 4px;\n",
              "    }\n",
              "\n",
              "    [theme=dark] .colab-df-convert {\n",
              "      background-color: #3B4455;\n",
              "      fill: #D2E3FC;\n",
              "    }\n",
              "\n",
              "    [theme=dark] .colab-df-convert:hover {\n",
              "      background-color: #434B5C;\n",
              "      box-shadow: 0px 1px 3px 1px rgba(0, 0, 0, 0.15);\n",
              "      filter: drop-shadow(0px 1px 2px rgba(0, 0, 0, 0.3));\n",
              "      fill: #FFFFFF;\n",
              "    }\n",
              "  </style>\n",
              "\n",
              "    <script>\n",
              "      const buttonEl =\n",
              "        document.querySelector('#df-acb7612b-ac62-4ee8-9fa4-904ed27240c4 button.colab-df-convert');\n",
              "      buttonEl.style.display =\n",
              "        google.colab.kernel.accessAllowed ? 'block' : 'none';\n",
              "\n",
              "      async function convertToInteractive(key) {\n",
              "        const element = document.querySelector('#df-acb7612b-ac62-4ee8-9fa4-904ed27240c4');\n",
              "        const dataTable =\n",
              "          await google.colab.kernel.invokeFunction('convertToInteractive',\n",
              "                                                    [key], {});\n",
              "        if (!dataTable) return;\n",
              "\n",
              "        const docLinkHtml = 'Like what you see? Visit the ' +\n",
              "          '<a target=\"_blank\" href=https://colab.research.google.com/notebooks/data_table.ipynb>data table notebook</a>'\n",
              "          + ' to learn more about interactive tables.';\n",
              "        element.innerHTML = '';\n",
              "        dataTable['output_type'] = 'display_data';\n",
              "        await google.colab.output.renderOutput(dataTable, element);\n",
              "        const docLink = document.createElement('div');\n",
              "        docLink.innerHTML = docLinkHtml;\n",
              "        element.appendChild(docLink);\n",
              "      }\n",
              "    </script>\n",
              "  </div>\n",
              "\n",
              "\n",
              "<div id=\"df-ecd6b997-5733-4b50-83b9-4672a9487936\">\n",
              "  <button class=\"colab-df-quickchart\" onclick=\"quickchart('df-ecd6b997-5733-4b50-83b9-4672a9487936')\"\n",
              "            title=\"Suggest charts\"\n",
              "            style=\"display:none;\">\n",
              "\n",
              "<svg xmlns=\"http://www.w3.org/2000/svg\" height=\"24px\"viewBox=\"0 0 24 24\"\n",
              "     width=\"24px\">\n",
              "    <g>\n",
              "        <path d=\"M19 3H5c-1.1 0-2 .9-2 2v14c0 1.1.9 2 2 2h14c1.1 0 2-.9 2-2V5c0-1.1-.9-2-2-2zM9 17H7v-7h2v7zm4 0h-2V7h2v10zm4 0h-2v-4h2v4z\"/>\n",
              "    </g>\n",
              "</svg>\n",
              "  </button>\n",
              "\n",
              "<style>\n",
              "  .colab-df-quickchart {\n",
              "      --bg-color: #E8F0FE;\n",
              "      --fill-color: #1967D2;\n",
              "      --hover-bg-color: #E2EBFA;\n",
              "      --hover-fill-color: #174EA6;\n",
              "      --disabled-fill-color: #AAA;\n",
              "      --disabled-bg-color: #DDD;\n",
              "  }\n",
              "\n",
              "  [theme=dark] .colab-df-quickchart {\n",
              "      --bg-color: #3B4455;\n",
              "      --fill-color: #D2E3FC;\n",
              "      --hover-bg-color: #434B5C;\n",
              "      --hover-fill-color: #FFFFFF;\n",
              "      --disabled-bg-color: #3B4455;\n",
              "      --disabled-fill-color: #666;\n",
              "  }\n",
              "\n",
              "  .colab-df-quickchart {\n",
              "    background-color: var(--bg-color);\n",
              "    border: none;\n",
              "    border-radius: 50%;\n",
              "    cursor: pointer;\n",
              "    display: none;\n",
              "    fill: var(--fill-color);\n",
              "    height: 32px;\n",
              "    padding: 0;\n",
              "    width: 32px;\n",
              "  }\n",
              "\n",
              "  .colab-df-quickchart:hover {\n",
              "    background-color: var(--hover-bg-color);\n",
              "    box-shadow: 0 1px 2px rgba(60, 64, 67, 0.3), 0 1px 3px 1px rgba(60, 64, 67, 0.15);\n",
              "    fill: var(--button-hover-fill-color);\n",
              "  }\n",
              "\n",
              "  .colab-df-quickchart-complete:disabled,\n",
              "  .colab-df-quickchart-complete:disabled:hover {\n",
              "    background-color: var(--disabled-bg-color);\n",
              "    fill: var(--disabled-fill-color);\n",
              "    box-shadow: none;\n",
              "  }\n",
              "\n",
              "  .colab-df-spinner {\n",
              "    border: 2px solid var(--fill-color);\n",
              "    border-color: transparent;\n",
              "    border-bottom-color: var(--fill-color);\n",
              "    animation:\n",
              "      spin 1s steps(1) infinite;\n",
              "  }\n",
              "\n",
              "  @keyframes spin {\n",
              "    0% {\n",
              "      border-color: transparent;\n",
              "      border-bottom-color: var(--fill-color);\n",
              "      border-left-color: var(--fill-color);\n",
              "    }\n",
              "    20% {\n",
              "      border-color: transparent;\n",
              "      border-left-color: var(--fill-color);\n",
              "      border-top-color: var(--fill-color);\n",
              "    }\n",
              "    30% {\n",
              "      border-color: transparent;\n",
              "      border-left-color: var(--fill-color);\n",
              "      border-top-color: var(--fill-color);\n",
              "      border-right-color: var(--fill-color);\n",
              "    }\n",
              "    40% {\n",
              "      border-color: transparent;\n",
              "      border-right-color: var(--fill-color);\n",
              "      border-top-color: var(--fill-color);\n",
              "    }\n",
              "    60% {\n",
              "      border-color: transparent;\n",
              "      border-right-color: var(--fill-color);\n",
              "    }\n",
              "    80% {\n",
              "      border-color: transparent;\n",
              "      border-right-color: var(--fill-color);\n",
              "      border-bottom-color: var(--fill-color);\n",
              "    }\n",
              "    90% {\n",
              "      border-color: transparent;\n",
              "      border-bottom-color: var(--fill-color);\n",
              "    }\n",
              "  }\n",
              "</style>\n",
              "\n",
              "  <script>\n",
              "    async function quickchart(key) {\n",
              "      const quickchartButtonEl =\n",
              "        document.querySelector('#' + key + ' button');\n",
              "      quickchartButtonEl.disabled = true;  // To prevent multiple clicks.\n",
              "      quickchartButtonEl.classList.add('colab-df-spinner');\n",
              "      try {\n",
              "        const charts = await google.colab.kernel.invokeFunction(\n",
              "            'suggestCharts', [key], {});\n",
              "      } catch (error) {\n",
              "        console.error('Error during call to suggestCharts:', error);\n",
              "      }\n",
              "      quickchartButtonEl.classList.remove('colab-df-spinner');\n",
              "      quickchartButtonEl.classList.add('colab-df-quickchart-complete');\n",
              "    }\n",
              "    (() => {\n",
              "      let quickchartButtonEl =\n",
              "        document.querySelector('#df-ecd6b997-5733-4b50-83b9-4672a9487936 button');\n",
              "      quickchartButtonEl.style.display =\n",
              "        google.colab.kernel.accessAllowed ? 'block' : 'none';\n",
              "    })();\n",
              "  </script>\n",
              "</div>\n",
              "    </div>\n",
              "  </div>\n"
            ]
          },
          "metadata": {},
          "execution_count": 318
        }
      ]
    },
    {
      "cell_type": "code",
      "source": [
        "#Create 4 variables train_X, train_y, valid_X, valid_y representing training features, training label, validation features, and validation label respectively.\n",
        "train_X = trainNorm.drop(columns = 'Operating Margin')\n",
        "train_y = trainNorm['Operating Margin']\n",
        "valid_X = validNorm.drop(columns = 'Operating Margin')\n",
        "valid_y = validNorm['Operating Margin']"
      ],
      "metadata": {
        "id": "7XRUvNsXDP71"
      },
      "execution_count": null,
      "outputs": []
    },
    {
      "cell_type": "code",
      "source": [
        "from sklearn.neighbors import KNeighborsRegressor\n",
        "\n",
        "# Assuming train_X and train_y are your training features and labels\n",
        "knn = KNeighborsRegressor(n_neighbors=5)  # Change n_neighbors as needed\n",
        "knn.fit(train_X, train_y)"
      ],
      "metadata": {
        "colab": {
          "base_uri": "https://localhost:8080/",
          "height": 75
        },
        "id": "cmt1HlQQD5Te",
        "outputId": "f7716ccb-1a6d-410e-d34d-da8050c02adf"
      },
      "execution_count": null,
      "outputs": [
        {
          "output_type": "execute_result",
          "data": {
            "text/plain": [
              "KNeighborsRegressor()"
            ],
            "text/html": [
              "<style>#sk-container-id-10 {color: black;background-color: white;}#sk-container-id-10 pre{padding: 0;}#sk-container-id-10 div.sk-toggleable {background-color: white;}#sk-container-id-10 label.sk-toggleable__label {cursor: pointer;display: block;width: 100%;margin-bottom: 0;padding: 0.3em;box-sizing: border-box;text-align: center;}#sk-container-id-10 label.sk-toggleable__label-arrow:before {content: \"▸\";float: left;margin-right: 0.25em;color: #696969;}#sk-container-id-10 label.sk-toggleable__label-arrow:hover:before {color: black;}#sk-container-id-10 div.sk-estimator:hover label.sk-toggleable__label-arrow:before {color: black;}#sk-container-id-10 div.sk-toggleable__content {max-height: 0;max-width: 0;overflow: hidden;text-align: left;background-color: #f0f8ff;}#sk-container-id-10 div.sk-toggleable__content pre {margin: 0.2em;color: black;border-radius: 0.25em;background-color: #f0f8ff;}#sk-container-id-10 input.sk-toggleable__control:checked~div.sk-toggleable__content {max-height: 200px;max-width: 100%;overflow: auto;}#sk-container-id-10 input.sk-toggleable__control:checked~label.sk-toggleable__label-arrow:before {content: \"▾\";}#sk-container-id-10 div.sk-estimator input.sk-toggleable__control:checked~label.sk-toggleable__label {background-color: #d4ebff;}#sk-container-id-10 div.sk-label input.sk-toggleable__control:checked~label.sk-toggleable__label {background-color: #d4ebff;}#sk-container-id-10 input.sk-hidden--visually {border: 0;clip: rect(1px 1px 1px 1px);clip: rect(1px, 1px, 1px, 1px);height: 1px;margin: -1px;overflow: hidden;padding: 0;position: absolute;width: 1px;}#sk-container-id-10 div.sk-estimator {font-family: monospace;background-color: #f0f8ff;border: 1px dotted black;border-radius: 0.25em;box-sizing: border-box;margin-bottom: 0.5em;}#sk-container-id-10 div.sk-estimator:hover {background-color: #d4ebff;}#sk-container-id-10 div.sk-parallel-item::after {content: \"\";width: 100%;border-bottom: 1px solid gray;flex-grow: 1;}#sk-container-id-10 div.sk-label:hover label.sk-toggleable__label {background-color: #d4ebff;}#sk-container-id-10 div.sk-serial::before {content: \"\";position: absolute;border-left: 1px solid gray;box-sizing: border-box;top: 0;bottom: 0;left: 50%;z-index: 0;}#sk-container-id-10 div.sk-serial {display: flex;flex-direction: column;align-items: center;background-color: white;padding-right: 0.2em;padding-left: 0.2em;position: relative;}#sk-container-id-10 div.sk-item {position: relative;z-index: 1;}#sk-container-id-10 div.sk-parallel {display: flex;align-items: stretch;justify-content: center;background-color: white;position: relative;}#sk-container-id-10 div.sk-item::before, #sk-container-id-10 div.sk-parallel-item::before {content: \"\";position: absolute;border-left: 1px solid gray;box-sizing: border-box;top: 0;bottom: 0;left: 50%;z-index: -1;}#sk-container-id-10 div.sk-parallel-item {display: flex;flex-direction: column;z-index: 1;position: relative;background-color: white;}#sk-container-id-10 div.sk-parallel-item:first-child::after {align-self: flex-end;width: 50%;}#sk-container-id-10 div.sk-parallel-item:last-child::after {align-self: flex-start;width: 50%;}#sk-container-id-10 div.sk-parallel-item:only-child::after {width: 0;}#sk-container-id-10 div.sk-dashed-wrapped {border: 1px dashed gray;margin: 0 0.4em 0.5em 0.4em;box-sizing: border-box;padding-bottom: 0.4em;background-color: white;}#sk-container-id-10 div.sk-label label {font-family: monospace;font-weight: bold;display: inline-block;line-height: 1.2em;}#sk-container-id-10 div.sk-label-container {text-align: center;}#sk-container-id-10 div.sk-container {/* jupyter's `normalize.less` sets `[hidden] { display: none; }` but bootstrap.min.css set `[hidden] { display: none !important; }` so we also need the `!important` here to be able to override the default hidden behavior on the sphinx rendered scikit-learn.org. See: https://github.com/scikit-learn/scikit-learn/issues/21755 */display: inline-block !important;position: relative;}#sk-container-id-10 div.sk-text-repr-fallback {display: none;}</style><div id=\"sk-container-id-10\" class=\"sk-top-container\"><div class=\"sk-text-repr-fallback\"><pre>KNeighborsRegressor()</pre><b>In a Jupyter environment, please rerun this cell to show the HTML representation or trust the notebook. <br />On GitHub, the HTML representation is unable to render, please try loading this page with nbviewer.org.</b></div><div class=\"sk-container\" hidden><div class=\"sk-item\"><div class=\"sk-estimator sk-toggleable\"><input class=\"sk-toggleable__control sk-hidden--visually\" id=\"sk-estimator-id-10\" type=\"checkbox\" checked><label for=\"sk-estimator-id-10\" class=\"sk-toggleable__label sk-toggleable__label-arrow\">KNeighborsRegressor</label><div class=\"sk-toggleable__content\"><pre>KNeighborsRegressor()</pre></div></div></div></div></div>"
            ]
          },
          "metadata": {},
          "execution_count": 320
        }
      ]
    },
    {
      "cell_type": "code",
      "source": [
        "# Predictions on the training set\n",
        "train_predictions = knn.predict(train_X)\n",
        "\n",
        "# Predictions on the validation set\n",
        "valid_predictions = knn.predict(valid_X)\n",
        "\n"
      ],
      "metadata": {
        "id": "1kVrJ9WjIAbT"
      },
      "execution_count": null,
      "outputs": []
    },
    {
      "cell_type": "code",
      "source": [
        "from sklearn.metrics import mean_absolute_error, mean_squared_error\n",
        "import numpy as np\n",
        "\n",
        "# Performance metrics calculations\n",
        "def calculate_metrics(y_true, y_pred):\n",
        "    mae = mean_absolute_error(y_true, y_pred)\n",
        "    rmse = mean_squared_error(y_true, y_pred, squared=False)\n",
        "    mape = np.mean(np.abs((y_true - y_pred) / y_true)) * 100\n",
        "    mpe = np.mean((y_true - y_pred) / y_true) * 100  # MPE calculation\n",
        "    return mae, rmse, mape, mpe\n",
        "\n",
        "# Metrics for the training set\n",
        "train_mae, train_rmse, train_mape, train_mpe = calculate_metrics(train_y, train_predictions)\n",
        "\n",
        "# Metrics for the validation set\n",
        "valid_mae, valid_rmse, valid_mape, valid_mpe = calculate_metrics(valid_y, valid_predictions)\n",
        "\n",
        "print(f\"Training - MAE: {train_mae}, RMSE: {train_rmse}, MAPE: {train_mape}, MPE: {train_mpe}\")\n",
        "print(f\"Validation - MAE: {valid_mae}, RMSE: {valid_rmse}, MAPE: {valid_mape}, MPE: {valid_mpe}\")\n",
        "\n"
      ],
      "metadata": {
        "colab": {
          "base_uri": "https://localhost:8080/"
        },
        "id": "J8gVZlxMKsnt",
        "outputId": "fe8718d1-4afa-4eec-d500-b552feab5594"
      },
      "execution_count": null,
      "outputs": [
        {
          "output_type": "stream",
          "name": "stdout",
          "text": [
            "Training - MAE: 0.046423230742479574, RMSE: 0.061239092052458574, MAPE: 11.691487282506504, MPE: -2.67149120414732\n",
            "Validation - MAE: 0.05543401147626501, RMSE: 0.07226106816143106, MAPE: 14.181047474669148, MPE: -3.646315976195387\n"
          ]
        }
      ]
    },
    {
      "cell_type": "markdown",
      "metadata": {
        "id": "B15gLer54OYB"
      },
      "source": [
        "###**Compare performance of OLS and the second model using a bar chart that includes all 4 of the above performance measures.**\n",
        "-  Select your best final model (20 points)."
      ]
    },
    {
      "cell_type": "markdown",
      "source": [
        "###**KNN Regressor**\n",
        "Training:\n",
        "\n",
        "      RMSE: 0.061239092052458574\n",
        "      MAE: 0.046423230742479574\n",
        "      MPE: -2.67149120414732\n",
        "      MAPE: 11.691487282506504\n",
        "\n",
        "\n",
        "Validation:\n",
        "\n",
        "\n",
        "     RMSE: 0.07226106816143106\n",
        "     MAE: 0.05543401147626501\n",
        "     MPE: -3.646315976195387\n",
        "     MAPE: 14.181047474669148\n"
      ],
      "metadata": {
        "id": "AvQhZSwmMGv_"
      }
    },
    {
      "cell_type": "markdown",
      "source": [
        "###**OLS**\n",
        "\n",
        "Training Data\n",
        "\n",
        "       Root Mean Squared Error (RMSE) : 0.0788\n",
        "       Mean Absolute Error (MAE) : 0.0615\n",
        "       Mean Percentage Error (MPE) : -3.9843\n",
        "       Mean Absolute Percentage Error (MAPE) : 15.8909\n",
        "\n",
        "\n",
        "\n",
        "Validation Data\n",
        "\n",
        "          Root Mean Squared Error (RMSE) : 0.0794\n",
        "          Mean Absolute Error (MAE) : 0.0618\n",
        "          Mean Percentage Error (MPE) : -4.0908\n",
        "          Mean Absolute Percentage Error (MAPE) : 16.013\n",
        "        \n"
      ],
      "metadata": {
        "id": "iz6-t8gOMgZy"
      }
    },
    {
      "cell_type": "markdown",
      "source": [
        "Bar Chart Comparison (Normalized)"
      ],
      "metadata": {
        "id": "Llk_AJ_YyLBM"
      }
    },
    {
      "cell_type": "code",
      "source": [
        "from sklearn.preprocessing import MinMaxScaler\n",
        "import matplotlib.pyplot as plt\n",
        "import numpy as np\n",
        "\n",
        "# Data for KNN and OLS models\n",
        "metrics = [\"RMSE\", \"MAE\", \"MPE\", \"MAPE\"]\n",
        "knn_training = [0.061239092052458574, 0.046423230742479574, -2.67149120414732, 11.691487282506504]\n",
        "ols_training = [0.0788, 0.0615, -3.9843, 15.8909]\n",
        "knn_validation = [0.07226106816143106, 0.05543401147626501, -3.646315976195387, 14.181047474669148]\n",
        "ols_validation = [0.0794, 0.0618, -4.0908, 16.013]\n",
        "\n",
        "# Combining all data for normalization\n",
        "all_data = np.array(knn_training + ols_training + knn_validation + ols_validation).reshape(-1, 1)\n",
        "\n",
        "# Normalizing the data\n",
        "scaler = MinMaxScaler()\n",
        "normalized_data = scaler.fit_transform(all_data)\n",
        "\n",
        "# Splitting the normalized data back to respective categories\n",
        "knn_training_norm, ols_training_norm, knn_validation_norm, ols_validation_norm = np.split(normalized_data, 4)\n",
        "\n",
        "# Number of metric groups and index for the groups\n",
        "n_groups = len(metrics)\n",
        "index = np.arange(n_groups)\n",
        "bar_width = 0.2\n",
        "opacity = 0.8\n",
        "\n",
        "# Create the figure\n",
        "fig, ax = plt.subplots()\n",
        "\n",
        "# Bar plots for each metric with normalized data\n",
        "rects1 = ax.bar(index - bar_width, knn_training_norm.flatten(), bar_width,\n",
        "                alpha=opacity, color='b', label='KNN Training')\n",
        "\n",
        "rects2 = ax.bar(index, ols_training_norm.flatten(), bar_width,\n",
        "                alpha=opacity, color='r', label='OLS Training')\n",
        "\n",
        "# Adding a dashed line to separate training and validation data for each metric\n",
        "for i in index:\n",
        "    ax.axvline(x=i + bar_width / 2, linestyle='--', color='grey', alpha=0.7)\n",
        "\n",
        "rects3 = ax.bar(index + bar_width, knn_validation_norm.flatten(), bar_width,\n",
        "                alpha=opacity, color='g', label='KNN Validation')\n",
        "\n",
        "rects4 = ax.bar(index + 2 * bar_width, ols_validation_norm.flatten(), bar_width,\n",
        "                alpha=opacity, color='y', label='OLS Validation')\n",
        "\n",
        "# Labels, title, and axes ticks\n",
        "ax.set_xlabel('Metrics')\n",
        "ax.set_ylabel('Normalized Values')\n",
        "ax.set_title('Normalized Comparative Metrics for KNN and OLS Models')\n",
        "ax.set_xticks(index + bar_width)\n",
        "ax.set_xticklabels(metrics)\n",
        "ax.legend()\n",
        "\n",
        "# Layout adjustment\n",
        "plt.tight_layout()\n",
        "\n",
        "# Show the plot\n",
        "plt.show()\n"
      ],
      "metadata": {
        "colab": {
          "base_uri": "https://localhost:8080/",
          "height": 487
        },
        "id": "jYdnnXhS3FeS",
        "outputId": "08c22621-47cf-4d58-a051-925bb5e8a84a"
      },
      "execution_count": null,
      "outputs": [
        {
          "output_type": "display_data",
          "data": {
            "text/plain": [
              "<Figure size 640x480 with 1 Axes>"
            ],
            "image/png": "[encoded data removed]"
          },
          "metadata": {}
        }
      ]
    },
    {
      "cell_type": "markdown",
      "source": [
        "As we can see from above, the RMSE and MAE for KNN and OLS are extremely similar with one another, for both training and validation data. However, for MPE and MAPE,\n",
        "\n",
        "- If accurate prediction of the direction of errors is important (e.g., knowing whether the model tends to overestimate or underestimate), the model with the smaller MPE, which is the **OLS Model**, might be preferred.\n",
        "- If minimizing the magnitude of errors is more critical (e.g., when the cost of an error is significant regardless of the direction), the model with the smaller MAPE, which is the **KNN Model** may be more desirable.\n",
        "\n",
        "My final decision is that the KNN model is the best performing model, based on the criteria that the forecast is more accurate and the errors are smaller in percentage terms (based on MAPE)."
      ],
      "metadata": {
        "id": "JxkhIvG34rcu"
      }
    }
  ],
  "metadata": {
    "colab": {
      "provenance": [],
      "include_colab_link": true
    },
    "kernelspec": {
      "display_name": "anaconda-2022.05-py39",
      "language": "python",
      "name": "conda-env-anaconda-2022.05-py39-py"
    },
    "language_info": {
      "codemirror_mode": {
        "name": "ipython",
        "version": 3
      },
      "file_extension": ".py",
      "mimetype": "text/x-python",
      "name": "python",
      "nbconvert_exporter": "python",
      "pygments_lexer": "ipython3",
      "version": "3.9.12"
    }
  },
  "nbformat": 4,
  "nbformat_minor": 0
}